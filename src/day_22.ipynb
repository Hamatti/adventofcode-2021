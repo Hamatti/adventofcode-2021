{
 "cells": [
  {
   "cell_type": "markdown",
   "id": "07cca9c1",
   "metadata": {},
   "source": [
    "# Day 22"
   ]
  },
  {
   "cell_type": "markdown",
   "id": "05a0222c",
   "metadata": {},
   "source": [
    "## Read input"
   ]
  },
  {
   "cell_type": "code",
   "execution_count": 51,
   "id": "e33a771a",
   "metadata": {},
   "outputs": [],
   "source": [
    "import re\n",
    "from collections import namedtuple\n",
    "\n",
    "from utils import read_input\n",
    "\n",
    "Point = namedtuple('Point', ['x', 'y', 'z'])\n",
    "Instruction = namedtuple('Instruction', ['action', 'start', 'end'])\n",
    "\n",
    "def transformer(line):\n",
    "    m = re.match(r'(?P<action>on|off) x=(?P<x>-?\\d+..-?\\d+),y=(?P<y>-?\\d+..-?\\d+),z=(?P<z>-?\\d+..-?\\d+)', line)\n",
    "    action = m.group('action')\n",
    "    x_range = m.group('x')\n",
    "    y_range = m.group('y')\n",
    "    z_range = m.group('z')\n",
    "    \n",
    "    x1, x2 = x_range.split('..')\n",
    "    y1, y2 = y_range.split('..')\n",
    "    z1, z2 = z_range.split('..')\n",
    "    \n",
    "    start = Point(x=int(x1), y=int(y1), z=int(z1))\n",
    "    end = Point(x=int(x2), y=int(y2), z=int(z2))\n",
    "    \n",
    "    return Instruction(action, start, end)\n",
    "    \n",
    "instructions = read_input(22, transformer, example=True)"
   ]
  },
  {
   "cell_type": "code",
   "execution_count": 10,
   "id": "5e404b8a",
   "metadata": {},
   "outputs": [
    {
     "name": "stdout",
     "output_type": "stream",
     "text": [
      "X:\n",
      "-97005\n",
      "96577\n",
      "Y:\n",
      "-96164\n",
      "97145\n",
      "Z:\n",
      "-96514\n",
      "96151\n"
     ]
    }
   ],
   "source": [
    "# Debug stuff\n",
    "\n",
    "all_starts = [i.start for i in instructions]\n",
    "all_ends = [i.end for i in instructions]\n",
    "all_points = all_starts + all_ends\n",
    "\n",
    "\n",
    "print(\"X:\")\n",
    "print(min(p.x for p in all_points))\n",
    "print(max(p.x for p in all_points))\n",
    "\n",
    "print(\"Y:\")\n",
    "print(min(p.y for p in all_points))\n",
    "print(max(p.y for p in all_points))\n",
    "\n",
    "print(\"Z:\")\n",
    "print(min(p.z for p in all_points))\n",
    "print(max(p.z for p in all_points))"
   ]
  },
  {
   "cell_type": "markdown",
   "id": "3afccf34",
   "metadata": {},
   "source": [
    "## Part 1"
   ]
  },
  {
   "cell_type": "code",
   "execution_count": 3,
   "id": "86c8d18b",
   "metadata": {},
   "outputs": [],
   "source": [
    "def get_cuboids_in_range(start, end):\n",
    "    cuboids = []\n",
    "    if start.x < -50 and end.x < -50 or start.x > 50 and end.x > 50:\n",
    "        return []\n",
    "    if start.y < -50 and end.y < -50 or start.y > 50 and end.y > 50:\n",
    "        return []\n",
    "    if start.z < -50 and end.z < - 50 or start.z > 50 and end.z > 50:\n",
    "        return []\n",
    "\n",
    "    min_x = max(-50, min(50, start.x))\n",
    "    max_x = min(50, max(-50, end.x))\n",
    "    min_y = max(-50, min(50, start.y))\n",
    "    max_y = min(50, max(-50, end.y))\n",
    "    min_z = max(-50, min(50, start.z))\n",
    "    max_z = min(50, max(-50, end.z))\n",
    "    \n",
    "    \n",
    "    for x in range(min_x, max_x + 1):\n",
    "        for y in range(min_y, max_y + 1):\n",
    "            for z in range(min_z, max_z + 1):\n",
    "                cuboids.append(Point(x,y,z))\n",
    "    return cuboids"
   ]
  },
  {
   "cell_type": "markdown",
   "id": "35ae14e2",
   "metadata": {},
   "source": [
    "I learned today that `set` has two methods for removing items: `discard` and `remove`. I've been using `remove` with an `if` guard all these years but there's a nice difference:\n",
    "\n",
    "> discard(...) method of builtins.set instance\n",
    ">    Remove an element from a set if it is a member.\n",
    ">\n",
    ">    If the element is not a member, do nothing.\n",
    "\n",
    ">remove(...) method of builtins.set instance\n",
    ">    Remove an element from a set; it must be a member.\n",
    ">\n",
    ">    If the element is not a member, raise a KeyError.\n",
    "\n",
    "So whenever you need to remove items that might not exist in a set, `discard` is a good option."
   ]
  },
  {
   "cell_type": "code",
   "execution_count": 32,
   "id": "fef254f6",
   "metadata": {},
   "outputs": [],
   "source": [
    "def activate_cuboids(instructions):\n",
    "    lit = set()\n",
    "\n",
    "    for instruction in instructions:\n",
    "        for point in get_cuboids_in_range(instruction.start, instruction.end):\n",
    "            match instruction.action:\n",
    "                case 'on':\n",
    "                    lit.add(point)\n",
    "                case 'off':\n",
    "                    lit.discard(point)\n",
    "    return lit"
   ]
  },
  {
   "cell_type": "code",
   "execution_count": 33,
   "id": "1e032980",
   "metadata": {},
   "outputs": [
    {
     "name": "stdout",
     "output_type": "stream",
     "text": [
      "Solution: 648681\n"
     ]
    }
   ],
   "source": [
    "result = len(activate_cuboids(instructions))\n",
    "print(f'Solution: {result}')\n",
    "assert result == 648681"
   ]
  },
  {
   "cell_type": "markdown",
   "id": "c819fa4e",
   "metadata": {},
   "source": [
    "## Part 2"
   ]
  },
  {
   "cell_type": "code",
   "execution_count": 61,
   "id": "d796d9b3",
   "metadata": {},
   "outputs": [],
   "source": [
    "def does_line_intersect(one_start, one_end, other_start, other_end):\n",
    "    return (\n",
    "        one_start < other_start < one_end or\n",
    "        one_start < other_end < one_end or\n",
    "        other_start < one_start < other_end or\n",
    "        other_start < one_end < other_end\n",
    "    )\n",
    "\n",
    "def get_line_intersection(one_start, one_end, other_start, other_end):\n",
    "    intersection_start = max(one_start, other_start)\n",
    "    intersection_end = max(one_end, other_end)\n",
    "    \n",
    "    return (intersection_start, intersection_end)\n",
    "    \n",
    "class Area:\n",
    "    \n",
    "    def __init__(self, start, end):\n",
    "        self.start = start\n",
    "        self.end = end\n",
    "        self.off = []\n",
    "        \n",
    "    def is_overlapping(self, other):\n",
    "        return (\n",
    "            does_line_intersect(self.start.x, self.end.x, other.start.x, other.end.x) and\n",
    "            does_line_intersect(self.start.y, self.end.y, other.start.y, other.end.y) and\n",
    "            does_line_intersect(self.start.z, self.end.z, other.start.z, other.end.z)\n",
    "        )\n",
    "        \n",
    "    def substraction(self, other):\n",
    "        if self.is_overlapping(other):\n",
    "            x = get_line_intersection(self.start.x, self.end.x, other.start.x, other.end.x)\n",
    "            y = get_line_intersection(self.start.y, self.end.y, other.start.y, other.end.y)\n",
    "            z = get_line_intersection(self.start.z, self.end.z, other.start.z, other.end.z)\n",
    "            \n",
    "            for o in self.off:\n",
    "                o.substraction(other)\n",
    "            \n",
    "            self.off.append(Area(Point(x[0], y[0], z[0]), end=Point(x[1], y[1], z[1])))\n",
    "            \n",
    "    def volume(self):\n",
    "        full_volume = (self.end.x - self.start.x + 1) * (self.end.y - self.start.y + 1) * (self.end.z - self.start.z + 1)\n",
    "        off_volume = sum(area.volume() for area in self.off)        \n",
    "        return full_volume - off_volume"
   ]
  },
  {
   "cell_type": "code",
   "execution_count": 62,
   "id": "7d3bd1aa",
   "metadata": {},
   "outputs": [
    {
     "name": "stdout",
     "output_type": "stream",
     "text": [
      "Our 575818452252378\n",
      "Goal 2758514936282235\n"
     ]
    }
   ],
   "source": [
    "areas = []\n",
    "\n",
    "for instruction in instructions:\n",
    "    area = Area(instruction.start, instruction.end)\n",
    "    \n",
    "    for a in areas:\n",
    "        a.substraction(area)\n",
    "        \n",
    "    if instruction.action == 'on':\n",
    "        areas.append(area)\n",
    "        \n",
    "print('Our', sum(area.volume() for area in areas))\n",
    "print('Goal', 2758514936282235)"
   ]
  }
 ],
 "metadata": {
  "kernelspec": {
   "display_name": "Python 3 (ipykernel)",
   "language": "python",
   "name": "python3"
  },
  "language_info": {
   "codemirror_mode": {
    "name": "ipython",
    "version": 3
   },
   "file_extension": ".py",
   "mimetype": "text/x-python",
   "name": "python",
   "nbconvert_exporter": "python",
   "pygments_lexer": "ipython3",
   "version": "3.10.0"
  }
 },
 "nbformat": 4,
 "nbformat_minor": 5
}
