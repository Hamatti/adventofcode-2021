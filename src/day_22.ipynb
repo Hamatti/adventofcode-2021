{
 "cells": [
  {
   "cell_type": "markdown",
   "id": "5cd07229",
   "metadata": {},
   "source": [
    "# Day 22"
   ]
  },
  {
   "cell_type": "markdown",
   "id": "1393e4ff",
   "metadata": {},
   "source": [
    "## Read input"
   ]
  },
  {
   "cell_type": "code",
   "execution_count": 134,
   "id": "8142cdbb",
   "metadata": {},
   "outputs": [],
   "source": [
    "import re\n",
    "from collections import namedtuple\n",
    "\n",
    "from utils import read_input\n",
    "\n",
    "Point = namedtuple('Point', ['x', 'y', 'z'])\n",
    "Instruction = namedtuple('Instruction', ['action', 'start', 'end'])\n",
    "\n",
    "def transformer(line):\n",
    "    m = re.match(r'(?P<action>on|off) x=(?P<x>-?\\d+..-?\\d+),y=(?P<y>-?\\d+..-?\\d+),z=(?P<z>-?\\d+..-?\\d+)', line)\n",
    "    action = m.group('action')\n",
    "    x_range = m.group('x')\n",
    "    y_range = m.group('y')\n",
    "    z_range = m.group('z')\n",
    "    \n",
    "    x1, x2 = x_range.split('..')\n",
    "    y1, y2 = y_range.split('..')\n",
    "    z1, z2 = z_range.split('..')\n",
    "    \n",
    "    start = Point(x=int(x1), y=int(y1), z=int(z1))\n",
    "    end = Point(x=int(x2), y=int(y2), z=int(z2))\n",
    "    \n",
    "    return Instruction(action, start, end)\n",
    "    \n",
    "instructions = read_input(22, transformer)"
   ]
  },
  {
   "cell_type": "markdown",
   "id": "dd5c9ef9",
   "metadata": {},
   "source": [
    "## Part 1"
   ]
  },
  {
   "cell_type": "code",
   "execution_count": 135,
   "id": "2b19b3ee",
   "metadata": {},
   "outputs": [],
   "source": [
    "def get_cuboids_in_range(start, end):\n",
    "    cuboids = []\n",
    "    if start.x < -50 and end.x < -50 or start.x > 50 and end.x > 50:\n",
    "        return []\n",
    "    if start.y < -50 and end.y < -50 or start.y > 50 and end.y > 50:\n",
    "        return []\n",
    "    if start.z < -50 and end.z < - 50 or start.z > 50 and end.z > 50:\n",
    "        return []\n",
    "\n",
    "    min_x = max(-50, min(50, start.x))\n",
    "    max_x = min(50, max(-50, end.x))\n",
    "    min_y = max(-50, min(50, start.y))\n",
    "    max_y = min(50, max(-50, end.y))\n",
    "    min_z = max(-50, min(50, start.z))\n",
    "    max_z = min(50, max(-50, end.z))\n",
    "    \n",
    "    \n",
    "    for x in range(min_x, max_x + 1):\n",
    "        for y in range(min_y, max_y + 1):\n",
    "            for z in range(min_z, max_z + 1):\n",
    "                cuboids.append(Point(x,y,z))\n",
    "    return cuboids"
   ]
  },
  {
   "cell_type": "markdown",
   "id": "247e5840",
   "metadata": {},
   "source": [
    "I learned today that `set` has two methods for removing items: `discard` and `remove`. I've been using `remove` with an `if` guard all these years but there's a nice difference:\n",
    "\n",
    "> discard(...) method of builtins.set instance\n",
    ">    Remove an element from a set if it is a member.\n",
    ">\n",
    ">    If the element is not a member, do nothing.\n",
    "\n",
    ">remove(...) method of builtins.set instance\n",
    ">    Remove an element from a set; it must be a member.\n",
    ">\n",
    ">    If the element is not a member, raise a KeyError.\n",
    "\n",
    "So whenever you need to remove items that might not exist in a set, `discard` is a good option."
   ]
  },
  {
   "cell_type": "code",
   "execution_count": 136,
   "id": "f81f2bd7",
   "metadata": {},
   "outputs": [],
   "source": [
    "def activate_cuboids(instructions):\n",
    "    lit = set()\n",
    "\n",
    "    for instruction in instructions:\n",
    "        for point in get_cuboids_in_range(instruction.start, instruction.end):\n",
    "            match instruction.action:\n",
    "                case 'on':\n",
    "                    lit.add(point)\n",
    "                case 'off':\n",
    "                    lit.discard(point)\n",
    "    return lit"
   ]
  },
  {
   "cell_type": "code",
   "execution_count": 137,
   "id": "7beed8cd",
   "metadata": {},
   "outputs": [
    {
     "name": "stdout",
     "output_type": "stream",
     "text": [
      "Solution: 648681\n"
     ]
    }
   ],
   "source": [
    "result = len(activate_cuboids(instructions))\n",
    "print(f'Solution: {result}')\n",
    "assert result == 648681"
   ]
  },
  {
   "cell_type": "markdown",
   "id": "58e29241",
   "metadata": {},
   "source": [
    "## Part 2"
   ]
  },
  {
   "cell_type": "code",
   "execution_count": 138,
   "id": "077e41c3",
   "metadata": {},
   "outputs": [],
   "source": [
    "def crop(one, another):\n",
    "    new = {\n",
    "        'start': [],\n",
    "        'end': []\n",
    "    }\n",
    "    for axis in ['x', 'y', 'z']:\n",
    "        one_start = getattr(one.start, axis)\n",
    "        one_end = getattr(one.end, axis)\n",
    "        another_start = getattr(another.start, axis)\n",
    "        another_end = getattr(another.end, axis)\n",
    "        \n",
    "        max_start = max(one_start, another_start)\n",
    "        min_end = min(one_end, another_end)\n",
    "        \n",
    "        if max_start < min_end + 1:\n",
    "            new_start = max_start\n",
    "            new_end = min_end\n",
    "        else:\n",
    "            new_start = 0\n",
    "            new_end = 0\n",
    "        new['start'].append(new_start)\n",
    "        new['end'].append(new_end)\n",
    "\n",
    "    start = Point(*new['start'])\n",
    "    end = Point(*new['end'])\n",
    "    return Area(start, end)\n",
    "\n",
    "def empty(area):\n",
    "    xs = (area.start.x, area.end.x)\n",
    "    ys = (area.start.y, area.end.y)\n",
    "    zs = (area.start.z, area.end.z)\n",
    "    return xs == (0, 0) or ys == (0, 0) or zs == (0, 0)\n",
    "    \n",
    "class Area:\n",
    "    \n",
    "    def __init__(self, start, end):\n",
    "        self.start = start\n",
    "        self.end = end\n",
    "        self.off = []\n",
    "\n",
    "    def subtract(self, other):\n",
    "        cropped = crop(other, self)\n",
    "        if empty(cropped):\n",
    "            return\n",
    "        for other in self.off:\n",
    "            other.subtract(cropped)\n",
    "        self.off.append(cropped)\n",
    "            \n",
    "    def volume(self):\n",
    "        full_volume = (self.end.x - self.start.x + 1) * (self.end.y - self.start.y + 1) * (self.end.z - self.start.z + 1)\n",
    "        off_volume = sum(area.volume() for area in self.off)        \n",
    "        return full_volume - off_volume\n",
    "    \n",
    "    def __repr__(self):\n",
    "        return f'<Area>: {self.start}, {self.end}'"
   ]
  },
  {
   "cell_type": "code",
   "execution_count": 140,
   "id": "506f4674",
   "metadata": {},
   "outputs": [
    {
     "name": "stdout",
     "output_type": "stream",
     "text": [
      "Solution: 1302784472088899\n"
     ]
    }
   ],
   "source": [
    "areas = []\n",
    "\n",
    "for instruction in instructions:\n",
    "    area = Area(instruction.start, instruction.end)\n",
    "    \n",
    "    for other in areas:\n",
    "        other.subtract(area)\n",
    "        \n",
    "    if instruction.action == 'on':\n",
    "        areas.append(area)\n",
    "        \n",
    "result = sum(area.volume() for area in areas)\n",
    "print(f'Solution: {result}')\n",
    "assert result == 1302784472088899"
   ]
  }
 ],
 "metadata": {
  "kernelspec": {
   "display_name": "Python 3 (ipykernel)",
   "language": "python",
   "name": "python3"
  },
  "language_info": {
   "codemirror_mode": {
    "name": "ipython",
    "version": 3
   },
   "file_extension": ".py",
   "mimetype": "text/x-python",
   "name": "python",
   "nbconvert_exporter": "python",
   "pygments_lexer": "ipython3",
   "version": "3.10.0"
  }
 },
 "nbformat": 4,
 "nbformat_minor": 5
}
