{
 "cells": [
  {
   "cell_type": "markdown",
   "id": "87649dbe",
   "metadata": {},
   "source": [
    "# Day 3 - Binary Diagnostic\n",
    "\n",
    ">The submarine has been making some odd creaking noises, so you ask it to produce a diagnostic report just in case.\n",
    ">\n",
    ">The diagnostic report (your puzzle input) consists of a list of binary numbers which, when decoded properly, can tell you many useful things about the conditions of the submarine. The first parameter to check is the power consumption.\n",
    ">\n",
    ">You need to use the binary numbers in the diagnostic report to generate two new binary numbers (called the gamma rate and the epsilon rate). The power consumption can then be found by multiplying the gamma rate by the epsilon rate.\n",
    ">\n",
    ">Each bit in the gamma rate can be determined by finding the most common bit in the corresponding position of all numbers in the diagnostic report. For example, given the following diagnostic report:\n",
    ">\n",
    ">```\n",
    "00100\n",
    "11110\n",
    "10110\n",
    "10111\n",
    "10101\n",
    "01111\n",
    "00111\n",
    "11100\n",
    "10000\n",
    "11001\n",
    "00010\n",
    "01010\n",
    ">```\n",
    ">Considering only the first bit of each number, there are five 0 bits and seven 1 bits. Since the most common bit is 1, the first bit of the gamma rate is 1.\n",
    ">\n",
    ">The most common second bit of the numbers in the diagnostic report is 0, so the second bit of the gamma rate is 0.\n",
    ">\n",
    ">The most common value of the third, fourth, and fifth bits are 1, 1, and 0, respectively, and so the final three bits of the gamma rate are 110.\n",
    ">\n",
    ">So, the gamma rate is the binary number 10110, or 22 in decimal.\n",
    ">\n",
    ">The epsilon rate is calculated in a similar way; rather than use the most common bit, the least common bit from each position is used. So, the epsilon rate is 01001, or 9 in decimal. Multiplying the gamma rate (22) by the epsilon rate (9) produces the power consumption, 198."
   ]
  },
  {
   "cell_type": "code",
   "execution_count": 20,
   "id": "27487807",
   "metadata": {},
   "outputs": [],
   "source": [
    "from utils import read_input\n",
    "\n",
    "diagnostics = read_input(3)"
   ]
  },
  {
   "cell_type": "markdown",
   "id": "ef5ecd3b",
   "metadata": {},
   "source": [
    "## Part 1"
   ]
  },
  {
   "cell_type": "markdown",
   "id": "b78d4115",
   "metadata": {},
   "source": [
    "The rates are calculated by finding the most and least common bits in each position.\n",
    "\n",
    "> Each bit in the gamma rate can be determined by finding the most common bit in the corresponding position of all numbers in the diagnostic report.\n",
    "\n",
    "> The epsilon rate is calculated in a similar way; rather than use the most common bit, the least common bit from each position is used."
   ]
  },
  {
   "cell_type": "markdown",
   "id": "97a77b85",
   "metadata": {},
   "source": [
    "First, we need a way to transpose the diagnostics metrics so each value in the index 0 are in one list, values in index 1 in another and so on.\n",
    "\n",
    "For the sake of learning, I'm implementing my own transpose function but in real use, I'd use [numpy's `matrix.transpose`](https://numpy.org/doc/stable/reference/generated/numpy.matrix.transpose.html)."
   ]
  },
  {
   "cell_type": "code",
   "execution_count": 19,
   "id": "a1894e19",
   "metadata": {},
   "outputs": [],
   "source": [
    "def transpose(binary):\n",
    "    transposed = []\n",
    "    for reading in binary:\n",
    "        for index, bit in enumerate(reading):\n",
    "            try:\n",
    "                transposed[index].append(bit) \n",
    "            except IndexError as e:\n",
    "                transposed.append([bit])\n",
    "    \n",
    "    \n",
    "    return transposed"
   ]
  },
  {
   "cell_type": "markdown",
   "id": "a659d648",
   "metadata": {},
   "source": [
    "Next, we create two new binaries for gamma and epsilon and count the most common and least common bits. Since there's only two options, 0 and 1, they will be exact opposites of each other."
   ]
  },
  {
   "cell_type": "code",
   "execution_count": 109,
   "id": "84c055f7",
   "metadata": {},
   "outputs": [],
   "source": [
    "from collections import namedtuple\n",
    "\n",
    "Diagnostic = namedtuple('Diagnostic', ['gamma', 'epsilon'])\n",
    "\n",
    "def count_bits(binary, tiebreaker):\n",
    "    gamma = []\n",
    "    epsilon = []\n",
    "    \n",
    "    for slot in binary:\n",
    "        ones = slot.count('1')\n",
    "        zeroes = slot.count('0')\n",
    "        \n",
    "        if ones > zeroes:\n",
    "            gamma.append('1')\n",
    "            epsilon.append('0')\n",
    "        elif zeroes > ones:\n",
    "            gamma.append('0')\n",
    "            epsilon.append('1')\n",
    "        else:\n",
    "            gamma.append(tiebreaker)\n",
    "            epsilon.append(tiebreaker)\n",
    "            \n",
    "    return Diagnostic(gamma=''.join(gamma), epsilon=''.join(epsilon))"
   ]
  },
  {
   "cell_type": "markdown",
   "id": "56d2cc42",
   "metadata": {},
   "source": [
    "Finally, we need to calculate the puzzle solution by multiplying the decimal values of the binaries.\n"
   ]
  },
  {
   "cell_type": "code",
   "execution_count": 73,
   "id": "869a7e05",
   "metadata": {},
   "outputs": [
    {
     "name": "stdout",
     "output_type": "stream",
     "text": [
      "Diagnostic(gamma='101110111100', epsilon='010001000011')\n",
      "Solution: 3277364\n"
     ]
    }
   ],
   "source": [
    "transposed = transpose(diagnostics)\n",
    "report = count_bits(transposed)\n",
    "\n",
    "print(report)\n",
    "\n",
    "result = int(report.gamma, 2) * int(report.epsilon, 2)\n",
    "\n",
    "print(f'Solution: {result}')"
   ]
  },
  {
   "cell_type": "markdown",
   "id": "ae16d800",
   "metadata": {},
   "source": [
    "## Part 2"
   ]
  },
  {
   "cell_type": "markdown",
   "id": "526ba6a8",
   "metadata": {},
   "source": [
    ">Next, you should verify the life support rating, which can be determined by multiplying the **oxygen generator rating** by the **CO2 scrubber rating**.\n",
    ">\n",
    ">Both the oxygen generator rating and the CO2 scrubber rating are values that can be found in your diagnostic report - finding them is the tricky part. Both values are located using a similar process that involves filtering out values until only one remains. Before searching for either rating value, start with the full list of binary numbers from your diagnostic report and consider just the first bit of those numbers. Then:\n",
    ">\n",
    ">- Keep only numbers selected by the bit criteria for the type of rating value for which you are searching. Discard numbers which do not match the bit criteria.\n",
    ">- If you only have one number left, stop; this is the rating value for which you are searching.\n",
    ">- Otherwise, repeat the process, considering the next bit to the right.\n",
    ">\n",
    ">The bit criteria depends on which type of rating value you want to find:\n",
    ">\n",
    ">- To find oxygen generator rating, determine the most common value (0 or 1) in the current bit position, and keep only numbers with that bit in that position. If 0 and 1 are equally common, keep values with a 1 in the position being considered.\n",
    ">- To find CO2 scrubber rating, determine the least common value (0 or 1) in the current bit position, and keep only numbers with that bit in that position. If 0 and 1 are equally common, keep values with a 0 in the position being considered.\n",
    ">\n",
    ">For example, to determine the oxygen generator rating value using the same example diagnostic report from above:\n",
    ">\n",
    ">- Start with all 12 numbers and consider only the first bit of each number. There are more 1 bits (7) than 0 bits (5), so keep only the 7 numbers with a 1 in the first position: 11110, 10110, 10111, 10101, 11100, 10000, and 11001.\n",
    ">-Then, consider the second bit of the 7 remaining numbers: there are more 0 bits (4) than 1 bits (3), so keep only the 4 numbers with a 0 in the second position: 10110, 10111, 10101, and 10000.\n",
    ">-In the third position, three of the four numbers have a 1, so keep those three: 10110, 10111, and 10101.\n",
    ">-In the fourth position, two of the three numbers have a 1, so keep those two: 10110 and 10111.\n",
    ">-In the fifth position, there are an equal number of 0 bits and 1 bits (one each). So, to find the oxygen generator rating, keep the number with a 1 in that position: 10111.\n",
    ">-As there is only one number left, stop; the oxygen generator rating is 10111, or 23 in decimal.\n",
    ">\n",
    ">Then, to determine the CO2 scrubber rating value from the same example above:\n",
    ">\n",
    ">-Start again with all 12 numbers and consider only the first bit of each number. There are fewer 0 bits (5) than 1 bits (7), so keep only the 5 numbers with a 0 in the first position: 00100, 01111, 00111, 00010, and 01010.\n",
    ">-Then, consider the second bit of the 5 remaining numbers: there are fewer 1 bits (2) than 0 bits (3), so keep only the 2 numbers with a 1 in the second position: 01111 and 01010.\n",
    ">-In the third position, there are an equal number of 0 bits and 1 bits (one each). So, to find the CO2 scrubber rating, keep the number with a 0 in that position: 01010.\n",
    ">-As there is only one number left, stop; the CO2 scrubber rating is 01010, or 10 in decimal.\n",
    ">\n",
    ">Finally, to find the life support rating, multiply the oxygen generator rating (23) by the CO2 scrubber rating (10) to get 230."
   ]
  },
  {
   "cell_type": "code",
   "execution_count": 123,
   "id": "a692894a",
   "metadata": {},
   "outputs": [],
   "source": [
    "def calculate_oxygen_rating(diagnostics):\n",
    "    most_common_bits = count_bits(transpose(diagnostics), '1').gamma\n",
    "    viable_ratings = diagnostics[:]\n",
    "    \n",
    "    index = 0\n",
    "    while len(viable_ratings) > 1:\n",
    "        compare_bit = most_common_bits[index]\n",
    "        viable_ratings = [b for b in viable_ratings if b[index] == compare_bit]\n",
    "        \n",
    "        most_common_bits = count_bits(transpose(viable_ratings), '1').gamma\n",
    "        index += 1\n",
    "    \n",
    "    return viable_ratings[0]\n",
    "\n",
    "def calculate_co2_rating(diagnostics):\n",
    "    most_common_bits = count_bits(transpose(diagnostics), '0').epsilon\n",
    "    viable_ratings = diagnostics[:]\n",
    "    \n",
    "    index = 0\n",
    "    while len(viable_ratings) > 1 or index > 11:\n",
    "        compare_bit = most_common_bits[index]\n",
    "        viable_ratings = [b for b in viable_ratings if b[index] == compare_bit]\n",
    "        \n",
    "        most_common_bits = count_bits(transpose(viable_ratings), '0').epsilon\n",
    "        index += 1\n",
    "    \n",
    "    return viable_ratings[0]\n"
   ]
  },
  {
   "cell_type": "code",
   "execution_count": 117,
   "id": "81b9c4c9",
   "metadata": {
    "scrolled": true
   },
   "outputs": [
    {
     "name": "stdout",
     "output_type": "stream",
     "text": [
      "10111\n",
      "01010\n",
      "Test solution: 230\n"
     ]
    }
   ],
   "source": [
    "test_input = ['00100', '11110', '10110', '10111', '10101', '01111', '00111', '11100', '10000', '11001', '00010', '01010']\n",
    "\n",
    "print(calculate_oxygen_rating(test_input))\n",
    "print(calculate_co2_rating(test_input))\n",
    "\n",
    "print(f\"Test solution: {int(calculate_oxygen_rating(test_input), 2) * int(calculate_co2_rating(test_input), 2)}\")"
   ]
  },
  {
   "cell_type": "code",
   "execution_count": 124,
   "id": "4e89a861",
   "metadata": {},
   "outputs": [
    {
     "name": "stdout",
     "output_type": "stream",
     "text": [
      "Result: 5736383\n"
     ]
    }
   ],
   "source": [
    "oxygen = calculate_oxygen_rating(diagnostics)\n",
    "co2 = calculate_co2_rating(diagnostics)\n",
    "\n",
    "result = int(oxygen, 2) * int(co2, 2)\n",
    "\n",
    "print(f'Result: {result}')"
   ]
  }
 ],
 "metadata": {
  "kernelspec": {
   "display_name": "Python 3 (ipykernel)",
   "language": "python",
   "name": "python3"
  },
  "language_info": {
   "codemirror_mode": {
    "name": "ipython",
    "version": 3
   },
   "file_extension": ".py",
   "mimetype": "text/x-python",
   "name": "python",
   "nbconvert_exporter": "python",
   "pygments_lexer": "ipython3",
   "version": "3.10.0"
  }
 },
 "nbformat": 4,
 "nbformat_minor": 5
}
