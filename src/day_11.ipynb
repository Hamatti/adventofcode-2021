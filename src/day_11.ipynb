{
 "cells": [
  {
   "cell_type": "markdown",
   "id": "73528a80",
   "metadata": {},
   "source": [
    "# Day 11 - Dumbo Octopus\n",
    "\n",
    ">You enter a large cavern full of rare bioluminescent dumbo octopuses! They seem to not like the Christmas lights on your submarine, so you turn them off for now.\n",
    ">\n",
    ">There are 100 octopuses arranged neatly in a 10 by 10 grid. Each octopus slowly gains energy over time and flashes brightly for a moment when its energy is full. Although your lights are off, maybe you could navigate through the cave without disturbing the octopuses if you could predict when the flashes of light will happen.\n",
    ">\n",
    ">Each octopus has an energy level - your submarine can remotely measure the energy level of each octopus (your puzzle input). For example:\n",
    ">```\n",
    "5483143223\n",
    "2745854711\n",
    "5264556173\n",
    "6141336146\n",
    "6357385478\n",
    "4167524645\n",
    "2176841721\n",
    "6882881134\n",
    "4846848554\n",
    "5283751526\n",
    ">```\n",
    ">\n",
    ">The energy level of each octopus is a value between 0 and 9. Here, the top-left octopus has an energy level of 5, the bottom-right one has an energy level of 6, and so on.\n",
    ">\n",
    ">You can model the energy levels and flashes of light in steps. During a single step, the following occurs:\n",
    ">\n",
    ">- First, the energy level of each octopus increases by 1.\n",
    ">- Then, any octopus with an energy level greater than 9 **flashes**. This increases the energy level of all adjacent octopuses by 1, including octopuses that are diagonally adjacent. If this causes an octopus to have an energy level greater than 9, it **also flashes**. This process continues as long as new octopuses keep having their energy level increased beyond 9. (An octopus can only flash **at most once per step**.)\n",
    ">- Finally, any octopus that flashed during this step has its energy level set to 0, as it used all of its energy to flash.\n",
    ">\n",
    ">Adjacent flashes can cause an octopus to flash on a step even if it begins that step with very little energy. Consider the middle octopus with 1 energy in this situation:\n",
    ">\n",
    ">```\n",
    "Before any steps:\n",
    "11111\n",
    "19991\n",
    "19191\n",
    "19991\n",
    "11111\n",
    ">```\n",
    ">```\n",
    "After step 1:\n",
    "34543\n",
    "40004\n",
    "50005\n",
    "40004\n",
    "34543\n",
    ">```\n",
    ">```\n",
    "After step 2:\n",
    "45654\n",
    "51115\n",
    "61116\n",
    "51115\n",
    "45654\n",
    ">```"
   ]
  },
  {
   "cell_type": "code",
   "execution_count": 138,
   "id": "a373df62",
   "metadata": {},
   "outputs": [],
   "source": [
    "from utils import read_input\n",
    "\n",
    "def transformer(line):\n",
    "    return [int(num) for num in list(line)]\n",
    "\n",
    "grid = read_input(11, transformer)"
   ]
  },
  {
   "cell_type": "markdown",
   "id": "e4216a63",
   "metadata": {},
   "source": [
    "I can already tell there's gonna be a lot of debugging steps happening to figure out where I might be wrong and the puzzle maker was kind enough to provide step-by-step grids for many of the steps up to 100 with the example input so to compare to those, I'll create a debugging printing function so it's easy to print the grid at any point."
   ]
  },
  {
   "cell_type": "code",
   "execution_count": 126,
   "id": "ae71f752",
   "metadata": {},
   "outputs": [],
   "source": [
    "def print_grid(grid):\n",
    "    for x in range(len(grid)):\n",
    "        for y in range(len(grid[x])):\n",
    "            print(grid[x][y], end=\"\")\n",
    "        print()"
   ]
  },
  {
   "cell_type": "markdown",
   "id": "dcb1395c",
   "metadata": {},
   "source": [
    "At the beginning of each step, one thing guaranteed to happen is that every dumbo octopus's energy level will increase by one so let's have a function for that. \n",
    "\n",
    "(There's a lot of for loops in this solution and some of it could probably be refactored out with some smart tricks.)"
   ]
  },
  {
   "cell_type": "code",
   "execution_count": 127,
   "id": "0e62229a",
   "metadata": {},
   "outputs": [],
   "source": [
    "def initial_increase(grid):\n",
    "    for x in range(len(grid)):\n",
    "        for y in range(len(grid[x])):\n",
    "            grid[x][y] += 1\n",
    "    return grid"
   ]
  },
  {
   "cell_type": "markdown",
   "id": "1f14f9c6",
   "metadata": {},
   "source": [
    "Neighbors? That sounds familiar. Last time (in Day 9) we only cared about adjacent neighbors and now we care about diagonal ones too. Luckily did this already once so easy to adjust (and improve!) my last solution for today."
   ]
  },
  {
   "cell_type": "code",
   "execution_count": 128,
   "id": "1a21a0a6",
   "metadata": {},
   "outputs": [],
   "source": [
    "def get_neighbors(position, max_height, max_width):\n",
    "    x, y = position\n",
    "    neighbors = [\n",
    "        (x-1, y-1),\n",
    "        (x-1, y),\n",
    "        (x-1, y+1),\n",
    "        (x, y-1),\n",
    "        (x, y+1),\n",
    "        (x+1, y-1),\n",
    "        (x+1, y),\n",
    "        (x+1, y+1)\n",
    "    ]\n",
    "    \n",
    "    def valid(x, y, max_height, max_width):\n",
    "        return x >= 0 and y >= 0 and x < max_height and y < max_width\n",
    "\n",
    "    return [(x, y) for (x, y) in neighbors if valid(x, y, max_height, max_width)]"
   ]
  },
  {
   "cell_type": "markdown",
   "id": "db689eae",
   "metadata": {},
   "source": [
    "Few helper functions:\n",
    "\n",
    "`increase_neighbors` is a helper function to run through a list of coordinates and increase everyone's energy level by one.\n",
    "\n",
    "`reset` sets the energy level of any dumbo octopus to 0 if it flashed (was over 9)."
   ]
  },
  {
   "cell_type": "code",
   "execution_count": null,
   "id": "b2ccba6e",
   "metadata": {},
   "outputs": [],
   "source": [
    "def increase_neighbors(grid, neighbors):\n",
    "    for (x, y) in neighbors:\n",
    "        grid[x][y] += 1\n",
    "    return grid    \n",
    "\n",
    "def reset(grid):\n",
    "    for x in range(len(grid)):\n",
    "        for y in range(len(grid[x])):\n",
    "            if grid[x][y] > 9:\n",
    "                grid[x][y] = 0"
   ]
  },
  {
   "cell_type": "markdown",
   "id": "8f51f53c",
   "metadata": {},
   "source": [
    "`flash_increase` is the main logic of this simulation.\n",
    "\n",
    "We loop over the main part until there were no more flashes on a given round.\n",
    "On each loop round, we check every octopus: \n",
    "- if it already flashed, we ignore it\n",
    "- if it's gonna flash, we record that flash into `flashes`, mark it flashed into `already_flashed` and increase the levels of all of its neighbors\n",
    "\n",
    "If we had any flashes, we record those to our step flash counter `all_flashes`, set round flashes to 0 and repeat until there were none.\n",
    "\n",
    "Finally, we \"reset\" the grid by making the energy level of any flashed octopus into 0."
   ]
  },
  {
   "cell_type": "code",
   "execution_count": 129,
   "id": "47d8768a",
   "metadata": {},
   "outputs": [],
   "source": [
    "def flash_increase(grid):\n",
    "    max_height, max_width = len(grid), len(grid[0])\n",
    "    flashes = 0\n",
    "    all_flashes = 0\n",
    "    already_flashed = set()\n",
    "    while True:\n",
    "        for x in range(len(grid)):\n",
    "            for y in range(len(grid[x])):\n",
    "                value = grid[x][y]\n",
    "                if (x, y) in already_flashed:\n",
    "                    continue\n",
    "                elif value > 9:\n",
    "                    flashes += 1\n",
    "                    already_flashed.add((x, y))\n",
    "                    neighbors = get_neighbors((x, y), max_height, max_width)\n",
    "                    increase_neighbors(grid, neighbors)\n",
    "        if flashes == 0:\n",
    "            break\n",
    "        else:\n",
    "            all_flashes += flashes\n",
    "            flashes = 0\n",
    "    reset(grid)\n",
    "    return all_flashes"
   ]
  },
  {
   "cell_type": "markdown",
   "id": "ff4ce821",
   "metadata": {},
   "source": [
    "Our simulation function runs `n` steps of simulation, running both the initial increase and flashing increases on each step and counts flashes.\n",
    "\n",
    "In a previous puzzle we created a copy of a list with `list2 = list1[:]` but since that only works on the first level (ie. it's [a shallow copy](https://stackoverflow.com/questions/184710/what-is-the-difference-between-a-deep-copy-and-a-shallow-copy)) and we have a list of lists, we need to deep copy it to prevent future simulations from affecting the original input.\n",
    "\n",
    "To do that, we use `deepcopy` method from [copy](https://docs.python.org/3/library/copy.html) library."
   ]
  },
  {
   "cell_type": "code",
   "execution_count": 165,
   "id": "f9610df6",
   "metadata": {},
   "outputs": [],
   "source": [
    "import copy\n",
    "\n",
    "def simulate(n, grid):\n",
    "    grid = copy.deepcopy(grid)\n",
    "    score = 0\n",
    "    for step in range(n):\n",
    "        initial_increase(grid)\n",
    "        score += flash_increase(grid)\n",
    "    return score"
   ]
  },
  {
   "cell_type": "markdown",
   "id": "8ca44249",
   "metadata": {},
   "source": [
    "> Given the starting energy levels of the dumbo octopuses in your cavern, simulate 100 steps. **How many total flashes are there after 100 steps?**"
   ]
  },
  {
   "cell_type": "code",
   "execution_count": 143,
   "id": "7ce91065",
   "metadata": {},
   "outputs": [
    {
     "name": "stdout",
     "output_type": "stream",
     "text": [
      "Solution: 1546\n"
     ]
    }
   ],
   "source": [
    "result = simulate(100, grid)\n",
    "\n",
    "assert result == 1546 # If assert failes, re-read the input\n",
    "print(f'Solution: {result}')"
   ]
  },
  {
   "cell_type": "markdown",
   "id": "3bb9027f",
   "metadata": {},
   "source": [
    "## Part 2\n",
    "\n",
    "> It seems like the individual flashes aren't bright enough to navigate. However, you might have a better option: the flashes seem to be synchronizing!\n",
    ">\n",
    "> If you can calculate the exact moments when the octopuses will all flash simultaneously, you should be able to navigate through the cavern. What is the first step during which all octopuses flash?"
   ]
  },
  {
   "cell_type": "markdown",
   "id": "cf179d51",
   "metadata": {},
   "source": [
    "An easy way to see if an simultaneous flash happened is to check if the grid is all zeroes after a step has happened.\n",
    "\n",
    "We can keep everything else the same and count for steps and after each step, check for a synchronous flash."
   ]
  },
  {
   "cell_type": "code",
   "execution_count": 178,
   "id": "94c30d1b",
   "metadata": {},
   "outputs": [],
   "source": [
    "import copy\n",
    "\n",
    "\n",
    "def check_for_sync(grid):\n",
    "    for x in range(len(grid)):\n",
    "        for y in range(len(grid[x])):\n",
    "            if grid[x][y] != 0:\n",
    "                return False\n",
    "    return True\n",
    "\n",
    "def simulate_until_syncronous(grid):\n",
    "    grid = copy.deepcopy(grid)\n",
    "    \n",
    "    step = 1\n",
    "    while True:\n",
    "        initial_increase(grid)\n",
    "        flash_increase(grid)\n",
    "        if check_for_sync(grid):\n",
    "            break\n",
    "        else:\n",
    "            step += 1\n",
    "    \n",
    "    return step"
   ]
  },
  {
   "cell_type": "code",
   "execution_count": 179,
   "id": "253d5e8d",
   "metadata": {
    "scrolled": true
   },
   "outputs": [
    {
     "name": "stdout",
     "output_type": "stream",
     "text": [
      "Solution: 471\n"
     ]
    }
   ],
   "source": [
    "result = simulate_until_syncronous(grid)\n",
    "print(f'Solution: {result}')"
   ]
  },
  {
   "cell_type": "markdown",
   "id": "17e95552",
   "metadata": {},
   "source": [
    "## Alternative solution: `Octopus` class\n",
    "\n",
    "After completing my two stars and enjoying some breakfast, I wanted to see if I could make the code nicer by using some classes.\n",
    "\n",
    "I really like how this solution turned out. First of all, no more `for x in range(len(grid)): for y in range(len(grid[x]))` which can be cumbersome to read and write. Second, the octopus can take care of itself now, making the rest of the logic cleaner."
   ]
  },
  {
   "cell_type": "markdown",
   "id": "6560eba6",
   "metadata": {},
   "source": [
    "We start with `Octopus` class.\n",
    "\n",
    "It knows a few things about itself: it's `energy_level`, if it recently `flashed` and its `position` in the swarm.\n",
    "\n",
    "Because it knows its place, it also knows all the possible neighbors (notice here that I don't filter the possible neighbors at all, I do that in the main logic).\n",
    "\n",
    "And it knows if it should reset or not based on its `energy_level`."
   ]
  },
  {
   "cell_type": "code",
   "execution_count": 202,
   "id": "f4fa46f7",
   "metadata": {},
   "outputs": [],
   "source": [
    "class Octopus:\n",
    "    \n",
    "    def __init__(self, position, energy_level):\n",
    "        self.energy_level = energy_level\n",
    "        self.position = position\n",
    "        self.flashed = False\n",
    "        \n",
    "    def energize(self):\n",
    "        self.energy_level += 1\n",
    "        if self.energy_level > 9:\n",
    "            self.flashed = True\n",
    "        \n",
    "    def reset(self):\n",
    "        if self.energy_level > 9:\n",
    "            self.energy_level = 0\n",
    "            self.flashed = False\n",
    "\n",
    "    def get_neighbors(self):\n",
    "        x, y = self.position\n",
    "        return [\n",
    "            (x-1, y-1),\n",
    "            (x-1, y),\n",
    "            (x-1, y+1),\n",
    "            (x, y-1),\n",
    "            (x, y+1),\n",
    "            (x+1, y-1),\n",
    "            (x+1, y),\n",
    "            (x+1, y+1)\n",
    "        ]\n",
    "    \n",
    "    def __repr__(self):\n",
    "        return f'{self.position}: {self.energy_level}'"
   ]
  },
  {
   "cell_type": "markdown",
   "id": "a9fec634",
   "metadata": {},
   "source": [
    "We start by creating the octopus bunch from the input data.\n",
    "\n",
    "Sync check for part 2 is simple: we check every octopus to see if their level is 0.\n",
    "\n",
    "`step` function is the main logic here again and it's quite simple but much easier to read than the previous one.\n",
    "\n",
    "We got rid of the nested `for` loops (for `x` and `y`) because we store each octopus in a dictionary now.\n",
    "\n",
    "I also put the initial increase from the previous solution into this function because it became so much simpler that I didn't feel it needed a separate function anymore.\n",
    "\n",
    "In\n",
    "\n",
    "```python\n",
    "try:\n",
    "    octopi[neighbor].energize()\n",
    "except KeyError: # If such neighbor doesn't exist, skip\n",
    "    continue\n",
    "```\n",
    "\n",
    "I'm using a trick that I probably wouldn't use outside a puzzle setting like this. As I mentioned earlier, I don't filter out invalid neighbor positions at an octopus level but rather here. I try to energize and octopus at given position but if that position doesn't exist, I just ignore it with `try`/`catch`.\n",
    "\n",
    "Most of the other code is same as in the original solution."
   ]
  },
  {
   "cell_type": "code",
   "execution_count": 203,
   "id": "bf64e66f",
   "metadata": {},
   "outputs": [
    {
     "name": "stdout",
     "output_type": "stream",
     "text": [
      "Solution, part 1: 1546\n",
      "Solution, part 2: 471\n"
     ]
    }
   ],
   "source": [
    "def initialize():\n",
    "    raw_data = copy.deepcopy(grid)\n",
    "    octopi = {\n",
    "        (x,y): Octopus((x, y), value) \n",
    "        for x, _ in enumerate(raw_data) \n",
    "        for y, value in enumerate(raw_data[x])\n",
    "    }\n",
    "    \n",
    "    return octopi\n",
    "\n",
    "def check_for_sync(octopi):\n",
    "    return all(octopus.energy_level == 0 for octopus in octopi.values())\n",
    "\n",
    "def step(octopi):\n",
    "    already_flashed = set()\n",
    "    flashes = 0\n",
    "    all_flashes = 0\n",
    "    # Increase all energy levels by one\n",
    "    for octopus in octopi.values():\n",
    "        octopus.energize()\n",
    "        \n",
    "    # Increase neighbors levels by one until no more flashes happen\n",
    "    while True:\n",
    "        for octopus in octopi.values():\n",
    "            if octopus in already_flashed:\n",
    "                continue\n",
    "            elif octopus.flashed:\n",
    "                flashes += 1\n",
    "                already_flashed.add(octopus)\n",
    "                for neighbor in octopus.get_neighbors():\n",
    "                    try:\n",
    "                        octopi[neighbor].energize()\n",
    "                    except KeyError: # If such neighbor doesn't exist, skip\n",
    "                        continue\n",
    "\n",
    "        if flashes == 0:\n",
    "            break\n",
    "        else:\n",
    "            all_flashes += flashes\n",
    "            flashes = 0\n",
    "    \n",
    "    # After the round, reset every octopus\n",
    "    for octopus in octopi.values():\n",
    "        octopus.reset()\n",
    "        \n",
    "    return all_flashes\n",
    "\n",
    "def simulate_octopi(n):\n",
    "    octopi = initialize()\n",
    "    score = 0\n",
    "    for _ in range(n):\n",
    "        score += step(octopi)\n",
    "    return score\n",
    "\n",
    "def simulate_until_sync():\n",
    "    octopi = initialize()\n",
    "    step_count = 1\n",
    "    while True:\n",
    "        step(octopi)\n",
    "        if check_for_sync(octopi):\n",
    "            return step_count\n",
    "        step_count += 1\n",
    "    \n",
    "print(f'Solution, part 1: {simulate_octopi(100)}')\n",
    "print(f'Solution, part 2: {simulate_until_sync()}')\n"
   ]
  }
 ],
 "metadata": {
  "kernelspec": {
   "display_name": "Python 3 (ipykernel)",
   "language": "python",
   "name": "python3"
  },
  "language_info": {
   "codemirror_mode": {
    "name": "ipython",
    "version": 3
   },
   "file_extension": ".py",
   "mimetype": "text/x-python",
   "name": "python",
   "nbconvert_exporter": "python",
   "pygments_lexer": "ipython3",
   "version": "3.10.0"
  }
 },
 "nbformat": 4,
 "nbformat_minor": 5
}
