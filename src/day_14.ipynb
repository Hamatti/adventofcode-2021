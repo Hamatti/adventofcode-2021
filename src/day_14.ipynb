{
 "cells": [
  {
   "cell_type": "markdown",
   "id": "745bacf3",
   "metadata": {},
   "source": [
    "# Day 14 - Extended Polymerization\n",
    "\n",
    ">The incredible pressures at this depth are starting to put a strain on your submarine. The submarine has polymerization equipment that would produce suitable materials to reinforce the submarine, and the nearby volcanically-active caves should even have the necessary input elements in sufficient quantities.\n",
    ">\n",
    ">The submarine manual contains instructions for finding the optimal polymer formula; specifically, it offers a polymer template and a list of pair insertion rules (your puzzle input). You just need to work out what polymer would result after repeating the pair insertion process a few times.\n",
    ">\n",
    ">For example:\n",
    ">```\n",
    "NNCB\n",
    ">```\n",
    ">\n",
    ">```\n",
    "CH -> B\n",
    "HH -> N\n",
    "CB -> H\n",
    "NH -> C\n",
    "HB -> C\n",
    "HC -> B\n",
    "HN -> C\n",
    "NN -> C\n",
    "BH -> H\n",
    "NC -> B\n",
    "NB -> B\n",
    "BN -> B\n",
    "BB -> N\n",
    "BC -> B\n",
    "CC -> N\n",
    "CN -> C\n",
    ">```\n",
    ">\n",
    ">The first line is the polymer template - this is the starting point of the process.\n",
    ">\n",
    ">The following section defines the pair insertion rules. A rule like `AB -> C` means that when elements A and B are immediately adjacent, element C should be inserted between them. These insertions all happen simultaneously.\n",
    ">\n",
    ">So, starting with the polymer template NNCB, the first step simultaneously considers all three pairs:\n",
    ">\n",
    ">- The first pair (NN) matches the rule NN -> C, so element C is inserted between the first N and the second N.\n",
    ">- The second pair (NC) matches the rule NC -> B, so element B is inserted between the N and the C.\n",
    ">- The third pair (CB) matches the rule CB -> H, so element H is inserted between the C and the B.\n",
    ">\n",
    ">Note that these pairs overlap: the second element of one pair is the first element of the next pair. Also, because all pairs are considered simultaneously, inserted elements are not considered to be part of a pair until the next step.\n",
    ">\n",
    ">After the first step of this process, the polymer becomes NCNBCHB.\n",
    ">\n",
    ">Here are the results of a few steps using the above rules:\n",
    ">```\n",
    "Template:     NNCB\n",
    "After step 1: NCNBCHB\n",
    "After step 2: NBCCNBBBCBHCB\n",
    "After step 3: NBBBCNCCNBBNBNBBCHBHHBCHB\n",
    "After step 4: NBBNBNBBCCNBCNCCNBBNBBNBBBNBBNBBCBHCBHHNHCBBCBHCB\n",
    ">```\n",
    ">\n",
    ">This polymer grows quickly. After step 5, it has length 97; After step 10, it has length 3073. After step 10, B occurs 1749 times, C occurs 298 times, H occurs 161 times, and N occurs 865 times; taking the quantity of the most common element (B, 1749) and subtracting the quantity of the least common element (H, 161) produces 1749 - 161 = 1588."
   ]
  },
  {
   "cell_type": "markdown",
   "id": "9186ce4d",
   "metadata": {},
   "source": [
    "## Read input\n",
    "\n",
    "For this, we need another custom method since there's multiple pieces separated by empty line.\n",
    "\n",
    "At this point, I refactored things a bit in `utils.py` to create a new `read_multisection_input` function that splits input into sections by empty lines and then runs a transformer for each section."
   ]
  },
  {
   "cell_type": "code",
   "execution_count": 9,
   "id": "0f2fb443",
   "metadata": {},
   "outputs": [],
   "source": [
    "from utils import read_multisection_input\n",
    "\n",
    "def pair_transformer(section):\n",
    "    lines = section.split('\\n')\n",
    "    pairs = {}\n",
    "    for line in lines:\n",
    "        pair, insert_letter = line.strip().split(' -> ')\n",
    "        pairs[pair] = insert_letter\n",
    "    return pairs\n",
    "        \n",
    "\n",
    "polymer, pairs = read_multisection_input(14, [str, pair_transformer])"
   ]
  },
  {
   "cell_type": "markdown",
   "id": "1fe41243",
   "metadata": {},
   "source": [
    "## Part 1\n",
    "\n",
    "I mentioned `pairwise` function a few days back and here we finally get to use it! It's my first time ever as `pairwise` was introduced to Python only few months ago when 3.10 was released. Exciting times.\n",
    "\n",
    "For each iteration (total count provided with the `n` parameter), we create all pairs of letters, find the corresponding new value to be inserted and add those new letters into a separate list.\n",
    "\n",
    "We then `zip_longest` the original polymer and all the new characters together.\n",
    "\n",
    "[zip_longest](https://docs.python.org/3/library/itertools.html#itertools.zip_longest) is a function also from `itertools` library. It's an extension of the regular `zip` function that takes one or more iterables (in our case, two strings) and creates pairs from them:\n",
    "\n",
    "```python\n",
    "zip([1, 2, 3], ['a', 'b', 'c'])\n",
    "# [(1, 'a'), (2, 'b'), (3, 'c')]\n",
    "```\n",
    "\n",
    "Since the original polymer is always one longer than the new letters string, we use `zip_longest` as it allows uneven sized iterables. Using `fillvalue` parameter, we can define what's used in place of missing values:\n",
    "\n",
    "```python\n",
    "from itertools import zip_longest\n",
    "zip_longest([1, 2, 3, 4], ['a', 'b', 'c'], fillvalue=\"\")\n",
    "# [(1, 'a'), (2, 'b'), (3, 'c'), (4, '')]\n",
    "```\n",
    "\n",
    "And since `zip_longest` creates an iterable of tuples, we need to flatten that with the `join` on line 14.\n",
    "\n",
    "Once all steps are done, we count the amounts of individual characters and return in the order of most common to least common using `Counter`'s handy `most_common` function."
   ]
  },
  {
   "cell_type": "code",
   "execution_count": 10,
   "id": "dd4a433b",
   "metadata": {},
   "outputs": [],
   "source": [
    "from itertools import pairwise, zip_longest\n",
    "from collections import Counter\n",
    "\n",
    "\n",
    "def extend(polymer, pairs, n=10):\n",
    "    new_polymer = polymer\n",
    "    for step in range(n):\n",
    "        new_letters = ''\n",
    "        for pair in pairwise(new_polymer):\n",
    "            new = pairs[''.join(pair)]\n",
    "            new_letters += new\n",
    "        zipped = zip_longest(new_polymer, new_letters, fillvalue=\"\")\n",
    "\n",
    "        new_polymer = ''.join(char for char_pair in zipped for char in char_pair)\n",
    "\n",
    "\n",
    "    counts = Counter(new_polymer)\n",
    "    return counts.most_common()"
   ]
  },
  {
   "cell_type": "markdown",
   "id": "36fe75ad",
   "metadata": {},
   "source": [
    ">Apply 10 steps of pair insertion to the polymer template and find the most and least common elements in the result. **What do you get if you take the quantity of the most common element and subtract the quantity of the least common element?**"
   ]
  },
  {
   "cell_type": "code",
   "execution_count": 11,
   "id": "2fa5cfa1",
   "metadata": {},
   "outputs": [
    {
     "name": "stdout",
     "output_type": "stream",
     "text": [
      "Solution: 2408\n"
     ]
    }
   ],
   "source": [
    "results = extend(polymer, pairs, n=10)\n",
    "result = results[0][1] - results[-1][1]\n",
    "\n",
    "print(f'Solution: {result }')\n",
    "assert result == 2408 # For refactoring"
   ]
  },
  {
   "cell_type": "markdown",
   "id": "06c6aaf4",
   "metadata": {},
   "source": [
    "## Part 2\n",
    "\n",
    ">The resulting polymer isn't nearly strong enough to reinforce the submarine. You'll need to run more steps of the pair insertion process; a total of 40 steps should do it.\n",
    ">\n",
    ">In the above example, the most common element is B (occurring 2192039569602 times) and the least common element is H (occurring 3849876073 times); subtracting these produces 2188189693529."
   ]
  },
  {
   "cell_type": "markdown",
   "id": "9f123c25",
   "metadata": {},
   "source": [
    "Day 14 is the day when my straight-forward \"let's loop over everything one by one\" approach is no longer valid. With the evergrowing polymer, 40 steps is something that my naive algorithm cannot solve. (Believe me, I tried.)\n",
    "\n",
    "And when I see a performance question, my first answer is always: dictionaries!\n",
    "\n",
    "Dictionaries are nice for two reasons: first, a lookup from dictionary is fast (O(1) in algorithm complexity language) and second, in cases like this, it grows much slower than lists or strings because the keys are unique.\n",
    "\n",
    "For this more optimized solution, we need to give up the string completely. Iterating over it won't cut when it grows into millions of characters.\n",
    "\n",
    "So instead of using `pairwise` on the `polymer` on every iteration, we only do it once to create a baseline of how many of each pair there are.\n",
    "\n",
    "`defaultdict` is our friend here as it allows us to do `+=` operations even if the key is not in the dictionary as it defaults to 0.\n",
    "\n",
    "Once we know the initial counts of each letter pair, we can iterate over our desired step count (provided by the keyword argument `n` that we default to 40).\n",
    "\n",
    "On each iteration, we loop over a dictionary of pairs (the amount of keys grows significantly slower than the length of the string would because there are so many repeated pairs) of those previously counted pair counts.\n",
    "\n",
    "For each pair, we see if our pair has a corresponding new letter in the provided input. If we do, we create two new pairs: `(pair[0], new_letter)` and `(new_letter, pair[1])`. To clarify what happens here, let's look at a simplified example:\n",
    "\n",
    "```python\n",
    "pair = ('N', 'N')\n",
    "new_letter = 'C' # From example's NN -> C\n",
    "\n",
    "(pair[0], new_letter) # == ('N', 'C') which is the first letter with the new inserted\n",
    "(new_letter, pair[1]) # == ('C', 'N') which is the new inserted before the second letter\n",
    "```\n",
    "\n",
    "This way we'll create both new pairs that come from inserting a single character between two characters.\n",
    "\n",
    "And if we had for example 4 `('N', 'N')` pairs so far, when we create these new pairs, we create 4 of each and add those to potentially already existing ones.\n",
    "\n",
    "_If I'd like to refactor the code a bit, at this point I'd realize that the inputs `NN -> C` should have been stored as `{ (\"N\", \"N\"): \"C\" }` instead of `{ \"NN\": \"C\" }` to avoid those `''.join(pair)` transformations on each step both in part 1 and 2._\n",
    "\n",
    "Once we have completed all of our steps, we count all the first characters in our pairs into a `Counter`. The reason we only care about the first character is that each second character is a first character in some other pair.\n",
    "\n",
    "The only exception that we need to take into account is to add the very last character of the polymer (`polymer[-1]`) into the counts because it will never start a pair."
   ]
  },
  {
   "cell_type": "code",
   "execution_count": 12,
   "id": "c168179e",
   "metadata": {},
   "outputs": [],
   "source": [
    "from collections import defaultdict, Counter\n",
    "from itertools import pairwise\n",
    "\n",
    "\n",
    "def optimized_extend(polymer, pairs, n=40):\n",
    "    pair_counts = defaultdict(int)\n",
    "    for pair in pairwise(polymer):\n",
    "        pair_counts[pair] += 1\n",
    "        \n",
    "    for step in range(n):\n",
    "        new_pair_counts = defaultdict(int)\n",
    "        for pair, count in pair_counts.items():\n",
    "            new_letter = pairs[''.join(pair)]\n",
    "            new_pair_counts[(pair[0], new_letter)] += count\n",
    "            new_pair_counts[(new_letter, pair[1])] += count\n",
    "\n",
    "        pair_counts = new_pair_counts\n",
    "\n",
    "    # Count all letters that start pairs\n",
    "    # (no need to count second letters because \n",
    "    #  they always start another pair)\n",
    "    counter = Counter()\n",
    "    for (first, second), count in pair_counts.items():\n",
    "        counter[first] += count\n",
    "        \n",
    "    # Don't forget the last character of the original \n",
    "    # polymer that never started a pair\n",
    "    counter[polymer[-1]] += 1\n",
    "    \n",
    "    return counter.most_common()"
   ]
  },
  {
   "cell_type": "markdown",
   "id": "18c4782a",
   "metadata": {},
   "source": [
    ">Apply 40 steps of pair insertion to the polymer template and find the most and least common elements in the result. **What do you get if you take the quantity of the most common element and subtract the quantity of the least common element?**"
   ]
  },
  {
   "cell_type": "code",
   "execution_count": 13,
   "id": "9528f287",
   "metadata": {},
   "outputs": [
    {
     "name": "stdout",
     "output_type": "stream",
     "text": [
      "Solution: 2651311098752\n"
     ]
    }
   ],
   "source": [
    "results = optimized_extend(polymer, pairs, n=40)\n",
    "result = results[0][1] - results[-1][1]\n",
    "\n",
    "print(f'Solution: {result }')\n",
    "assert result == 2651311098752 # For refactoring"
   ]
  }
 ],
 "metadata": {
  "kernelspec": {
   "display_name": "Python 3 (ipykernel)",
   "language": "python",
   "name": "python3"
  },
  "language_info": {
   "codemirror_mode": {
    "name": "ipython",
    "version": 3
   },
   "file_extension": ".py",
   "mimetype": "text/x-python",
   "name": "python",
   "nbconvert_exporter": "python",
   "pygments_lexer": "ipython3",
   "version": "3.10.0"
  }
 },
 "nbformat": 4,
 "nbformat_minor": 5
}
