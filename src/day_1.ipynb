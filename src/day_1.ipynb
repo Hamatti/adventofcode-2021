{
 "cells": [
  {
   "cell_type": "markdown",
   "id": "5967d6e1",
   "metadata": {},
   "source": [
    "# Day 1\n",
    "\n",
    "## Sonar Sweep\n",
    "\n",
    "As the submarine drops below the surface of the ocean, it automatically performs a sonar sweep of the nearby sea floor. On a small screen, the sonar sweep report (your puzzle input) appears: each line is a measurement of the sea floor depth as the sweep looks further and further away from the submarine.\n",
    "\n",
    "For example, suppose you had the following report:\n",
    "\n",
    "199\n",
    "200\n",
    "208\n",
    "210\n",
    "200\n",
    "207\n",
    "240\n",
    "269\n",
    "260\n",
    "263\n",
    "\n",
    "This report indicates that, scanning outward from the submarine, the sonar sweep found depths of 199, 200, 208, 210, and so on."
   ]
  },
  {
   "cell_type": "markdown",
   "id": "7dd7ed7f",
   "metadata": {},
   "source": [
    "## Reading the data\n",
    "\n",
    "For reading data, I created a helper function `read_input` in `utils.py` that takes a number as its first argument (for day number) and a function as its second argument.\n",
    "\n",
    "It then reads the input from file `inputs/day_[number].txt`, reads each line into an item in list (stripping whitespace) and runs the second argument function on each item.\n",
    "\n",
    "For example, here we want all the inputs to be numeric so we can compare them, so I pass in `int` as the transformer function."
   ]
  },
  {
   "cell_type": "code",
   "execution_count": 1,
   "id": "e6252ad3",
   "metadata": {},
   "outputs": [],
   "source": [
    "from utils import read_input\n",
    "\n",
    "depth_measurements = read_input(1, int)"
   ]
  },
  {
   "cell_type": "markdown",
   "id": "81413f21",
   "metadata": {},
   "source": [
    "## Part 1\n",
    "\n",
    "The first order of business is to figure out how quickly the depth increases, just so you know what you're dealing with - you never know if the keys will get carried into deeper water by an ocean current or a fish or something.\n",
    "\n",
    "To do this, count the number of times a depth measurement increases from the previous measurement. (There is no measurement before the first measurement.)\n",
    "\n",
    "**How many measurements are larger than the previous measurement?**"
   ]
  },
  {
   "cell_type": "code",
   "execution_count": 23,
   "id": "69129942",
   "metadata": {},
   "outputs": [
    {
     "name": "stdout",
     "output_type": "stream",
     "text": [
      "There are 1688 increased measurements in the data.\n"
     ]
    }
   ],
   "source": [
    "def count_increases(data):\n",
    "    increase_count = 0\n",
    "    prev = None\n",
    "\n",
    "    for measurement in data:\n",
    "        if prev and measurement > prev:\n",
    "            increase_count += 1\n",
    "    \n",
    "        prev = measurement\n",
    "    return increase_count\n",
    "    \n",
    "print(f'There are {count_increases(depth_measurements)} increased measurements in the data.')"
   ]
  },
  {
   "cell_type": "markdown",
   "id": "26419158",
   "metadata": {},
   "source": [
    "## Part 2\n",
    "Considering every single measurement isn't as useful as you expected: there's just too much noise in the data.\n",
    "\n",
    "Instead, consider sums of a three-measurement sliding window. Again considering the above example:\n",
    "\n",
    "```\n",
    "199  A      \n",
    "200  A B    \n",
    "208  A B C  \n",
    "210    B C D\n",
    "200  E   C D\n",
    "207  E F   D\n",
    "240  E F G  \n",
    "269    F G H\n",
    "260      G H\n",
    "263        H\n",
    "```\n",
    "\n",
    "Start by comparing the first and second three-measurement windows. The measurements in the first window are marked A (199, 200, 208); their sum is 199 + 200 + 208 = 607. The second window is marked B (200, 208, 210); its sum is 618. The sum of measurements in the second window is larger than the sum of the first, so this first comparison increased.\n",
    "\n",
    "Your goal now is to count the number of times the sum of measurements in this sliding window increases from the previous sum. So, compare A with B, then compare B with C, then C with D, and so on. Stop when there aren't enough measurements left to create a new three-measurement sum."
   ]
  },
  {
   "cell_type": "code",
   "execution_count": 22,
   "id": "aa18a24b",
   "metadata": {},
   "outputs": [
    {
     "name": "stdout",
     "output_type": "stream",
     "text": [
      "There are 1728 increases in three-measurement windows.\n"
     ]
    }
   ],
   "source": [
    "three_measurement_windows = []\n",
    "\n",
    "for lower_bound in range(len(depth_measurements)-2):\n",
    "    upper_bound = lower_bound + 3\n",
    "    three_measurement_windows.append(sum(depth_measurements[lower_bound:upper_bound]))\n",
    "    \n",
    "print(f'There are {count_increases(three_measurement_windows)} increases in three-measurement windows.')\n",
    "    "
   ]
  },
  {
   "cell_type": "markdown",
   "id": "c6d1e66e",
   "metadata": {},
   "source": [
    "## 2 stars!\n",
    "\n",
    "And that's a wrap for day 1.\n",
    "\n",
    "The second part felt a bit more complex than usual day 1 puzzles."
   ]
  }
 ],
 "metadata": {
  "kernelspec": {
   "display_name": "Python 3 (ipykernel)",
   "language": "python",
   "name": "python3"
  },
  "language_info": {
   "codemirror_mode": {
    "name": "ipython",
    "version": 3
   },
   "file_extension": ".py",
   "mimetype": "text/x-python",
   "name": "python",
   "nbconvert_exporter": "python",
   "pygments_lexer": "ipython3",
   "version": "3.9.7"
  }
 },
 "nbformat": 4,
 "nbformat_minor": 5
}
