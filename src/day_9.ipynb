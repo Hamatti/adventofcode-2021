{
 "cells": [
  {
   "cell_type": "markdown",
   "id": "057e2e87",
   "metadata": {},
   "source": [
    "# Day 9 - Smoke Basin\n",
    "\n",
    ">These caves seem to be lava tubes. Parts are even still volcanically active; small hydrothermal vents release smoke into the caves that slowly settles like rain.\n",
    ">\n",
    ">If you can model how the smoke flows through the caves, you might be able to avoid it and be that much safer. The submarine generates a heightmap of the floor of the nearby caves for you (your puzzle input).\n",
    ">\n",
    ">Smoke flows to the lowest point of the area it's in. For example, consider the following heightmap:\n",
    ">\n",
    ">```\n",
    "2199943210\n",
    "3987894921\n",
    "9856789892\n",
    "8767896789\n",
    "9899965678\n",
    ">```\n",
    ">\n",
    ">Each number corresponds to the height of a particular location, where 9 is the highest and 0 is the lowest a location can be.\n",
    ">\n",
    ">Your first goal is to find the low points - the locations that are lower than any of its adjacent locations. Most locations have four adjacent locations (up, down, left, and right); locations on the edge or corner of the map have three or two adjacent locations, respectively. (Diagonal locations do not count as adjacent.)\n",
    ">\n",
    ">In the above example, there are four low points, all highlighted: two are in the first row (a 1 and a 0), one is in the third row (a 5), and one is in the bottom row (also a 5). All other locations on the heightmap have some lower adjacent location, and so are not low points.\n",
    ">\n",
    ">The risk level of a low point is 1 plus its height. In the above example, the risk levels of the low points are 2, 1, 6, and 6. The sum of the risk levels of all low points in the heightmap is therefore 15."
   ]
  },
  {
   "cell_type": "markdown",
   "id": "3ae9284f",
   "metadata": {},
   "source": [
    "Finally a easy-to-understand, short description! I'm excited.\n",
    "\n",
    "I recently mentored a junior with a similar kind of problem (for a completely different problem domain, bitmap rendering) so this seems fun."
   ]
  },
  {
   "cell_type": "code",
   "execution_count": 1,
   "id": "7f4d85f5",
   "metadata": {},
   "outputs": [],
   "source": [
    "from utils import read_input\n",
    "\n",
    "def transformer(input_line):\n",
    "    return [int(num) for num in list(input_line)]\n",
    "\n",
    "heightmap = read_input(9, transformer)"
   ]
  },
  {
   "cell_type": "markdown",
   "id": "78d05a12",
   "metadata": {},
   "source": [
    "## Part 1\n",
    "\n",
    "> Find all of the low points on your heightmap. **What is the sum of the risk levels of all low points on your heightmap?**"
   ]
  },
  {
   "cell_type": "markdown",
   "id": "bdcd8938",
   "metadata": {},
   "source": [
    "First mistake I made that caused a bit of trouble in part 2, even though it somehow gave me the right result here, was that I didn't realize diagonal neighbors didn't count.\n",
    "\n",
    "So originally I had all the (up to) 8 neighbors counted.\n",
    "\n",
    "For a more simplified solution, I wrote out all 4 neighbor positions and then depending on the corner cases (top, bottom, left and right), removed once that are not part of the `heightmap`.\n",
    "\n",
    "### Itertools\n",
    "\n",
    "Today's Python library spotlight goes to [itertools](https://docs.python.org/3/library/itertools.html) which contains a selection of methods that generate iterators.\n",
    "\n",
    "Here we use `product` which takes two iterables and returns a cartesian product of those. It's very handy for generating `(i,j)` coordinates:\n",
    "\n",
    "```python\n",
    "import itertools\n",
    "\n",
    "itertools.product([1,2], [3,4])\n",
    "# [(1, 3), (1, 4), (2, 3), (2, 4)]\n",
    "```\n",
    "\n",
    "Other great tools from `itertools` are `permutations` and `combinations`. Both take a list (or any other iterable) and an integer as parameters and generate iterables. `permutations` creates all combinations of length provided and `combinations` does the same but in sorted order (for example, considering `(1,2)` and `(2,1)` as same.\n",
    "\n",
    "```python\n",
    "import itertools\n",
    "\n",
    "letters = ['A', 'B', 'C']\n",
    "\n",
    "itertools.permutations(letters, 2)\n",
    "# [('A', 'B'), ('A', 'C'), ('B', 'A'), ('B', 'C'), ('C', 'A'), ('C', 'B')]\n",
    "\n",
    "itertools.combinations(letters, 2)\n",
    "# [('A', 'B'), ('A', 'C'), ('B', 'C')]\n",
    "```\n",
    "\n",
    "One of the newest additions to the library in Python 3.10 is `pairwise` which is basically a two-item window function (a three-item window function would have been handy in puzzle for day 1).\n",
    "\n",
    "```python\n",
    "import itertools\n",
    "\n",
    "itertools.pairwise([1,2,3,4])\n",
    "# [(1, 2), (2, 3), (3, 4)]\n",
    "```"
   ]
  },
  {
   "cell_type": "code",
   "execution_count": 17,
   "id": "054cb2d3",
   "metadata": {},
   "outputs": [
    {
     "name": "stdout",
     "output_type": "stream",
     "text": [
      "Solution: 545\n"
     ]
    }
   ],
   "source": [
    "import itertools\n",
    "\n",
    "\n",
    "def find_neighbors(heightmap, indices):\n",
    "    i, j = indices\n",
    "    \n",
    "    all_neighbors = [\n",
    "        (i, j+1),\n",
    "        (i, j-1),\n",
    "        (i-1, j),\n",
    "        (i+1, j)\n",
    "    ]\n",
    "\n",
    "    top = i == 0\n",
    "    bottom = i == len(heightmap) - 1    \n",
    "    left = j == 0\n",
    "    right = j == len(heightmap[i]) - 1\n",
    "    \n",
    "    # Remove impossible indices (out of bounds)\n",
    "    if top: all_neighbors.remove((i-1, j))\n",
    "    if bottom: all_neighbors.remove((i+1, j))\n",
    "    if left: all_neighbors.remove((i, j-1))\n",
    "    if right: all_neighbors.remove((i, j+1))\n",
    "        \n",
    "    return all_neighbors\n",
    "    \n",
    "\n",
    "def find_low_points(heightmap):\n",
    "    low_points = []\n",
    "    i_len = len(heightmap)\n",
    "    j_len = len(heightmap[0])\n",
    "    for (i,j) in itertools.product(range(i_len), range(j_len)):\n",
    "        neighbors = find_neighbors(heightmap, (i, j))\n",
    "        height = heightmap[i][j]\n",
    "        if all(heightmap[n][m] > height for n, m in neighbors):\n",
    "            low_points.append((i, j))\n",
    "    return low_points\n",
    "\n",
    "\n",
    "low_points = find_low_points(heightmap)\n",
    "result = sum([heightmap[i][j] + 1 for i,j in low_points])\n",
    "print(f'Solution: {result}')\n",
    "assert result == 545 # For refactoring"
   ]
  },
  {
   "cell_type": "markdown",
   "id": "99f971d5",
   "metadata": {},
   "source": [
    "## Part 2\n",
    "\n",
    ">Next, you need to find the largest basins so you know what areas are most important to avoid.\n",
    ">\n",
    ">A basin is all locations that eventually flow downward to a single low point. Therefore, every low point has a basin, although some basins are very small. Locations of height 9 do not count as being in any basin, and all other locations will always be part of exactly one basin.\n",
    ">\n",
    ">The size of a basin is the number of locations within the basin, including the low point. The example above has four basins.\n",
    "\n",
    "_Editor's note: these basins don't show up in my markdown._\n",
    "\n",
    ">\n",
    ">The top-left basin, size 3:\n",
    ">```\n",
    "2199943210\n",
    "3987894921\n",
    "9856789892\n",
    "8767896789\n",
    "9899965678\n",
    ">```\n",
    ">\n",
    ">The top-right basin, size 9:\n",
    ">```\n",
    "2199943210\n",
    "3987894921\n",
    "9856789892\n",
    "8767896789\n",
    "9899965678\n",
    ">```\n",
    ">\n",
    ">The middle basin, size 14:\n",
    ">```\n",
    "2199943210\n",
    "3987894921\n",
    "9856789892\n",
    "8767896789\n",
    "9899965678\n",
    ">```\n",
    ">\n",
    ">The bottom-right basin, size 9:\n",
    ">```\n",
    "2199943210\n",
    "3987894921\n",
    "9856789892\n",
    "8767896789\n",
    "9899965678\n",
    ">```\n",
    ">\n",
    ">Find the three largest basins and multiply their sizes together. In the above example, this is 9 * 14 * 9 = 1134."
   ]
  },
  {
   "cell_type": "markdown",
   "id": "015e5a41",
   "metadata": {},
   "source": [
    "This one was really hard for me. I was running in circles for hours trying to figure this one out and eventually I got so much help from Vilho and Erno (thanks guys!) that this was 99% their solution and 1% me trying to write it down.\n",
    "\n",
    "It uses [breadth-first search](https://en.wikipedia.org/wiki/Breadth-first_search) algorithm to find basins and to calculate their areas. Not my strongest expertise, I think this was probably the first time I've implemented such a solution. Even when I was told kinda how to solve it, I still struggled to get the pieces in right order."
   ]
  },
  {
   "cell_type": "code",
   "execution_count": 8,
   "id": "06e5da52",
   "metadata": {},
   "outputs": [],
   "source": [
    "def calculate_basin_area(coords, heightmap, visited):\n",
    "    (i, j) = coords\n",
    "    if visited[i][j]:\n",
    "        return 0\n",
    "    \n",
    "    visited[i][j] = True\n",
    "    if heightmap[i][j] == 9: # By definition, values of 9 are not part of any basins\n",
    "        return 0\n",
    "\n",
    "    area = 1\n",
    "    neighbors = find_neighbors(heightmap, (i, j))\n",
    "    for (m, n) in neighbors:\n",
    "        area += calculate_basin_area((m, n), heightmap, visited)\n",
    "    \n",
    "    return area"
   ]
  },
  {
   "cell_type": "markdown",
   "id": "2255ebb2",
   "metadata": {},
   "source": [
    ">**What do you get if you multiply together the sizes of the three largest basins?**"
   ]
  },
  {
   "cell_type": "markdown",
   "id": "4e51e299",
   "metadata": {},
   "source": [
    "Here we find all the low points using the solution from Part 1.\n",
    "\n",
    "Then for each of those, we find the area of the basin they belong to and collect those in a list `basins`.\n",
    "\n",
    "Finally, to get the product of three largest, we sort descending (`sorted(basins, reverse=True)`), pick three (`[:3]`) and then calculate their product."
   ]
  },
  {
   "cell_type": "code",
   "execution_count": 10,
   "id": "70308dba",
   "metadata": {
    "scrolled": true
   },
   "outputs": [
    {
     "name": "stdout",
     "output_type": "stream",
     "text": [
      "Solution: 950600\n"
     ]
    }
   ],
   "source": [
    "low_points = find_low_points(heightmap)\n",
    "visited = [[None for _ in range(len(heightmap[i]))] for i in range(len(heightmap))]\n",
    "\n",
    "basins = []\n",
    "for (i, j) in low_points:\n",
    "    basins.append(calculate_basin_area((i,j), heightmap, visited))\n",
    "\n",
    "three_largest = sorted(basins, reverse=True)[:3]\n",
    "result = three_largest[0] * three_largest[1] * three_largest[2]\n",
    "    \n",
    "print(f'Solution: {result}')\n",
    "assert result == 950600"
   ]
  },
  {
   "cell_type": "markdown",
   "id": "14113b75",
   "metadata": {},
   "source": [
    "## Wrap up\n",
    "\n",
    "Usually around this point, after the first week, the solutions get more math and data structure trivia heavy and my toolbox as a generic web developer starts to run out. Even when I kinda know which structures and algorithms could be usable, my ability to implement them with practical results is very limited.\n",
    "\n",
    "The good part is, those things rarely matter at work unless working with math-heavy sub sections of software development. As a web developer, you can get along very well with pretty much the very basics of understanding algorithm complexity and choosing between lists, sets and dictionaries, and avoiding nested loops.\n",
    "\n",
    "Let's see if Day 10 is where my journey stops or if there's still some fun stuff to do."
   ]
  }
 ],
 "metadata": {
  "kernelspec": {
   "display_name": "Python 3 (ipykernel)",
   "language": "python",
   "name": "python3"
  },
  "language_info": {
   "codemirror_mode": {
    "name": "ipython",
    "version": 3
   },
   "file_extension": ".py",
   "mimetype": "text/x-python",
   "name": "python",
   "nbconvert_exporter": "python",
   "pygments_lexer": "ipython3",
   "version": "3.10.0"
  }
 },
 "nbformat": 4,
 "nbformat_minor": 5
}
