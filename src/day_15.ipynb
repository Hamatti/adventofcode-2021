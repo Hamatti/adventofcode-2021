{
 "cells": [
  {
   "cell_type": "markdown",
   "id": "3e2081fa",
   "metadata": {},
   "source": [
    "# Day 15 - Chiton\n",
    "\n",
    ">You've almost reached the exit of the cave, but the walls are getting closer together. Your submarine can barely still fit, though; the main problem is that the walls of the cave are covered in chitons, and it would be best not to bump any of them.\n",
    ">\n",
    ">The cavern is large, but has a very low ceiling, restricting your motion to two dimensions. The shape of the cavern resembles a square; a quick scan of chiton density produces a map of risk level throughout the cave (your puzzle input). For example:\n",
    ">```\n",
    "1163751742\n",
    "1381373672\n",
    "2136511328\n",
    "3694931569\n",
    "7463417111\n",
    "1319128137\n",
    "1359912421\n",
    "3125421639\n",
    "1293138521\n",
    "2311944581\n",
    ">```\n",
    ">\n",
    ">You start in the top left position, your destination is the bottom right position, and you cannot move diagonally. The number at each position is its risk level; to determine the total risk of an entire path, add up the risk levels of each position you enter (that is, don't count the risk level of your starting position unless you enter it; leaving it adds no risk to your total).\n",
    ">\n",
    ">Your goal is to find a path with the lowest total risk. In this example, a path with the lowest total risk is highlighted here:\n",
    ">```\n",
    "1163751742\n",
    "1381373672\n",
    "2136511328\n",
    "3694931569\n",
    "7463417111\n",
    "1319128137\n",
    "1359912421\n",
    "3125421639\n",
    "1293138521\n",
    "2311944581\n",
    ">```\n",
    ">\n",
    ">The total risk of this path is 40 (the starting position is never entered, so its risk is not counted)."
   ]
  },
  {
   "cell_type": "markdown",
   "id": "6e722df5",
   "metadata": {},
   "source": [
    "## Read input"
   ]
  },
  {
   "cell_type": "code",
   "execution_count": 197,
   "id": "ba66fb24",
   "metadata": {},
   "outputs": [],
   "source": [
    "from utils import read_input\n",
    "\n",
    "def transformer(line):\n",
    "    return [int(v) for v in list(line)]\n",
    "\n",
    "grid = read_input(15, transformer)"
   ]
  },
  {
   "cell_type": "markdown",
   "id": "3bcdad65",
   "metadata": {},
   "source": [
    "Helper functions to calculate score and to print the grid with path walked"
   ]
  },
  {
   "cell_type": "code",
   "execution_count": 198,
   "id": "2cec16d3",
   "metadata": {},
   "outputs": [],
   "source": [
    "def score_path(path, grid):\n",
    "    return sum(grid[y][x] for (x, y) in path if (x,y) != start_position)\n",
    "\n",
    "def print_grid(grid, path):\n",
    "    m = len(grid)\n",
    "    for row in range(m):\n",
    "        n = len(grid[row])\n",
    "        for col in range(n):\n",
    "            if (col, row) in path:\n",
    "                print(f'({grid[row][col]})',end=\"\")\n",
    "            else:\n",
    "                print(f' {grid[row][col]} ', end=\"\")\n",
    "        print()"
   ]
  },
  {
   "cell_type": "markdown",
   "id": "40a12abe",
   "metadata": {},
   "source": [
    "Once again we're getting neighbors and I feel like every time my solution is slightly different.\n",
    "\n",
    "Maybe I should extract this into a utility function one day soon."
   ]
  },
  {
   "cell_type": "code",
   "execution_count": 199,
   "id": "0d06f648",
   "metadata": {},
   "outputs": [],
   "source": [
    "def get_neighbors(position, grid):\n",
    "    max_x = len(grid[0])\n",
    "    max_y = len(grid)\n",
    "    x, y = position\n",
    "    all_neighbors = [\n",
    "        (x, y+1),\n",
    "        (x, y-1),\n",
    "        (x-1, y),\n",
    "        (x+1, y)\n",
    "    ]\n",
    "    \n",
    "    if x-1 < 0:\n",
    "        all_neighbors.remove((x-1, y))\n",
    "    if x+1 >= max_x:\n",
    "        all_neighbors.remove((x+1, y))\n",
    "    if y-1 < 0:\n",
    "        all_neighbors.remove((x, y-1))\n",
    "    if y+1 >= max_y:\n",
    "        all_neighbors.remove((x, y+1))\n",
    "\n",
    "    return all_neighbors"
   ]
  },
  {
   "cell_type": "markdown",
   "id": "b55f7724",
   "metadata": {},
   "source": [
    "I was expecting to see a path finding puzzle soon in Advent of Code and today we got one.\n",
    "\n",
    "[A* search algorithm](https://en.wikipedia.org/wiki/A*_search_algorithm) is what I remember from algorithm courses and Youtube' game dev log videos so let's use that!\n",
    "\n",
    "I struggled quite a bit with a few things but for some reason, my main bug was not in my implementation of A* like I imagined but how I used PriorityQueue."
   ]
  },
  {
   "cell_type": "markdown",
   "id": "1a193834",
   "metadata": {},
   "source": [
    "Reading through the A* pseudocode, we need two helpers here, denoted `d` and `h` in the Wikipedia algorithm linked above.\n",
    "\n",
    "Our `d` function is just the risk value of the position so let's build `get_risk`.\n",
    "\n",
    "Our heuristic function `h` is Manhattan distance which is the sum of `|x1 - x2|` and `|y1 - y2|` in 2D space."
   ]
  },
  {
   "cell_type": "code",
   "execution_count": 200,
   "id": "e4913cd4",
   "metadata": {},
   "outputs": [],
   "source": [
    "def get_risk(position, grid):\n",
    "    x, y = position\n",
    "    return grid[y][x]\n",
    "    \n",
    "def manhattan(pos1, pos2):\n",
    "    return sum((abs(pos1[0] - pos2[0]), abs(pos1[1] - pos2[1])))"
   ]
  },
  {
   "cell_type": "markdown",
   "id": "1d254c05",
   "metadata": {},
   "source": [
    "The A* function `a_star` is just an implementation from Wikipedia since I'm nowhere smart enough to figure this stuff out myself.\n",
    "\n",
    "This was my first time using `PriorityQueue` which is a queue which returns the smallest value when called `.get()`. We store `(risk, position)` combinations there and `.get()` uses the first value in the tuple to determine priority."
   ]
  },
  {
   "cell_type": "code",
   "execution_count": 201,
   "id": "1e7c8161",
   "metadata": {
    "scrolled": true
   },
   "outputs": [],
   "source": [
    "from collections import defaultdict\n",
    "from queue import PriorityQueue\n",
    "import math\n",
    "\n",
    "\n",
    "def reconstruct_path(path, current):\n",
    "    total_path = [current]\n",
    "    while current in path:\n",
    "        current = path[current]\n",
    "        total_path.append(current)\n",
    "    total_path.reverse()\n",
    "    return total_path\n",
    "\n",
    "def a_star(grid, start, goal, h, d):\n",
    "    open_set = PriorityQueue()\n",
    "    open_set.put((0, start))\n",
    "    path = {}\n",
    "\n",
    "    g_score = defaultdict(lambda: math.inf)\n",
    "    g_score[start] = 0\n",
    "    \n",
    "    f_score = defaultdict(lambda: math.inf)\n",
    "    f_score[start] = h(start, goal)\n",
    "    \n",
    "    while not open_set.empty():\n",
    "        risk, current = open_set.get()\n",
    "        if current == goal:\n",
    "            return reconstruct_path(path, current)\n",
    "        \n",
    "        for neighbor in get_neighbors(current, grid):\n",
    "            tentative_g_score = g_score[current] + d(neighbor, grid)\n",
    "            if tentative_g_score < g_score[neighbor]:\n",
    "                path[neighbor] = current\n",
    "                g_score[neighbor] = tentative_g_score\n",
    "                f_score[neighbor] = tentative_g_score + h(neighbor, goal)\n",
    "                if neighbor not in open_set.queue:\n",
    "                    open_set.put((tentative_g_score + h(neighbor, goal), neighbor))\n",
    "                    \n",
    "    return False"
   ]
  },
  {
   "cell_type": "markdown",
   "id": "1f73da81",
   "metadata": {},
   "source": [
    "> **What is the lowest total risk of any path from the top left to the bottom right?**"
   ]
  },
  {
   "cell_type": "code",
   "execution_count": 202,
   "id": "f828c92d",
   "metadata": {},
   "outputs": [
    {
     "name": "stdout",
     "output_type": "stream",
     "text": [
      "Solution: 741\n"
     ]
    }
   ],
   "source": [
    "start_position = (0,0)\n",
    "end_position = (len(grid[0]) - 1, len(grid) - 1)\n",
    "\n",
    "path = a_star(grid, start_position, end_position, manhattan, get_risk)\n",
    "score = score_path(path, grid)\n",
    "\n",
    "print(f'Solution: {score}')\n",
    "assert score == 741"
   ]
  },
  {
   "cell_type": "markdown",
   "id": "8b13b700",
   "metadata": {},
   "source": [
    "## Part 2"
   ]
  },
  {
   "cell_type": "markdown",
   "id": "fb1a0d17",
   "metadata": {},
   "source": [
    ">Now that you know how to find low-risk paths in the cave, you can try to find your way out.\n",
    ">\n",
    ">The entire cave is actually five times larger in both dimensions than you thought; the area you originally scanned is just one tile in a 5x5 tile area that forms the full map. Your original map tile repeats to the right and downward; each time the tile repeats to the right or downward, all of its risk levels are 1 higher than the tile immediately up or left of it. However, risk levels above 9 wrap back around to 1. So, if your original map had some position with a risk level of 8, then that same position on each of the 25 total tiles would be as follows:\n",
    ">\n",
    ">```\n",
    "8 9 1 2 3\n",
    "9 1 2 3 4\n",
    "1 2 3 4 5\n",
    "2 3 4 5 6\n",
    "3 4 5 6 7\n",
    ">```\n",
    ">\n",
    ">Each single digit above corresponds to the example position with a value of 8 on the top-left tile. Because the full map is actually five times larger in both dimensions, that position appears a total of 25 times, once in each duplicated tile, with the values shown above."
   ]
  },
  {
   "cell_type": "markdown",
   "id": "f2f2852a",
   "metadata": {},
   "source": [
    "I originally had this brilliant idea that I don't need to actually generate the missing pieces of the grid, just adjust how `d` and `get_neighbors` work. But I kept getting wrong answer after wrong answer.\n",
    "\n",
    "And then I realized, I had jumped into conclusions without reading (again).\n",
    "\n",
    "I had missed this:\n",
    "\n",
    "> However, risk levels above 9 wrap back around to 1.\n",
    "\n",
    "So my solution was moot.\n",
    "\n",
    "Then I caved in (pun intended) and just created a new, expanded grid.\n",
    "\n",
    "It turned out to be the better solution regardless because it keeps everything else the same."
   ]
  },
  {
   "cell_type": "code",
   "execution_count": 203,
   "id": "3e2ac399",
   "metadata": {},
   "outputs": [],
   "source": [
    "def expand_grid(grid, n=5):\n",
    "    new_grid = []\n",
    "    l = len(grid)\n",
    "    for y in range(l * n):\n",
    "        new_grid.append([])\n",
    "        for x in range(l * n):\n",
    "            orig_x = x % l\n",
    "            orig_y = y % l\n",
    "            orig_value = grid[orig_y][orig_x]\n",
    "            new_value = (orig_value + x // l + y // l)\n",
    "            if new_value > 9:\n",
    "                new_value = new_value - 9\n",
    "            new_grid[y].append(new_value)\n",
    "    return new_grid"
   ]
  },
  {
   "cell_type": "markdown",
   "id": "038367a7",
   "metadata": {},
   "source": [
    "> **Using the full map, what is the lowest total risk of any path from the top left to the bottom right?**"
   ]
  },
  {
   "cell_type": "code",
   "execution_count": 204,
   "id": "3bf692e6",
   "metadata": {},
   "outputs": [
    {
     "name": "stdout",
     "output_type": "stream",
     "text": [
      "Solution: 2976\n"
     ]
    }
   ],
   "source": [
    "new_grid = expand_grid(grid)\n",
    "end_position = (len(new_grid[0]) - 1, len(new_grid) - 1)\n",
    "path = a_star(new_grid, start_position, end_position, manhattan, peek)\n",
    "score = score_path(path, new_grid)\n",
    "print(f'Solution: {score}')\n",
    "assert score == 2976"
   ]
  },
  {
   "cell_type": "markdown",
   "id": "fd8fe58e",
   "metadata": {},
   "source": [
    "## Appendix A: Debug path printer\n",
    "\n",
    "Since the real grids are too big to deal with visually, I want to show what my path printer looks like with the example input.\n",
    "\n",
    "I added a neat `example` flag to my input reader so I can easily get the example data in."
   ]
  },
  {
   "cell_type": "code",
   "execution_count": 205,
   "id": "926caaf0",
   "metadata": {},
   "outputs": [
    {
     "name": "stdout",
     "output_type": "stream",
     "text": [
      "(1) 1  6  3  7  5  1  7  4  2 \n",
      "(1) 3  8  1  3  7  3  6  7  2 \n",
      "(2)(1)(3)(6)(5)(1)(1) 3  2  8 \n",
      " 3  6  9  4  9  3 (1)(5) 6  9 \n",
      " 7  4  6  3  4  1  7 (1) 1  1 \n",
      " 1  3  1  9  1  2  8 (1)(3) 7 \n",
      " 1  3  5  9  9  1  2  4 (2) 1 \n",
      " 3  1  2  5  4  2  1  6 (3) 9 \n",
      " 1  2  9  3  1  3  8  5 (2)(1)\n",
      " 2  3  1  1  9  4  4  5  8 (1)\n"
     ]
    }
   ],
   "source": [
    "example_grid = read_input(15, transformer, example=True)\n",
    "\n",
    "end_position = (len(example_grid[0]) - 1, len(example_grid) - 1)\n",
    "path = a_star(example_grid, start_position, end_position, manhattan, peek)\n",
    "print_grid(example_grid, path)"
   ]
  }
 ],
 "metadata": {
  "kernelspec": {
   "display_name": "Python 3 (ipykernel)",
   "language": "python",
   "name": "python3"
  },
  "language_info": {
   "codemirror_mode": {
    "name": "ipython",
    "version": 3
   },
   "file_extension": ".py",
   "mimetype": "text/x-python",
   "name": "python",
   "nbconvert_exporter": "python",
   "pygments_lexer": "ipython3",
   "version": "3.10.0"
  }
 },
 "nbformat": 4,
 "nbformat_minor": 5
}
