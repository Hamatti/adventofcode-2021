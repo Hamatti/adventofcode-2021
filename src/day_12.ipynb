{
 "cells": [
  {
   "cell_type": "markdown",
   "id": "c5f47b3c",
   "metadata": {},
   "source": [
    "# Day 12 - Passage Pathing\n",
    "\n",
    ">With your submarine's subterranean subsystems subsisting suboptimally, the only way you're getting out of this cave anytime soon is by finding a path yourself. Not just a path - the only way to know if you've found the best path is to find all of them.\n",
    ">\n",
    ">Fortunately, the sensors are still mostly working, and so you build a rough map of the remaining caves (your puzzle input). For example:\n",
    ">```\n",
    "start-A\n",
    "start-b\n",
    "A-c\n",
    "A-b\n",
    "b-d\n",
    "A-end\n",
    "b-end\n",
    ">```\n",
    ">\n",
    ">This is a list of how all of the caves are connected. You start in the cave named start, and your destination is the cave named end. An entry like b-d means that cave b is connected to cave d - that is, you can move between them.\n",
    ">\n",
    ">So, the above cave system looks roughly like this:\n",
    ">```\n",
    "    start\n",
    "    /   \\\n",
    "c--A-----b--d\n",
    "    \\   /\n",
    "     end\n",
    ">```\n",
    ">\n",
    ">Your goal is to find the number of distinct paths that start at start, end at end, and don't visit small caves more than once. There are two types of caves: big caves (written in uppercase, like A) and small caves (written in lowercase, like b). It would be a waste of time to visit any small cave more than once, but big caves are large enough that it might be worth visiting them multiple times. So, all paths you find should visit small caves at most once, and can visit big caves any number of times.\n",
    ">\n",
    ">Given these rules, there are 10 paths through this example cave system:\n",
    ">\n",
    ">```\n",
    "start,A,b,A,c,A,end\n",
    "start,A,b,A,end\n",
    "start,A,b,end\n",
    "start,A,c,A,b,A,end\n",
    "start,A,c,A,b,end\n",
    "start,A,c,A,end\n",
    "start,A,end\n",
    "start,b,A,c,A,end\n",
    "start,b,A,end\n",
    "start,b,end\n",
    ">```\n",
    ">\n",
    ">(Each line in the above list corresponds to a single path; the caves visited by that path are listed in the order they are visited and separated by commas.)\n",
    ">\n",
    ">Note that in this cave system, cave d is never visited by any path: to do so, cave b would need to be visited twice (once on the way to cave d and a second time when returning from cave d), and since cave b is small, this is not allowed.\n",
    ">\n",
    ">Here is a slightly larger example:\n",
    ">\n",
    ">```\n",
    "dc-end\n",
    "HN-start\n",
    "start-kj\n",
    "dc-start\n",
    "dc-HN\n",
    "LN-dc\n",
    "HN-end\n",
    "kj-sa\n",
    "kj-HN\n",
    "kj-dc\n",
    ">```\n",
    ">\n",
    ">The 19 paths through it are as follows:\n",
    ">\n",
    ">```\n",
    "start,HN,dc,HN,end\n",
    "start,HN,dc,HN,kj,HN,end\n",
    "start,HN,dc,end\n",
    "start,HN,dc,kj,HN,end\n",
    "start,HN,end\n",
    "start,HN,kj,HN,dc,HN,end\n",
    "start,HN,kj,HN,dc,end\n",
    "start,HN,kj,HN,end\n",
    "start,HN,kj,dc,HN,end\n",
    "start,HN,kj,dc,end\n",
    "start,dc,HN,end\n",
    "start,dc,HN,kj,HN,end\n",
    "start,dc,end\n",
    "start,dc,kj,HN,end\n",
    "start,kj,HN,dc,HN,end\n",
    "start,kj,HN,dc,end\n",
    "start,kj,HN,end\n",
    "start,kj,dc,HN,end\n",
    "start,kj,dc,end\n",
    ">```\n",
    ">\n",
    ">Finally, this even larger example has 226 paths through it:\n",
    ">\n",
    ">```\n",
    "fs-end\n",
    "he-DX\n",
    "fs-he\n",
    "start-DX\n",
    "pj-DX\n",
    "end-zg\n",
    "zg-sl\n",
    "zg-pj\n",
    "pj-he\n",
    "RW-he\n",
    "fs-DX\n",
    "pj-RW\n",
    "zg-RW\n",
    "start-pj\n",
    "he-WI\n",
    "zg-he\n",
    "pj-fs\n",
    "start-RW\n",
    ">```"
   ]
  },
  {
   "cell_type": "markdown",
   "id": "c7982d1e",
   "metadata": {},
   "source": [
    "## Read input\n",
    "\n",
    "This time, in addition to reading the input, we also create an undirected graph.\n",
    "\n",
    "An undirected graph is a graph where you can go from `node A` to `node B` and from `node B` to `node A`, hence there's no direction. That's how this cave system works: you can move between two caves in either direction."
   ]
  },
  {
   "cell_type": "code",
   "execution_count": 4,
   "id": "937f225e",
   "metadata": {},
   "outputs": [],
   "source": [
    "from utils import read_input\n",
    "from collections import defaultdict\n",
    "\n",
    "\n",
    "def transformer(line):\n",
    "    return line.split('-')\n",
    "\n",
    "paths = read_input(12, transformer)\n",
    "\n",
    "caves = defaultdict(set)\n",
    "for a, b in paths:\n",
    "    caves[a].add(b)\n",
    "    caves[b].add(a)"
   ]
  },
  {
   "cell_type": "markdown",
   "id": "4c5db20e",
   "metadata": {},
   "source": [
    "## Part 1\n",
    "\n",
    "In one of the previous puzzles, we had to work with breadth-first search and this time we're working with [depth-first search](https://en.wikipedia.org/wiki/Depth-first_search) and finding all possible routes from `start` to `finish` (with some extra rules).\n",
    "\n",
    "The extra rules are codified in `can_enter` function. In this part 1, if the name of the cave is in lower case, we can only enter it once."
   ]
  },
  {
   "cell_type": "code",
   "execution_count": 5,
   "id": "fbc037c9",
   "metadata": {},
   "outputs": [],
   "source": [
    "def can_enter(cave, path):\n",
    "    return not (cave.islower() and cave in path)"
   ]
  },
  {
   "cell_type": "markdown",
   "id": "84e00dc5",
   "metadata": {},
   "source": [
    "To make a map, we start from `start` cave and recursively find all the paths for each of the caves you can access from.\n",
    "\n",
    "Once we reach an `end`, we return our path so far and we collect these paths into a map (`a_map` is called that instead of `map` because `map` is a built-in function in Python and I don't want to override that).\n",
    "\n",
    "If we reached a cave that is not `end`, we find all caves it is connected to, check if we can enter them by rules and if we can, we find all the paths from those towards the end."
   ]
  },
  {
   "cell_type": "code",
   "execution_count": 7,
   "id": "3eb1eee3",
   "metadata": {
    "scrolled": true
   },
   "outputs": [
    {
     "name": "stdout",
     "output_type": "stream",
     "text": [
      "Solution: 3495\n"
     ]
    }
   ],
   "source": [
    "def make_a_map(caves):\n",
    "    a_map = []\n",
    "    for next_cave in caves['start']:\n",
    "        paths = find_all_paths(next_cave, caves, ['start'])\n",
    "        if paths: # Filter out empty paths\n",
    "            a_map.extend(paths)\n",
    "    return a_map\n",
    "\n",
    "\n",
    "def find_all_paths(cave, caves, path):\n",
    "    path = path[:]\n",
    "    path.append(cave)\n",
    "    if cave == 'end':\n",
    "        return [path]\n",
    "    all_paths = []\n",
    "    for next_cave in caves[cave]:\n",
    "        if can_enter(next_cave, path):\n",
    "            paths = find_all_paths(next_cave, caves, path)\n",
    "            all_paths.extend(paths)\n",
    "\n",
    "    return all_paths\n",
    "\n",
    "\n",
    "a_map = make_a_map(caves)\n",
    "result = len(a_map)\n",
    "print(f'Solution: {result}')\n",
    "assert result == 3495"
   ]
  },
  {
   "cell_type": "markdown",
   "id": "8311fb5a",
   "metadata": {},
   "source": [
    "## Part 2\n",
    "\n",
    ">After reviewing the available paths, you realize you might have time to visit a single small cave twice. >\n",
    ">\n",
    ">Specifically, big caves can be visited any number of times, a single small cave can be visited at most twice, and the remaining small caves can be visited at most once. However, the caves named start and end can only be visited exactly once each: once you leave the start cave, you may not return to it, and once you reach the end cave, the path must end immediately."
   ]
  },
  {
   "cell_type": "markdown",
   "id": "1f5b6840",
   "metadata": {},
   "source": [
    "The only thing that changes for part 2 is the rule for when a cave can be re-entered. So we only need to change our `can_enter` function.\n",
    "\n",
    "Since `make_a_map` and `find_all_paths` are otherwise exactly the same, in a non Advent of Code environment, I would pass the `can_enter` validation function as a parameter to `make_a_map` so I'd only need to have that piece of code once. However, since I don't generally like to introduce unnecessary bits in part 1 code, I'm keeping it like this."
   ]
  },
  {
   "cell_type": "code",
   "execution_count": 8,
   "id": "3999dc56",
   "metadata": {},
   "outputs": [
    {
     "name": "stdout",
     "output_type": "stream",
     "text": [
      "Solution: 94849\n"
     ]
    }
   ],
   "source": [
    "def can_enter(cave, path):\n",
    "    if cave.islower() and path.count(cave) == 2:\n",
    "        return False\n",
    "    if cave.islower() and cave in path and any(c.islower() and path.count(c) == 2 for c in path):\n",
    "        return False\n",
    "    if cave == 'start':\n",
    "        return False\n",
    "    return True\n",
    "\n",
    "def make_a_map(caves):\n",
    "    a_map = []\n",
    "    for next_cave in caves['start']:\n",
    "        paths = find_all_paths(next_cave, caves, ['start'])\n",
    "        if paths: # Filter out empty paths\n",
    "            a_map.extend(paths)\n",
    "    return a_map\n",
    "\n",
    "def find_all_paths(cave, caves, path):\n",
    "    path = path[:]\n",
    "    path.append(cave)\n",
    "    if cave == 'end':\n",
    "        return [path]\n",
    "    all_paths = []\n",
    "    for next_cave in caves[cave]:\n",
    "        if can_enter(next_cave, path):\n",
    "            paths = find_all_paths(next_cave, caves, path)\n",
    "            all_paths.extend(paths)\n",
    "\n",
    "    return all_paths\n",
    "\n",
    "\n",
    "a_map = make_a_map(caves)\n",
    "result = len(a_map)\n",
    "print(f'Solution: {result}')\n",
    "assert result == 94849"
   ]
  },
  {
   "cell_type": "markdown",
   "id": "efa84ec9",
   "metadata": {},
   "source": [
    "## Wrap up\n",
    "\n",
    "Graphs are hard for me. I really really struggled with the breadth-first search in Day 9 but I managed to solve today's puzzle all on my own without any help! It took me a good pondering though since I had trouble finding the right combination of returning out of the function and being able to collect all the paths.\n",
    "\n",
    "And then I missed the _\"and the remaining small caves can be visited at most once\"_ part of the rules in second part and was so confused for why certain paths were not allowed. Once I realized that, everything fell in place nicely.\n",
    "\n",
    "This might be my most proud achievement in Advent of Code ever. I guess my skills are improving!\n",
    "\n",
    "PS. If you wanna learn something new and see solutions that your friends very likely did not reach, check out [Tess Ferrandez](https://twitter.com/TessFerrandez/)'s Twitter and her solutions. Whether it's using complex numbers to deal with 2D coordinate system, a region merge system instead of breadth-first search or dynamic programming, her solutions are ones that I haven't seen anywhere else (and they're in Python!) and I've been learning so much from her this year."
   ]
  }
 ],
 "metadata": {
  "kernelspec": {
   "display_name": "Python 3 (ipykernel)",
   "language": "python",
   "name": "python3"
  },
  "language_info": {
   "codemirror_mode": {
    "name": "ipython",
    "version": 3
   },
   "file_extension": ".py",
   "mimetype": "text/x-python",
   "name": "python",
   "nbconvert_exporter": "python",
   "pygments_lexer": "ipython3",
   "version": "3.10.0"
  }
 },
 "nbformat": 4,
 "nbformat_minor": 5
}
