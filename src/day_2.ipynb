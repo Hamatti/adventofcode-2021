{
 "cells": [
  {
   "cell_type": "markdown",
   "id": "91a8b9e2",
   "metadata": {},
   "source": [
    "# Day 2 - Dive!\n",
    "\n",
    ">Now, you need to figure out how to pilot this thing.\n",
    ">\n",
    ">It seems like the submarine can take a series of commands like forward 1, down 2, or up 3:\n",
    ">\n",
    ">`forward X` increases the horizontal position by X units.\n",
    ">`down X` increases the depth by X units.\n",
    ">`up X` decreases the depth by X units.\n",
    ">Note that since you're on a submarine, down and up affect your depth, and so they have the opposite result of what you might expect.\n",
    ">\n",
    ">The submarine seems to already have a planned course (your puzzle input). You should probably figure out where it's going. For example:\n",
    ">```\n",
    "forward 5\n",
    "down 5\n",
    "forward 8\n",
    "up 3\n",
    "down 8\n",
    "forward 2\n",
    ">```\n",
    ">\n",
    ">Your horizontal position and depth both start at 0. The steps above would then modify them as follows:\n",
    ">\n",
    ">`forward 5` adds 5 to your horizontal position, a total of 5.\n",
    ">`down 5` adds 5 to your depth, resulting in a value of 5.\n",
    ">`forward 8` adds 8 to your horizontal position, a total of 13.\n",
    ">`up 3` decreases your depth by 3, resulting in a value of 2.\n",
    ">`down 8` adds 8 to your depth, resulting in a value of 10.\n",
    ">`forward 2` adds 2 to your horizontal position, a total of 15.\n",
    ">\n",
    ">After following these instructions, you would have a horizontal position of 15 and a depth of 10. (Multiplying these together produces 150.)"
   ]
  },
  {
   "cell_type": "markdown",
   "id": "278d57bb",
   "metadata": {},
   "source": [
    "Like every day, we'll start by reading our input data using the helper function in `utils.py`."
   ]
  },
  {
   "cell_type": "code",
   "execution_count": 4,
   "id": "47f656cf",
   "metadata": {},
   "outputs": [],
   "source": [
    "from utils import read_input\n",
    "\n",
    "instructions = read_input(2)"
   ]
  },
  {
   "cell_type": "markdown",
   "id": "87ce0aa7",
   "metadata": {},
   "source": [
    "## Part 1"
   ]
  },
  {
   "cell_type": "markdown",
   "id": "96c71a2a",
   "metadata": {},
   "source": [
    "### Named tuples\n",
    "\n",
    "This challenge is a great place to use named tuples! They make the code much nicer to read and easier to interact with since we have a position of two values (depth and horizontal position) so we could use a list (`[0, 1]`) or a tuple (`(0, 1)`) but we'd always have to try to remember which one is which.\n",
    "\n",
    "Using [namedtuple](https://docs.python.org/3/library/collections.html#collections.namedtuple) from the `collections` module, we can give our position and its values names and refer to those while being completely compatible with any code that deals with regular tuples.\n",
    "\n",
    "And not only that, it has a really nice print output so we can just print the tuple itself and not have to wrap it around custom f-strings to showcase what value is what."
   ]
  },
  {
   "cell_type": "code",
   "execution_count": 19,
   "id": "5cb366d1",
   "metadata": {},
   "outputs": [],
   "source": [
    "from collections import namedtuple\n",
    "\n",
    "Position = namedtuple('Position', ['depth', 'horizontal'])"
   ]
  },
  {
   "cell_type": "markdown",
   "id": "3d8aa8c6",
   "metadata": {},
   "source": [
    "### Pattern matching\n",
    "\n",
    "Finally I get to use [pattern matching](https://hamatti.org/posts/pattern-matching-is-coming-to-python/) that was added to Python in the latest 3.10 release!\n",
    "\n",
    "Pattern matching is really nice for situations like these where you have a finite set of options.\n",
    "\n",
    "If you attempt to run the below code yourself and get a syntax error on `match op`, check that you're running 3.10 or later version of Python (you can do it with `python --version` or within Python with\n",
    "\n",
    "```python\n",
    "import platform\n",
    "print(platform.python_version())\n",
    "```"
   ]
  },
  {
   "cell_type": "code",
   "execution_count": 17,
   "id": "bc0f0de2",
   "metadata": {
    "scrolled": true
   },
   "outputs": [],
   "source": [
    "def calculate_new_position(instructions):\n",
    "    depth = 0\n",
    "    horizontal = 0\n",
    "    \n",
    "    for instruction in instructions:\n",
    "        op, delta = instruction.split(' ')\n",
    "        delta = int(delta)\n",
    "        match op:\n",
    "            case 'forward':\n",
    "                horizontal += delta\n",
    "            case 'up':\n",
    "                depth -= delta\n",
    "            case 'down':\n",
    "                depth += delta\n",
    "            case _:\n",
    "                pass\n",
    "            \n",
    "    return Position(depth, horizontal)\n",
    "            "
   ]
  },
  {
   "cell_type": "code",
   "execution_count": 20,
   "id": "0819370a",
   "metadata": {},
   "outputs": [
    {
     "name": "stdout",
     "output_type": "stream",
     "text": [
      "Final position: Position(depth=1030, horizontal=2010)\n"
     ]
    }
   ],
   "source": [
    "part1_final_position = calculate_new_position(instructions)\n",
    "print(f'Final position: {part1_final_position}')"
   ]
  },
  {
   "cell_type": "markdown",
   "id": "3bc851fe",
   "metadata": {},
   "source": [
    "> Calculate the horizontal position and depth you would have after following the planned course. \n",
    ">\n",
    "> **What do you get if you multiply your final horizontal position by your final depth?**"
   ]
  },
  {
   "cell_type": "code",
   "execution_count": 14,
   "id": "b7dfb03e",
   "metadata": {
    "scrolled": true
   },
   "outputs": [
    {
     "name": "stdout",
     "output_type": "stream",
     "text": [
      "Result: 2070300\n"
     ]
    }
   ],
   "source": [
    "print(f'Result: {part1_final_position.depth * part1_final_position.horizontal}')"
   ]
  },
  {
   "cell_type": "markdown",
   "id": "fef8f574",
   "metadata": {},
   "source": [
    "## Part 2\n",
    "\n",
    ">Based on your calculations, the planned course doesn't seem to make any sense. You find the submarine manual and discover that the process is actually slightly more complicated.\n",
    ">\n",
    ">In addition to horizontal position and depth, you'll also need to track a third value, aim, which also starts at 0. The commands also mean something entirely different than you first thought:\n",
    ">\n",
    ">down X increases your aim by X units.\n",
    ">up X decreases your aim by X units.\n",
    ">forward X does two things:\n",
    ">- It increases your horizontal position by X units.\n",
    ">- It increases your depth by your aim multiplied by X.\n",
    ">\n",
    ">Again note that since you're on a submarine, down and up do the opposite of what you might expect: \"down\" means aiming in the positive direction.\n",
    ">\n",
    ">Now, the above example does something different:\n",
    ">\n",
    ">`forward 5` adds 5 to your horizontal position, a total of 5. Because your aim is 0, your depth does not change.\n",
    ">`down 5` adds 5 to your aim, resulting in a value of 5.\n",
    ">`forward 8` adds 8 to your horizontal position, a total of 13. Because your aim is 5, your depth increases by 8*5=40.\n",
    ">`up 3` decreases your aim by 3, resulting in a value of 2.\n",
    ">`down 8` adds 8 to your aim, resulting in a value of 10.\n",
    ">`forward 2` adds 2 to your horizontal position, a total of 15. Because your aim is 10, your depth increases by 2*10=20 to a total of 60.\n",
    ">\n",
    ">After following these new instructions, you would have a horizontal position of 15 and a depth of 60. (Multiplying these produces 900.)"
   ]
  },
  {
   "cell_type": "markdown",
   "id": "7609ca0e",
   "metadata": {},
   "source": [
    "To adjust to the new process, let's create a new function that takes the aim into account."
   ]
  },
  {
   "cell_type": "code",
   "execution_count": 34,
   "id": "3c5f6531",
   "metadata": {},
   "outputs": [],
   "source": [
    "def calculate_real_position(instructions):\n",
    "    depth = 0\n",
    "    horizontal = 0\n",
    "    aim = 0\n",
    "    \n",
    "    for instruction in instructions:\n",
    "        op, delta = instruction.split(' ')\n",
    "        delta = int(delta)\n",
    "        match op:\n",
    "            case 'forward':\n",
    "                horizontal += delta\n",
    "                depth += aim * delta\n",
    "            case 'up':\n",
    "                aim -= delta\n",
    "            case 'down':\n",
    "                aim += delta\n",
    "            case _:\n",
    "                pass\n",
    "            \n",
    "    return Position(depth, horizontal)"
   ]
  },
  {
   "cell_type": "code",
   "execution_count": 35,
   "id": "a37e2d43",
   "metadata": {},
   "outputs": [
    {
     "name": "stdout",
     "output_type": "stream",
     "text": [
      "Position(depth=1034321, horizontal=2010)\n"
     ]
    }
   ],
   "source": [
    "part2_final_position = calculate_real_position(instructions)\n",
    "print(part2_final_position)"
   ]
  },
  {
   "cell_type": "code",
   "execution_count": 36,
   "id": "0c87d8b6",
   "metadata": {
    "scrolled": false
   },
   "outputs": [
    {
     "name": "stdout",
     "output_type": "stream",
     "text": [
      "Result: 2078985210\n"
     ]
    }
   ],
   "source": [
    "print(f'Result: {part2_final_position.depth * part2_final_position.horizontal}')"
   ]
  },
  {
   "cell_type": "markdown",
   "id": "58865b80",
   "metadata": {},
   "source": [
    "### Using a custom transformer function\n",
    "\n",
    "In the above example, I used `read_input` function merely to read the raw input.\n",
    "\n",
    "However, it supports using custom transformer functions (I used `int` in day 1) so here's a way we could have front loaded the information parsing to that function to have a bit more cleaner data to work with.\n",
    "\n",
    "This way, `better_calculate_real_position` function doesn't need to mess with splitting strings and converting to integers but can purely rely on doing what it is supposed to do and calculate the position."
   ]
  },
  {
   "cell_type": "code",
   "execution_count": 50,
   "id": "9b8b8349",
   "metadata": {},
   "outputs": [
    {
     "name": "stdout",
     "output_type": "stream",
     "text": [
      "Position(depth=1034321, horizontal=2010)\n",
      "Result: 2078985210\n"
     ]
    }
   ],
   "source": [
    "def transformer(instruction):    \n",
    "    op, delta = instruction.split(' ')\n",
    "    delta = int(delta)\n",
    "    \n",
    "    return [op, delta]\n",
    "\n",
    "beta_instructions = read_input(2, transformer)\n",
    "\n",
    "def better_calculate_real_position(instructions):\n",
    "    depth = 0\n",
    "    horizontal = 0\n",
    "    aim = 0\n",
    "    \n",
    "    for [op, delta] in instructions:\n",
    "        match op:\n",
    "            case 'forward':\n",
    "                horizontal += delta\n",
    "                depth += aim * delta\n",
    "            case 'up':\n",
    "                aim -= delta\n",
    "            case 'down':\n",
    "                aim += delta\n",
    "            case _:\n",
    "                pass\n",
    "            \n",
    "    return Position(depth, horizontal)\n",
    "\n",
    "result = better_calculate_real_position(beta_instructions)\n",
    "print(result)\n",
    "print(f'Result: {result.depth * result.horizontal}')"
   ]
  }
 ],
 "metadata": {
  "kernelspec": {
   "display_name": "Python 3 (ipykernel)",
   "language": "python",
   "name": "python3"
  },
  "language_info": {
   "codemirror_mode": {
    "name": "ipython",
    "version": 3
   },
   "file_extension": ".py",
   "mimetype": "text/x-python",
   "name": "python",
   "nbconvert_exporter": "python",
   "pygments_lexer": "ipython3",
   "version": "3.10.0"
  }
 },
 "nbformat": 4,
 "nbformat_minor": 5
}
