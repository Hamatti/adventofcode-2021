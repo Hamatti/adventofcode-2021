{
 "cells": [
  {
   "cell_type": "markdown",
   "id": "f223bc0c",
   "metadata": {},
   "source": [
    "# Day 21 - Dirac Dice\n",
    "\n",
    ">There's not much to do as you slowly descend to the bottom of the ocean. The submarine computer challenges you to a nice game of Dirac Dice.\n",
    ">\n",
    ">This game consists of a single die, two pawns, and a game board with a circular track containing ten spaces marked 1 through 10 clockwise. Each player's starting space is chosen randomly (your puzzle input). Player 1 goes first.\n",
    ">\n",
    ">Players take turns moving. On each player's turn, the player rolls the die three times and adds up the results. Then, the player moves their pawn that many times forward around the track (that is, moving clockwise on spaces in order of increasing value, wrapping back around to 1 after 10). So, if a player is on space 7 and they roll 2, 2, and 1, they would move forward 5 times, to spaces 8, 9, 10, 1, and finally stopping on 2.\n",
    ">\n",
    ">After each player moves, they increase their score by the value of the space their pawn stopped on. Players' scores start at 0. So, if the first player starts on space 7 and rolls a total of 5, they would stop on space 2 and add 2 to their score (for a total score of 2). The game immediately ends as a win for any player whose score reaches at least 1000.\n",
    ">\n",
    ">Since the first game is a practice game, the submarine opens a compartment labeled deterministic dice and a 100-sided die falls out. This die always rolls 1 first, then 2, then 3, and so on up to 100, after which it starts over at 1 again. Play using this die.\n",
    ">\n",
    ">For example, given these starting positions:\n",
    ">\n",
    ">```\n",
    "Player 1 starting position: 4\n",
    "Player 2 starting position: 8\n",
    ">```\n",
    ">\n",
    ">This is how the game would go:\n",
    ">\n",
    ">```\n",
    "Player 1 rolls 1+2+3 and moves to space 10 for a total score of 10.\n",
    "Player 2 rolls 4+5+6 and moves to space 3 for a total score of 3.\n",
    "Player 1 rolls 7+8+9 and moves to space 4 for a total score of 14.\n",
    "Player 2 rolls 10+11+12 and moves to space 6 for a total score of 9.\n",
    "Player 1 rolls 13+14+15 and moves to space 6 for a total score of 20.\n",
    "Player 2 rolls 16+17+18 and moves to space 7 for a total score of 16.\n",
    "Player 1 rolls 19+20+21 and moves to space 6 for a total score of 26.\n",
    "Player 2 rolls 22+23+24 and moves to space 6 for a total score of 22.\n",
    "...after many turns...\n",
    ">```\n",
    ">\n",
    ">```\n",
    "Player 2 rolls 82+83+84 and moves to space 6 for a total score of 742.\n",
    "Player 1 rolls 85+86+87 and moves to space 4 for a total score of 990.\n",
    "Player 2 rolls 88+89+90 and moves to space 3 for a total score of 745.\n",
    "Player 1 rolls 91+92+93 and moves to space 10 for a final score, 1000.\n",
    ">```\n",
    ">\n",
    ">Since player 1 has at least 1000 points, player 1 wins and the game ends. At this point, the losing player had 745 points and the die had been rolled a total of 993 times; `745 * 993 = 739785`."
   ]
  },
  {
   "cell_type": "markdown",
   "id": "4f8739a7",
   "metadata": {},
   "source": [
    "## Read input"
   ]
  },
  {
   "cell_type": "markdown",
   "id": "d1dded2f",
   "metadata": {},
   "source": [
    "Today's input is simple: two lines that look like this:\n",
    "> `Player 2 starting position: 4`\n",
    "\n",
    "We're only really interested in the second number on each line: the starting position. Using regex to find all numbers and then taking the second one. We create a namedtuple for `Player` and read our inputs into a list of `Player`s.\n",
    "\n",
    "Then we create a game state with two players, `a` and `b` (because `1` and `2` are not valid identifiers), a counter for how many times the die has been rolled and who's turn it will be next."
   ]
  },
  {
   "cell_type": "code",
   "execution_count": 1,
   "id": "af595a3b",
   "metadata": {},
   "outputs": [],
   "source": [
    "from collections import namedtuple\n",
    "import re\n",
    "\n",
    "from utils import read_input\n",
    "\n",
    "\n",
    "Player = namedtuple('Player', [\"position\", \"score\"])\n",
    "GameState = namedtuple('GameState', ['a', 'b', 'die_rolled', 'turn'])\n",
    "\n",
    "def transformer(line):\n",
    "    starting_position = re.findall(r'\\d', line)[1]\n",
    "    return Player(position=int(starting_position), score=0)\n",
    "\n",
    "players = read_input(21, transformer)\n",
    "\n",
    "game = GameState(\n",
    "    a = players[0],\n",
    "    b = players[1],\n",
    "    die_rolled = 0,\n",
    "    turn = 0\n",
    ")"
   ]
  },
  {
   "cell_type": "markdown",
   "id": "8316b024",
   "metadata": {},
   "source": [
    "## Part 1\n",
    "\n",
    ">Play a practice game using the deterministic 100-sided die. The moment either player wins, **what do you get if you multiply the score of the losing player by the number of times the die was rolled during the game?**"
   ]
  },
  {
   "cell_type": "markdown",
   "id": "32daff18",
   "metadata": {},
   "source": [
    "Let's start by building our die. The practice die counts from 1 to 100 and then loops over.\n",
    "\n",
    "A Python [generator function](https://docs.python.org/3/howto/functional.html#generators) is great for this. By combining `while True` loop and `yield` keyword, we can create an infinite generator that will gives us our next roll when called `next` on.\n",
    "\n",
    "Since calling `next` on a die is not thematic, I also built a helper funciton `roll(die)` to make it clear that is what we are doing. Wrapping function calls into other function calls is sometimes a good way to create a clearer API for your application, even if it just changes the name of the function being called. Here `roll` makes much more sense when read through than `next`."
   ]
  },
  {
   "cell_type": "code",
   "execution_count": 2,
   "id": "18129446",
   "metadata": {},
   "outputs": [],
   "source": [
    "def deterministic_d100():\n",
    "    roll = 0\n",
    "    while True:\n",
    "        yield roll % 100 + 1\n",
    "        roll += 1\n",
    "\n",
    "def roll(die):\n",
    "    return next(die)"
   ]
  },
  {
   "cell_type": "markdown",
   "id": "32644fc7",
   "metadata": {},
   "source": [
    "Next, our gameplay loop. Each turn consists of a player rolling three times, seeing where they land an calculating a score.\n",
    "\n",
    "To calculate the new position on a board that loops over after 10, I take the last digit of the resulting position and if it's 0, set the position to 10."
   ]
  },
  {
   "cell_type": "code",
   "execution_count": 3,
   "id": "4af8daf6",
   "metadata": {},
   "outputs": [],
   "source": [
    "def play_a_turn(player, die):\n",
    "    position = player.position\n",
    "    for _ in range(3):\n",
    "        roll = next(die)\n",
    "        position += roll\n",
    "        if position > 10:\n",
    "            position = int(str(position)[-1])\n",
    "            if position == 0:\n",
    "                position = 10\n",
    "    \n",
    "    score = player.score + position\n",
    "    return position, score"
   ]
  },
  {
   "cell_type": "markdown",
   "id": "375af636",
   "metadata": {},
   "source": [
    "To play a full game, we start by creating our deterministic D100 die.\n",
    "\n",
    "Then we play until either player scores 1000 points."
   ]
  },
  {
   "cell_type": "code",
   "execution_count": 4,
   "id": "bd7c186e",
   "metadata": {
    "scrolled": true
   },
   "outputs": [],
   "source": [
    "def play_game(game_state):\n",
    "    die = deterministic_d100()\n",
    "\n",
    "    while game_state.a.score < 1000 and game_state.b.score < 1000:\n",
    "        player = game_state[game_state.turn % 2]\n",
    "        new_pos, new_score = play_a_turn(player, die)\n",
    "\n",
    "        if game_state.turn == 0:\n",
    "            game_state = GameState(\n",
    "                a = Player(new_pos, new_score),\n",
    "                b = game_state.b,\n",
    "                die_rolled = game_state.die_rolled + 3,\n",
    "                turn = 1\n",
    "            )\n",
    "        else:\n",
    "            game_state = GameState(\n",
    "                a = game_state.a,\n",
    "                b = Player(new_pos, new_score),\n",
    "                die_rolled = game_state.die_rolled + 3,\n",
    "                turn = 0\n",
    "            )\n",
    "         \n",
    "    return game_state"
   ]
  },
  {
   "cell_type": "markdown",
   "id": "addced69",
   "metadata": {},
   "source": [
    "Score for the puzzle is lower of the two scores multiplied by how many times the die was rolled."
   ]
  },
  {
   "cell_type": "code",
   "execution_count": 6,
   "id": "821cc75a",
   "metadata": {},
   "outputs": [],
   "source": [
    "def score(game_state):\n",
    "    loser = min([game_state.a, game_state.b], key=lambda player: player.score)\n",
    "    return loser.score * game_state.die_rolled"
   ]
  },
  {
   "cell_type": "code",
   "execution_count": 7,
   "id": "24670cde",
   "metadata": {},
   "outputs": [
    {
     "name": "stdout",
     "output_type": "stream",
     "text": [
      "Solution: 998088\n"
     ]
    }
   ],
   "source": [
    "end_state = play_game(game)\n",
    "res = score(end_state)\n",
    "print(f'Solution: {res}')\n",
    "assert res == 998088 # For refactoring"
   ]
  },
  {
   "cell_type": "markdown",
   "id": "04796f3f",
   "metadata": {},
   "source": [
    "## Part 2\n",
    "\n",
    ">Now that you're warmed up, it's time to play the real game.\n",
    ">\n",
    ">A second compartment opens, this time labeled Dirac dice. Out of it falls a single three-sided die.\n",
    ">\n",
    ">As you experiment with the die, you feel a little strange. An informational brochure in the compartment explains that this is a quantum die: when you roll it, the universe splits into multiple copies, one copy for each possible outcome of the die. In this case, rolling the die always splits the universe into three copies: one where the outcome of the roll was 1, one where it was 2, and one where it was 3.\n",
    ">\n",
    ">The game is played the same as before, although to prevent things from getting too far out of hand, the game now ends when either player's score reaches at least 21.\n",
    ">\n",
    ">Using the same starting positions as in the example above, player 1 wins in `444356092776315` universes, while player 2 merely wins in `341960390180808` universes.\n",
    ">\n",
    ">Using your given starting positions, determine every possible outcome. Find the player that wins in more universes; in how many universes does that player win?"
   ]
  },
  {
   "cell_type": "markdown",
   "id": "58abb18c",
   "metadata": {},
   "source": [
    "It's time to build some trees again. I was mostly disappointed that I didn't get to build a new die for this one, I built the original one as a generator with hopes that building a more complex die was gonna play a role in this second part.\n",
    "\n",
    "Instead, we got multiverse puzzle and lots and lots of die rolling."
   ]
  },
  {
   "cell_type": "markdown",
   "id": "7b8fb291",
   "metadata": {},
   "source": [
    "Few helpers to get started.\n",
    "\n",
    "Game can only finish after each 3 rolls since that's when the new score is counted. For the game played in part 2, the score to get is 21 (I originally forgot that part, turns out playing to 1000 is quite a lot)."
   ]
  },
  {
   "cell_type": "code",
   "execution_count": 32,
   "id": "cdd9962c",
   "metadata": {},
   "outputs": [],
   "source": [
    "def is_over(game):\n",
    "    return game.die_rolled % 3 == 0 and (game.a.score >= 21 or game.b.score >= 21)\n",
    "\n",
    "def did_player_a_win(game):\n",
    "    return game.a.score > game.b.score"
   ]
  },
  {
   "cell_type": "markdown",
   "id": "b22a011b",
   "metadata": {},
   "source": [
    "Main loop of the game is quite similarly implemented as in part 1 but instead of us rolling three times in a row, we only roll once because after each roll, more universes must be created.\n",
    "\n",
    "So player moves according to their roll, counts new position and score and if it was their third roll, give the turn to the other player."
   ]
  },
  {
   "cell_type": "code",
   "execution_count": 9,
   "id": "6d101e62",
   "metadata": {},
   "outputs": [],
   "source": [
    "def advance(game, roll):\n",
    "    player = game[game.turn % 2]\n",
    "    \n",
    "    new_position = player.position + roll\n",
    "    if new_position > 10:\n",
    "        new_position = int(str(new_position)[-1])\n",
    "        if new_position == 0:\n",
    "            new_position = 10\n",
    "    \n",
    "    new_score = player.score\n",
    "    next_turn = game.turn\n",
    "    if (game.die_rolled + 1) % 3 == 0: # Switch turns after 3 rolls\n",
    "        new_score = player.score + new_position\n",
    "        next_turn = 1 if game.turn == 0 else 0\n",
    "       \n",
    "    if game.turn == 0:\n",
    "        return GameState(\n",
    "            a=Player(new_position, new_score),\n",
    "            b=game.b,\n",
    "            die_rolled=game.die_rolled+1,\n",
    "            turn=next_turn\n",
    "        )\n",
    "    else:\n",
    "        return GameState(\n",
    "            a=game.a,\n",
    "            b=Player(new_position, new_score),\n",
    "            die_rolled=game.die_rolled+1,\n",
    "            turn=next_turn\n",
    "        )"
   ]
  },
  {
   "cell_type": "markdown",
   "id": "001fa4f9",
   "metadata": {},
   "source": [
    "Erno taught me about [functools.cache](https://docs.python.org/3/library/functools.html#functools.cache) today which helps with performance. It required me to rewrite my game state logic from a non-hashable dictionary into a hashable tuple (which in turn also helped make my code much cleaner).\n",
    "\n",
    "If I run my `play` function without a cache, it takes a long, long time to run (I stopped waiting after a few minutes). With `@cache` [decorator](https://docs.python.org/3/glossary.html#term-decorator), it takes 12 seconds.\n",
    "\n",
    "What `@cache` does, is that it takes a look at the input (in our case, the game state) and sees if that exact game state has already been encountered and if so, it will use the value of that previously saved called."
   ]
  },
  {
   "cell_type": "code",
   "execution_count": 33,
   "id": "55064998",
   "metadata": {},
   "outputs": [],
   "source": [
    "from functools import cache\n",
    "\n",
    "\n",
    "@cache\n",
    "def play(game_state):\n",
    "    if is_over(game_state):\n",
    "        if did_player_a_win(game_state):\n",
    "            return [1, 0]\n",
    "        else:\n",
    "            return [0, 1]\n",
    "\n",
    "    wins = [0, 0]\n",
    "    for roll in [1,2,3]:\n",
    "        next_game_state = game_state\n",
    "        next_game_state = advance(next_game_state, roll)\n",
    "        new_wins = play(next_game_state)\n",
    "        for idx, win in enumerate(new_wins):\n",
    "            wins[idx] += win\n",
    "    \n",
    "    return wins"
   ]
  },
  {
   "cell_type": "markdown",
   "id": "17417f7f",
   "metadata": {},
   "source": [
    ">Using your given starting positions, determine every possible outcome. **Find the player that wins in more universes; in how many universes does that player win?**\n",
    "\n",
    "We calculate all the wins and find the larger one."
   ]
  },
  {
   "cell_type": "code",
   "execution_count": 34,
   "id": "232119ca",
   "metadata": {},
   "outputs": [
    {
     "name": "stdout",
     "output_type": "stream",
     "text": [
      "Solution: 306621346123766\n"
     ]
    }
   ],
   "source": [
    "wins = play(game)\n",
    "result = max(wins)\n",
    "print(f'Solution: {result}')\n",
    "assert result == 306621346123766"
   ]
  }
 ],
 "metadata": {
  "kernelspec": {
   "display_name": "Python 3 (ipykernel)",
   "language": "python",
   "name": "python3"
  },
  "language_info": {
   "codemirror_mode": {
    "name": "ipython",
    "version": 3
   },
   "file_extension": ".py",
   "mimetype": "text/x-python",
   "name": "python",
   "nbconvert_exporter": "python",
   "pygments_lexer": "ipython3",
   "version": "3.10.0"
  }
 },
 "nbformat": 4,
 "nbformat_minor": 5
}
