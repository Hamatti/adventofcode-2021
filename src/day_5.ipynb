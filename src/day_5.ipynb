{
 "cells": [
  {
   "cell_type": "markdown",
   "id": "63fa0ca3",
   "metadata": {},
   "source": [
    "# Day 5 - Hydrothermal Venture"
   ]
  },
  {
   "cell_type": "markdown",
   "id": "55091ac5",
   "metadata": {},
   "source": [
    ">You come across a field of hydrothermal vents on the ocean floor! These vents constantly produce large, opaque clouds, so it would be best to avoid them if possible.\n",
    ">\n",
    ">They tend to form in lines; the submarine helpfully produces a list of nearby lines of vents (your puzzle input) for you to review. For example:\n",
    ">\n",
    ">```0,9 -> 5,9\n",
    "8,0 -> 0,8\n",
    "9,4 -> 3,4\n",
    "2,2 -> 2,1\n",
    "7,0 -> 7,4\n",
    "6,4 -> 2,0\n",
    "0,9 -> 2,9\n",
    "3,4 -> 1,4\n",
    "0,0 -> 8,8\n",
    "5,5 -> 8,2```\n",
    ">\n",
    ">Each line of vents is given as a line segment in the format x1,y1 -> x2,y2 where x1,y1 are the coordinates of one end the line segment and x2,y2 are the coordinates of the other end. These line segments include the points at both ends. In other words:\n",
    ">\n",
    ">An entry like `1,1 -> 1,3` covers points `1,1`, `1,2`, and `1,3`.\n",
    ">An entry like `9,7 -> 7,7` covers points `9,7`, `8,7`, and `7,7`.\n",
    ">For now, only consider horizontal and vertical lines: lines where either x1 = x2 or y1 = y2.\n",
    ">\n",
    ">So, the horizontal and vertical lines from the above list would produce the following diagram:\n",
    ">\n",
    ">```.......1..\n",
    "..1....1..\n",
    "..1....1..\n",
    ".......1..\n",
    ".112111211\n",
    "..........\n",
    "..........\n",
    "..........\n",
    "..........\n",
    "222111....```\n",
    ">\n",
    ">In this diagram, the top left corner is `0,0` and the bottom right corner is `9,9`. Each position is shown as the number of lines which cover that point or . if no line covers that point. The top-left pair of 1s, for example, comes from `2,2 -> 2,1`; the very bottom row is formed by the overlapping lines `0,9 -> 5,9` and `0,9 -> 2,9`.\n",
    ">\n",
    ">To avoid the most dangerous areas, you need to determine the number of points where at least two lines overlap. In the above example, this is anywhere in the diagram with a 2 or larger - a total of 5 points."
   ]
  },
  {
   "cell_type": "markdown",
   "id": "804d43cc",
   "metadata": {},
   "source": [
    "## Read data\n",
    "\n",
    "Once again, we have a custom input format so we need a custom transformer function to convert an input like\n",
    "\n",
    "`'102,578 -> 363,317'`\n",
    "\n",
    "into a `namedtuple` like\n",
    "\n",
    "`Line(x1=102, y1=578, x2=363, y2=317)`"
   ]
  },
  {
   "cell_type": "code",
   "execution_count": 1,
   "id": "3806d7de",
   "metadata": {},
   "outputs": [],
   "source": [
    "from utils import read_input\n",
    "from collections import namedtuple\n",
    "\n",
    " \n",
    "def transformer(input_line):\n",
    "    Line = namedtuple('Line', ['x1', 'y1', 'x2', 'y2'])\n",
    "    coordinates = [coords.split(',') for coords in input_line.strip().split(' -> ')]\n",
    "    line = Line(\n",
    "        x1=int(coordinates[0][0]),\n",
    "        y1=int(coordinates[0][1]),\n",
    "        x2=int(coordinates[1][0]),\n",
    "        y2=int(coordinates[1][1])\n",
    "    )\n",
    "    return line\n",
    "\n",
    "\n",
    "lines = read_input(5, transformer)"
   ]
  },
  {
   "cell_type": "markdown",
   "id": "e26f796c",
   "metadata": {},
   "source": [
    "## Part 1 & Part 2\n",
    "\n",
    "This solution covers both parts since the change was so small (allowing diagonal, 45-degree lines).\n",
    "\n",
    "To solve the puzzle, we need to calculate all the points in all the lines, then calculate how many times each point exists in all those lines and finally count the ones with two or more occurrences of those points."
   ]
  },
  {
   "cell_type": "markdown",
   "id": "71a357e1",
   "metadata": {},
   "source": [
    "Each line is identified by its starting position `(x1, y1)` and its end position `(x2, y2)`.\n",
    "\n",
    "For horizontal lines, we find all the points in line by increasing or decreasing the `y` value from `y1` to `y2` by one at the time and creating new points on every iteration, keeping the `x` value the same.\n",
    "\n",
    "For vertical lines, we do the same but changing `x` and keeping `y` the same.\n",
    "\n",
    "Python's `range` function is nice since it allows us to define the direction with `step` parameter: a positive `step` will increase from `start` to `end` and negative `step` will decrease from `start` to `end`.\n",
    "\n",
    "In Part 2 of the puzzle, we also need to take into account the diagonal lines that are exactly 45 degrees. In our coordinate system, that means x and y need to increase or decrease one unit at the time.\n",
    "\n",
    "`expand_all_lines` loops over all the lines we have and finds all the individual points for those lines."
   ]
  },
  {
   "cell_type": "code",
   "execution_count": 2,
   "id": "e5f07bbf",
   "metadata": {
    "scrolled": true
   },
   "outputs": [],
   "source": [
    "def expand_line(line, allow_diagonal=False):\n",
    "    \"\"\"\n",
    "    Expands line from its start and end coordinates to include all points within the line.\n",
    "    \n",
    "    `allow_diagonal: bool` if False, skips lines that are diagonal (part 1)\n",
    "    \"\"\"\n",
    "    points = []\n",
    "    \n",
    "    if line.x1 == line.x2: # Vertical lines\n",
    "        direction = -1 if line.y1 > line.y2 else 1\n",
    "        for point in range(line.y1, line.y2 + 1 * direction, direction):\n",
    "            points.append((line.x1, point))\n",
    "            \n",
    "    elif line.y1 == line.y2: # Horizontal lines\n",
    "        direction = -1 if line.x1 > line.x2 else 1\n",
    "        for point in range(line.x1, line.x2 + 1 * direction, direction):\n",
    "            points.append((point, line.y1))\n",
    "            \n",
    "    elif allow_diagonal: # Diagonal lines\n",
    "        x_delta = 1 if line.x1 < line.x2 else -1\n",
    "        y_delta = 1 if line.y1 < line.y2 else -1\n",
    "        x,y = line.x1, line.y1\n",
    "        while x != line.x2 and y != line.y2:\n",
    "            points.append((x,y))\n",
    "            x += x_delta\n",
    "            y += y_delta\n",
    "        points.append((x,y))\n",
    "\n",
    "    return points\n",
    "\n",
    "\n",
    "def expand_all_lines(lines, allow_diagonal=False):\n",
    "    points = []\n",
    "    for line in lines:\n",
    "        points += expand_line(line, allow_diagonal)\n",
    "    return points"
   ]
  },
  {
   "cell_type": "markdown",
   "id": "fb7253fc",
   "metadata": {},
   "source": [
    "Once we have all of our points in a list, we can use standard library's `collections.Counter` class to create a dictionary where each key is a point and the value is how many times that point exists.\n",
    "\n",
    "With a filter function `how_many_at_least`, we filter out all the points that only exists once and count the rest."
   ]
  },
  {
   "cell_type": "code",
   "execution_count": 3,
   "id": "6e6734fc",
   "metadata": {},
   "outputs": [],
   "source": [
    "from collections import Counter\n",
    "\n",
    "\n",
    "def count_visits(points):\n",
    "    return Counter(points)\n",
    "\n",
    "\n",
    "def how_many_at_least(counts, threshold=2):\n",
    "    filtered = [point for point in counts if counts[point] >= threshold]\n",
    "    return len(filtered)"
   ]
  },
  {
   "cell_type": "markdown",
   "id": "7ffb04d2",
   "metadata": {},
   "source": [
    "Sometimes Advent of Code gives these nice puzzles where you can reuse the same functions and flow from one part to another, just adding a `allow_diagonal` flag to second part to get the more complex result."
   ]
  },
  {
   "cell_type": "code",
   "execution_count": 4,
   "id": "b7d844e2",
   "metadata": {},
   "outputs": [
    {
     "name": "stdout",
     "output_type": "stream",
     "text": [
      "Solution, part 1: 4728\n",
      "Solution, part 2: 17717\n"
     ]
    }
   ],
   "source": [
    "# Part 1:\n",
    "expanded_points = expand_all_lines(lines)\n",
    "counts = count_visits(expanded_points)\n",
    "part1_result = how_many_at_least(counts)\n",
    "assert part1_result == 4728 # For refactoring \n",
    "print(f'Solution, part 1: {part1_result}')\n",
    "\n",
    "expanded_points = expand_all_lines(lines, allow_diagonal=True)\n",
    "counts = count_visits(expanded_points)\n",
    "part2_result = how_many_at_least(counts)\n",
    "\n",
    "assert part2_result == 17717 # For refactoring\n",
    "print(f'Solution, part 2: {part2_result}')"
   ]
  },
  {
   "cell_type": "markdown",
   "id": "9063003a",
   "metadata": {},
   "source": [
    "## Wrap up\n",
    "\n",
    "Geometry isn't my strongest suit so today I had to pick up my pen and notebook to draw some lines in the coordinate system to see how I'm able to create the points, especially for the four possible diagonal cases (top-left to bottom-right, top-right to bottom-left, bottom-left to top-right and bottom-right to top-left).\n",
    "\n",
    "The example input and the grid output in the description helped a lot. During the development, I even had a `draw` function that drew the 10x10 grid with the example input to see which cases my functions were missing:\n",
    "\n",
    "```\n",
    "def draw(counts):\n",
    "    for x in range(10):\n",
    "        for y in range(10):\n",
    "            print(counts.get((x,y), '.'), end='')\n",
    "        print()\n",
    "```\n",
    "\n",
    "I didn't leave it in the code since it's only feasible for very small grids (and this one even hardcoded to be 10x10).\n",
    "\n",
    "One of the challenging things with Advent of Code is that due to the large inputs and the only output being a single number or string, it's sometimes really difficult to debug the intermediate steps.\n",
    "\n",
    "I find Advent of Code's examples and test cases in the puzzles very well made and it's been rare case when those haven't helped me find the missing piece.\n",
    "\n",
    "10/10 stars for the first week of December in the bag!"
   ]
  }
 ],
 "metadata": {
  "kernelspec": {
   "display_name": "Python 3 (ipykernel)",
   "language": "python",
   "name": "python3"
  },
  "language_info": {
   "codemirror_mode": {
    "name": "ipython",
    "version": 3
   },
   "file_extension": ".py",
   "mimetype": "text/x-python",
   "name": "python",
   "nbconvert_exporter": "python",
   "pygments_lexer": "ipython3",
   "version": "3.10.0"
  }
 },
 "nbformat": 4,
 "nbformat_minor": 5
}
