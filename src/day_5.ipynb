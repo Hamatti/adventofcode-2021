{
 "cells": [
  {
   "cell_type": "markdown",
   "id": "95718f80",
   "metadata": {},
   "source": [
    "# Day 5 - Hydrothermal Venture"
   ]
  },
  {
   "cell_type": "markdown",
   "id": "2449f5a6",
   "metadata": {},
   "source": [
    ">You come across a field of hydrothermal vents on the ocean floor! These vents constantly produce large, opaque clouds, so it would be best to avoid them if possible.\n",
    ">\n",
    ">They tend to form in lines; the submarine helpfully produces a list of nearby lines of vents (your puzzle input) for you to review. For example:\n",
    ">\n",
    ">```0,9 -> 5,9\n",
    "8,0 -> 0,8\n",
    "9,4 -> 3,4\n",
    "2,2 -> 2,1\n",
    "7,0 -> 7,4\n",
    "6,4 -> 2,0\n",
    "0,9 -> 2,9\n",
    "3,4 -> 1,4\n",
    "0,0 -> 8,8\n",
    "5,5 -> 8,2```\n",
    ">\n",
    ">Each line of vents is given as a line segment in the format x1,y1 -> x2,y2 where x1,y1 are the coordinates of one end the line segment and x2,y2 are the coordinates of the other end. These line segments include the points at both ends. In other words:\n",
    ">\n",
    ">An entry like `1,1 -> 1,3` covers points `1,1`, `1,2`, and `1,3`.\n",
    ">An entry like `9,7 -> 7,7` covers points `9,7`, `8,7`, and `7,7`.\n",
    ">For now, only consider horizontal and vertical lines: lines where either x1 = x2 or y1 = y2.\n",
    ">\n",
    ">So, the horizontal and vertical lines from the above list would produce the following diagram:\n",
    ">\n",
    ">```.......1..\n",
    "..1....1..\n",
    "..1....1..\n",
    ".......1..\n",
    ".112111211\n",
    "..........\n",
    "..........\n",
    "..........\n",
    "..........\n",
    "222111....```\n",
    ">\n",
    ">In this diagram, the top left corner is `0,0` and the bottom right corner is `9,9`. Each position is shown as the number of lines which cover that point or . if no line covers that point. The top-left pair of 1s, for example, comes from `2,2 -> 2,1`; the very bottom row is formed by the overlapping lines `0,9 -> 5,9` and `0,9 -> 2,9`.\n",
    ">\n",
    ">To avoid the most dangerous areas, you need to determine the number of points where at least two lines overlap. In the above example, this is anywhere in the diagram with a 2 or larger - a total of 5 points."
   ]
  },
  {
   "cell_type": "markdown",
   "id": "a3c72bde",
   "metadata": {},
   "source": [
    "## Read data\n",
    "\n",
    "Once again, we have a custom input format so we need a custom transformer function to convert an input like\n",
    "\n",
    "`'102,578 -> 363,317'`\n",
    "\n",
    "into a `namedtuple`:"
   ]
  },
  {
   "cell_type": "code",
   "execution_count": 6,
   "id": "edc69f71",
   "metadata": {},
   "outputs": [],
   "source": [
    "from utils import read_input\n",
    "from collections import namedtuple\n",
    "\n",
    " \n",
    "def transformer(input_line):\n",
    "    Line = namedtuple('Line', ['x1', 'y1', 'x2', 'y2'])\n",
    "    coordinates = [coords.split(',') for coords in input_line.strip().split(' -> ')]\n",
    "    line = Line(\n",
    "        x1=int(coordinates[0][0]),\n",
    "        y1=int(coordinates[0][1]),\n",
    "        x2=int(coordinates[1][0]),\n",
    "        y2=int(coordinates[1][1])\n",
    "    )\n",
    "    return line\n",
    "\n",
    "\n",
    "lines = read_input(5, transformer)"
   ]
  },
  {
   "cell_type": "markdown",
   "id": "4fa18bba",
   "metadata": {},
   "source": [
    "## Part 1 & Part 2\n",
    "\n",
    "This solution covers both parts since the change was so small (allowing diagonal, 45-degree lines)."
   ]
  },
  {
   "cell_type": "code",
   "execution_count": 12,
   "id": "970e8ac8",
   "metadata": {},
   "outputs": [
    {
     "name": "stdout",
     "output_type": "stream",
     "text": [
      "Solution, part 1: 4728\n",
      "Solution, part 2: 17717\n"
     ]
    }
   ],
   "source": [
    "from collections import Counter\n",
    "\n",
    "def expand_line(line, allow_diagonal=False):\n",
    "    \"\"\"\n",
    "    Expands line from its start and end coordinates to include all points within the line.\n",
    "    \n",
    "    `allow_diagonal: bool` if False, skips lines that are diagonal (part 1)\n",
    "    \"\"\"\n",
    "    points = []\n",
    "    \n",
    "    if line.x1 == line.x2: # Horizontal lines\n",
    "        direction = -1 if line.y1 > line.y2 else 1\n",
    "        for point in range(line.y1, line.y2 + 1 * direction, direction):\n",
    "            points.append((line.x1, point))\n",
    "            \n",
    "    elif line.y1 == line.y2: # Vertical lines\n",
    "        direction = -1 if line.x1 > line.x2 else 1\n",
    "        for point in range(line.x1, line.x2 + 1*direction, direction):\n",
    "            points.append((point, line.y1))\n",
    "            \n",
    "    elif allow_diagonal: # Diagonal lines\n",
    "        x_delta = 1 if line.x1 < line.x2 else -1\n",
    "        y_delta = 1 if line.y1 < line.y2 else -1\n",
    "        x,y = line.x1, line.y1\n",
    "        while x != line.x2 and y != line.y2:\n",
    "            points.append((x,y))\n",
    "            x += x_delta\n",
    "            y += y_delta\n",
    "        points.append((x,y))\n",
    "\n",
    "    return points\n",
    "\n",
    "def expand_all_lines(lines, allow_diagonal=False):\n",
    "    points = []\n",
    "    for line in lines:\n",
    "        points += expand_line(line, allow_diagonal)\n",
    "    return points\n",
    "\n",
    "\n",
    "def count_visits(points):\n",
    "    return Counter(points)\n",
    "\n",
    "\n",
    "def how_many_at_least(counts, threshold=2):\n",
    "    filtered = [point for point in counts if counts[point] >= threshold]\n",
    "    return len(filtered)\n",
    "\n",
    "\n",
    "# Part 1:\n",
    "expanded_points = expand_all_lines(lines)\n",
    "counts = count_visits(expanded_points)\n",
    "part1_result = how_many_at_least(counts)\n",
    "assert part1_result == 4728 # For refactoring \n",
    "print(f'Solution, part 1: {part1_result}')\n",
    "\n",
    "expanded_points = expand_all_lines(lines, allow_diagonal=True)\n",
    "counts = count_visits(expanded_points)\n",
    "part2_result = how_many_at_least(counts)\n",
    "\n",
    "assert part2_result == 17717 # For refactoring\n",
    "print(f'Solution, part 2: {part2_result}')\n",
    "\n"
   ]
  }
 ],
 "metadata": {
  "kernelspec": {
   "display_name": "Python 3 (ipykernel)",
   "language": "python",
   "name": "python3"
  },
  "language_info": {
   "codemirror_mode": {
    "name": "ipython",
    "version": 3
   },
   "file_extension": ".py",
   "mimetype": "text/x-python",
   "name": "python",
   "nbconvert_exporter": "python",
   "pygments_lexer": "ipython3",
   "version": "3.10.0"
  }
 },
 "nbformat": 4,
 "nbformat_minor": 5
}
