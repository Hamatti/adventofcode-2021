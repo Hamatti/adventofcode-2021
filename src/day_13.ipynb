{
 "cells": [
  {
   "cell_type": "markdown",
   "id": "2b961b03",
   "metadata": {},
   "source": [
    "# Day 13 - Transparent Origami\n",
    "\n",
    ">You reach another volcanically active part of the cave. It would be nice if you could do some kind of thermal imaging so you could tell ahead of time which caves are too hot to safely enter.\n",
    ">\n",
    ">Fortunately, the submarine seems to be equipped with a thermal camera! When you activate it, you are greeted with:\n",
    ">\n",
    ">_Congratulations on your purchase! To activate this infrared thermal imaging\n",
    "camera system, please enter the code found on page 1 of the manual._\n",
    ">\n",
    ">Apparently, the Elves have never used this feature. To your surprise, you manage to find the manual; as you go to open it, page 1 falls out. It's a large sheet of transparent paper! The transparent paper is marked with random dots and includes instructions on how to fold it up (your puzzle input). For example:\n",
    ">\n",
    ">```\n",
    "6,10\n",
    "0,14\n",
    "9,10\n",
    "0,3\n",
    "10,4\n",
    "4,11\n",
    "6,0\n",
    "6,12\n",
    "4,1\n",
    "0,13\n",
    "10,12\n",
    "3,4\n",
    "3,0\n",
    "8,4\n",
    "1,10\n",
    "2,14\n",
    "8,10\n",
    "9,0\n",
    ">```\n",
    ">\n",
    ">```\n",
    "fold along y=7\n",
    "fold along x=5\n",
    ">```\n",
    ">\n",
    ">The first section is a list of dots on the transparent paper. 0,0 represents the top-left coordinate. The first value, x, increases to the right. The second value, y, increases downward. So, the coordinate 3,0 is to the right of 0,0, and the coordinate 0,7 is below 0,0. The coordinates in this example form the following pattern, where # is a dot on the paper and . is an empty, unmarked position:\n",
    ">\n",
    ">```\n",
    "...#..#..#.\n",
    "....#......\n",
    "...........\n",
    "#..........\n",
    "...#....#.#\n",
    "...........\n",
    "...........\n",
    "...........\n",
    "...........\n",
    "...........\n",
    ".#....#.##.\n",
    "....#......\n",
    "......#...#\n",
    "#..........\n",
    "#.#........\n",
    ">```\n",
    ">\n",
    ">Then, there is a list of **fold instructions**}. Each instruction indicates a line on the transparent paper and wants you to fold the paper up (for horizontal y=... lines) or left (for vertical x=... lines). In this example, the first fold instruction is fold along y=7, which designates the line formed by all of the positions where y is 7 (marked here with -):\n",
    ">\n",
    ">```\n",
    "...#..#..#.\n",
    "....#......\n",
    "...........\n",
    "#..........\n",
    "...#....#.#\n",
    "...........\n",
    "...........\n",
    "-----------\n",
    "...........\n",
    "...........\n",
    ".#....#.##.\n",
    "....#......\n",
    "......#...#\n",
    "#..........\n",
    "#.#........\n",
    ">```\n",
    ">\n",
    ">Because this is a horizontal line, fold the bottom half up. Some of the dots might end up overlapping after the fold is complete, but dots will never appear exactly on a fold line. The result of doing this fold looks like this:\n",
    ">\n",
    ">```\n",
    "#.##..#..#.\n",
    "#...#......\n",
    "......#...#\n",
    "#...#......\n",
    ".#.#..#.###\n",
    "...........\n",
    "...........\n",
    ">```\n",
    ">\n",
    ">Now, only 17 dots are visible.\n",
    ">\n",
    ">Notice, for example, the two dots in the bottom left corner before the transparent paper is folded; after the fold is complete, those dots appear in the top left corner (at 0,0 and 0,1). Because the paper is transparent, the dot just below them in the result (at 0,3) remains visible, as it can be seen through the transparent paper.\n",
    ">\n",
    ">Also notice that some dots can end up overlapping; in this case, the dots merge together and become a single dot.\n",
    ">\n",
    ">The second fold instruction is fold along x=5, which indicates this line:\n",
    ">\n",
    ">```\n",
    "#.##.|#..#.\n",
    "#...#|.....\n",
    ".....|#...#\n",
    "#...#|.....\n",
    ".#.#.|#.###\n",
    ".....|.....\n",
    ".....|.....\n",
    ">```\n",
    ">\n",
    ">Because this is a vertical line, fold left:\n",
    ">\n",
    ">```\n",
    "#####\n",
    "#...#\n",
    "#...#\n",
    "#...#\n",
    "#####\n",
    ".....\n",
    ".....\n",
    ">```\n",
    ">\n",
    ">The instructions made a square!\n",
    ">\n",
    ">The transparent paper is pretty big, so for now, focus on just completing the first fold. After the first fold in the example above, 17 dots are visible - dots that end up overlapping after the fold is completed count as a single dot.\n"
   ]
  },
  {
   "cell_type": "markdown",
   "id": "8aff3bd5",
   "metadata": {},
   "source": [
    "## Read input\n",
    "\n",
    "Today we have a unique two-part input so we need a custom parser:"
   ]
  },
  {
   "cell_type": "code",
   "execution_count": 83,
   "id": "c4ff79ae",
   "metadata": {},
   "outputs": [
    {
     "name": "stdout",
     "output_type": "stream",
     "text": [
      "def read_day_13():\n",
      "    try:\n",
      "        with open(os.path.join('..', 'inputs', 'day_13.txt')) as input_file:\n",
      "            coordinates, instructions = input_file.read().split('\\n\\n')\n",
      "            coordinates = coordinates.split('\\n')\n",
      "            \n",
      "            c = []\n",
      "            for coordinate in coordinates:\n",
      "                x, y = coordinate.split(',')\n",
      "                c.append((int(x), int(y)))\n",
      "            folds = []\n",
      "            for instruction in instructions.split('\\n'):\n",
      "                _, location = instruction.split('fold along ')\n",
      "                plane, value = location.split('=')\n",
      "                value = int(value)\n",
      "                folds.append((plane, value))\n",
      "                \n",
      "            return c, folds\n",
      "    except FileNotFoundError as e:\n",
      "        print(e)\n",
      "\n"
     ]
    }
   ],
   "source": [
    "import inspect\n",
    "from utils import read_day_13\n",
    "\n",
    "print(inspect.getsource(read_day_13))"
   ]
  },
  {
   "cell_type": "code",
   "execution_count": 1,
   "id": "158d00c8",
   "metadata": {},
   "outputs": [],
   "source": [
    "from utils import read_day_13\n",
    "\n",
    "coordinates, folds = read_day_13()"
   ]
  },
  {
   "cell_type": "markdown",
   "id": "461576de",
   "metadata": {},
   "source": [
    "This puzzle is simpler than it feels. The coordinate system as a whole doesn't really matter: the only thing that matters is individual position in relation to the fold.\n",
    "\n",
    "So we can pretty much ignore that there is any kind of coordinate system.\n",
    "\n",
    "For each point (`coordinate` since we don't keep track of empty locations) we calculate its distance to the fold.\n",
    "\n",
    "If it's on the top or left side of the fold (`delta` being negative), we don't change anything.\n",
    "If it's on the bottom or right side of the fold, we calculate the new x/y coordinate based on which fold we are performing.\n",
    "\n",
    "To manage overlaps, I use `set` for the new coordinates so I don't have to think about overlaps at all."
   ]
  },
  {
   "cell_type": "code",
   "execution_count": 3,
   "id": "68e68159",
   "metadata": {},
   "outputs": [],
   "source": [
    "def make_fold(coordinates, fold_line):\n",
    "    new_coords = set()\n",
    "    index = 0 if fold_line[0] == 'x' else 1\n",
    "    for coordinate in coordinates:\n",
    "        # Calculate the distance from fold line to our value\n",
    "        delta = coordinate[index] - fold_line[1]\n",
    "        \n",
    "        if delta < 0: # On the top/left side of fold, no change\n",
    "            new_coords.add(coordinate)\n",
    "            continue\n",
    "            \n",
    "        if index == 0:\n",
    "            new_x = abs(fold_line[1] - delta)\n",
    "            new_coords.add((new_x, coordinate[1]))\n",
    "        else:\n",
    "            new_y = abs(fold_line[1] - delta)\n",
    "            new_coords.add((coordinate[0], new_y))\n",
    "            \n",
    "    return new_coords"
   ]
  },
  {
   "cell_type": "markdown",
   "id": "6c5f5f9a",
   "metadata": {},
   "source": [
    ">**How many dots are visible after completing just the first fold instruction on your transparent paper?**"
   ]
  },
  {
   "cell_type": "code",
   "execution_count": 4,
   "id": "ea68a982",
   "metadata": {},
   "outputs": [
    {
     "name": "stdout",
     "output_type": "stream",
     "text": [
      "Solution: 724\n"
     ]
    }
   ],
   "source": [
    "new_plane = make_fold(coordinates, folds[0])\n",
    "result = len(new_plane)\n",
    "print(f'Solution: {result}')\n",
    "assert result == 724"
   ]
  },
  {
   "cell_type": "markdown",
   "id": "b779f74a",
   "metadata": {},
   "source": [
    "90% of my time today went to debugging my debug/part2 printer function.\n",
    "\n",
    "Well, to be honest, I thought the problems were in my `make_fold` function but all the bugs turned out to be in this.\n",
    "\n",
    "Here we print out `'#'` for each coordinate that has a point and a character defined by `empty` parameter if it's not. The reason I used `empty` here is because it was easier to debug against the example using `.` but easier to read out the code with empty string.\n",
    "\n",
    "First problem I had here was I was printing `x` and `y` in different order (hence I refactored to `row` and `column` to make it easier to keep track, and the second problem was I had a off-by-one error at my `range` functions."
   ]
  },
  {
   "cell_type": "code",
   "execution_count": 5,
   "id": "1797b70a",
   "metadata": {},
   "outputs": [],
   "source": [
    "def print_coords(coordinates, empty=' '):\n",
    "    max_cols = max(c[0] for c in coordinates)\n",
    "    max_rows = max(c[1] for c in coordinates)\n",
    "    for row in range(max_rows + 1):\n",
    "        for col in range(max_cols + 1):\n",
    "            if (col, row) in coordinates:\n",
    "                print('#', end=\"\")\n",
    "            else:\n",
    "                print(empty, end=\"\")\n",
    "        print()"
   ]
  },
  {
   "cell_type": "markdown",
   "id": "ebe643f6",
   "metadata": {},
   "source": [
    ">Finish folding the transparent paper according to the instructions. The manual says the code is always eight capital letters.\n",
    ">\n",
    ">**What code do you use to activate the infrared thermal imaging camera system?**\n",
    "\n",
    "Here I was so worried I had to somehow calculate which letters the output presented but then I realized that I can just read it as a human from the screen which trivialized the second part since my first part already had everything working.\n",
    "\n",
    "We make all the folds and then print out the result.\n",
    "\n",
    "I made a temporary `coords` helper variable here since `coords = make_fold(...)` changes the original and I didn't want to end up in a situation where I run it twice with `coordinates = make_fold(...)` only to keep folding over something that had already folded. This is a recurring issue with Advent of Code puzzles."
   ]
  },
  {
   "cell_type": "code",
   "execution_count": 6,
   "id": "e1845e18",
   "metadata": {},
   "outputs": [
    {
     "name": "stdout",
     "output_type": "stream",
     "text": [
      " ##  ###    ## ###  #### ###  #  # #   \n",
      "#  # #  #    # #  # #    #  # #  # #   \n",
      "#    #  #    # ###  ###  #  # #  # #   \n",
      "#    ###     # #  # #    ###  #  # #   \n",
      "#  # #    #  # #  # #    # #  #  # #   \n",
      " ##  #     ##  ###  #### #  #  ##  ####\n"
     ]
    }
   ],
   "source": [
    "coords = set(coordinates)\n",
    "for fold in folds:\n",
    "    coords = make_fold(coords, fold)\n",
    "    \n",
    "print_coords(coords)\n",
    "# Should print something that looks like CPJBERUL"
   ]
  }
 ],
 "metadata": {
  "kernelspec": {
   "display_name": "Python 3 (ipykernel)",
   "language": "python",
   "name": "python3"
  },
  "language_info": {
   "codemirror_mode": {
    "name": "ipython",
    "version": 3
   },
   "file_extension": ".py",
   "mimetype": "text/x-python",
   "name": "python",
   "nbconvert_exporter": "python",
   "pygments_lexer": "ipython3",
   "version": "3.10.0"
  }
 },
 "nbformat": 4,
 "nbformat_minor": 5
}
