{
 "cells": [
  {
   "cell_type": "markdown",
   "id": "6c8804a1",
   "metadata": {},
   "source": [
    "# Day 20 - Trench Map\n",
    "\n",
    ">With the scanners fully deployed, you turn their attention to mapping the floor of the ocean trench.\n",
    ">\n",
    ">When you get back the image from the scanners, it seems to just be random noise. Perhaps you can combine an image enhancement algorithm and the input image (your puzzle input) to clean it up a little.\n",
    ">\n",
    ">For example:\n",
    ">```\n",
    "..#.#..#####.#.#.#.###.##.....###.##.#..###.####..#####..#....#..#..##..##\n",
    "#..######.###...####..#..#####..##..#.#####...##.#.#..#.##..#.#......#.###\n",
    ".######.###.####...#.##.##..#..#..#####.....#.#....###..#.##......#.....#.\n",
    ".#..#..##..#...##.######.####.####.#.#...#.......#..#.#.#...####.##.#.....\n",
    ".#..#...##.#.##..#...##.#.##..###.#......#.#.......#.#.#.####.###.##...#..\n",
    "...####.#..#..#.##.#....##..#.####....##...##..#...#......#.#.......#.....\n",
    "..##..####..#...#.#.#...##..#.#..###..#####........#..####......#..#\n",
    ">```\n",
    ">\n",
    ">```\n",
    "#..#.\n",
    "#....\n",
    "##..#\n",
    "..#..\n",
    "..###\n",
    ">```\n",
    ">\n",
    ">The first section is the image enhancement algorithm. It is normally given on a single line, but it has been wrapped to multiple lines in this example for legibility. The second section is the input image, a two-dimensional grid of light pixels (`#`) and dark pixels (`.`).\n",
    ">\n",
    ">The image enhancement algorithm describes how to enhance an image by simultaneously converting all pixels in the input image into an output image. Each pixel of the output image is determined by looking at a 3x3 square of pixels centered on the corresponding input image pixel. So, to determine the value of the pixel at (5,10) in the output image, nine pixels from the input image need to be considered: (4,9), (4,10), (4,11), (5,9), (5,10), (5,11), (6,9), (6,10), and (6,11). These nine input pixels are combined into a single binary number that is used as an index in the image enhancement algorithm string.\n",
    ">\n",
    ">For example, to determine the output pixel that corresponds to the very middle pixel of the input image, the nine pixels marked by `[...]` would need to be considered:\n",
    ">\n",
    ">```\n",
    "​# . . # .\n",
    "​#[. . .].\n",
    "​#[# . .]#\n",
    "​.[. # .].\n",
    "​. . # # #\n",
    ">```\n",
    ">\n",
    ">Starting from the top-left and reading across each row, these pixels are `...`, then `#..`, then `.#.`; combining these forms `...#...#..` By turning dark pixels (`.`) into `0` and light pixels (`#`) into `1`, the binary number `000100010` can be formed, which is `34` in decimal.\n",
    ">\n",
    ">The image enhancement algorithm string is exactly 512 characters long, enough to match every possible 9-bit binary number. The first few characters of the string (numbered starting from zero) are as follows:\n",
    ">\n",
    ">```\n",
    "0         10        20        30  34    40        50        60        70\n",
    "|         |         |         |   |     |         |         |         |\n",
    "..#.#..#####.#.#.#.###.##.....###.##.#..###.####..#####..#....#..#..##..##\n",
    ">```\n",
    ">\n",
    ">In the middle of this first group of characters, the character at index 34 can be found: `#`. So, the output pixel in the center of the output image should be `#`, a light pixel.\n",
    ">\n",
    ">This process can then be repeated to calculate every pixel of the output image.\n",
    ">\n",
    ">Through advances in imaging technology, the images being operated on here are infinite in size. Every pixel of the infinite output image needs to be calculated exactly based on the relevant pixels of the input image. The small input image you have is only a small region of the actual infinite input image; the rest of the input image consists of dark pixels (`.`). For the purposes of the example, to save on space, only a portion of the infinite-sized input and output images will be shown.\n",
    ">\n",
    ">The starting input image, therefore, looks something like this, with more dark pixels (`.`) extending forever in every direction not shown here:\n",
    ">```\n",
    "...............\n",
    "...............\n",
    "...............\n",
    "...............\n",
    "...............\n",
    ".....#..#......\n",
    ".....#.........\n",
    ".....##..#.....\n",
    ".......#.......\n",
    ".......###.....\n",
    "...............\n",
    "...............\n",
    "...............\n",
    "...............\n",
    "...............\n",
    ">```\n",
    ">\n",
    ">By applying the image enhancement algorithm to every pixel simultaneously, the following output image can be obtained:\n",
    ">```\n",
    "...............\n",
    "...............\n",
    "...............\n",
    "...............\n",
    ".....##.##.....\n",
    "....#..#.#.....\n",
    "....##.#..#....\n",
    "....####..#....\n",
    ".....#..##.....\n",
    "......##..#....\n",
    ".......#.#.....\n",
    "...............\n",
    "...............\n",
    "...............\n",
    "...............\n",
    ">```\n",
    ">\n",
    ">Through further advances in imaging technology, the above output image can also be used as an input image! This allows it to be enhanced a second time:\n",
    ">```\n",
    "...............\n",
    "...............\n",
    "...............\n",
    "..........#....\n",
    "....#..#.#.....\n",
    "...#.#...###...\n",
    "...#...##.#....\n",
    "...#.....#.#...\n",
    "....#.#####....\n",
    ".....#.#####...\n",
    "......##.##....\n",
    ".......###.....\n",
    "...............\n",
    "...............\n",
    "...............\n",
    ">```\n",
    ">\n",
    ">Truly incredible - now the small details are really starting to come through. After enhancing the original input image twice, 35 pixels are lit."
   ]
  },
  {
   "cell_type": "markdown",
   "id": "05c1dbe5",
   "metadata": {},
   "source": [
    "## Read input\n"
   ]
  },
  {
   "cell_type": "markdown",
   "id": "388f01e6",
   "metadata": {},
   "source": [
    "We have another multisection input on our hands today. The first line, the _algorithm_ is just a string so its transformer function can be `str`.\n",
    "\n",
    "For the _image_ though, we want to read it into an image dictionary where keys are `(x, y)` coordinates and values are `#` or `.` (the original input)."
   ]
  },
  {
   "cell_type": "code",
   "execution_count": 181,
   "id": "2544026e",
   "metadata": {},
   "outputs": [],
   "source": [
    "from utils import read_multisection_input\n",
    "\n",
    "\n",
    "def transform_image(section):\n",
    "    lines = section.split('\\n')\n",
    "    image = {}\n",
    "    for y in range(len(lines)):\n",
    "        width = len(lines[y])\n",
    "        for x in range(width):\n",
    "            image[(x,y)] = lines[y][x]\n",
    "            \n",
    "    return image\n",
    "\n",
    "VALUES = {\n",
    "    '#': 1,\n",
    "    '.': 0\n",
    "}\n",
    "\n",
    "\n",
    "algorithm, image = read_multisection_input(20, [str, transform_image])"
   ]
  },
  {
   "cell_type": "markdown",
   "id": "782df853",
   "metadata": {},
   "source": [
    "Let's also create a debugging function for printing out our images.\n",
    "\n",
    "Since I'm using a dictionary with points as keys (and since we'll expand beyond our starter image later), we can't assume the grid starts at `(0, 0)` (it'll actually start at `(-enhance_count, -enhance_count)` but we'll get to that later)."
   ]
  },
  {
   "cell_type": "code",
   "execution_count": 182,
   "id": "b4f00071",
   "metadata": {},
   "outputs": [],
   "source": [
    "def print_image(image):\n",
    "    xs = [x for x, y in image]\n",
    "    ys = [y for x, y in image]\n",
    "    min_x, max_x = min(xs), max(xs)\n",
    "    min_y, max_y = min(ys), max(ys)\n",
    "\n",
    "    for y in range(min_x, max_y+1):\n",
    "        for x in range(min_y, max_x+1):\n",
    "            print(image.get((x,y), '.'), end=\"\")\n",
    "            \n",
    "        print()"
   ]
  },
  {
   "cell_type": "markdown",
   "id": "9d0efe68",
   "metadata": {},
   "source": [
    "## Part 1\n",
    "\n",
    "After the swarm of challenges from last week, this week was a really nice one for a change of pace. By this point, I'm very comfortable dealing with 2D coordinate systems.\n",
    "\n",
    "Roughly half of my time spent on this puzzle went to accidentally copy-pasting the example input's algorithm string incorrectly and getting wrong results and trying to debug the code and not checking the algorithm string itself. Frustrating problem but at least my code was good and sound from the first try onwards."
   ]
  },
  {
   "cell_type": "markdown",
   "id": "7b239b37",
   "metadata": {},
   "source": [
    "We'll start by creating some helper functions to split up the code.\n",
    "\n",
    "First, a very familiar looking function from previous days. Previously we've gotten all neighbors (diagonal and adjacent) and only adjacent neigbors but this time we want all the neighbors **and** the point itself. What a twist!"
   ]
  },
  {
   "cell_type": "code",
   "execution_count": 183,
   "id": "36c784dc",
   "metadata": {},
   "outputs": [],
   "source": [
    " def get_points(point):\n",
    "    x,y = point\n",
    "    return [\n",
    "        (x-1, y-1),\n",
    "        (x, y-1),\n",
    "        (x+1, y-1),\n",
    "        (x-1, y),\n",
    "        (x, y),\n",
    "        (x+1, y),\n",
    "        (x-1, y+1),\n",
    "        (x, y+1),\n",
    "        (x+1, y+1)\n",
    "    ]"
   ]
  },
  {
   "cell_type": "markdown",
   "id": "ae97ec18",
   "metadata": {},
   "source": [
    "A new value is calculated as the decimal value of binary number created by the point in question and the 8 values surrounding it.\n",
    "\n",
    "For a simple 3x3 grid\n",
    "\n",
    "```\n",
    ".#.\n",
    "#..\n",
    "..#\n",
    "```\n",
    "\n",
    "this would mean taking all the rows and concatenating them together to create a `.#.#....#` string that converts to binary as `010100001` which in decimal is 161."
   ]
  },
  {
   "cell_type": "markdown",
   "id": "b30b2eb2",
   "metadata": {},
   "source": [
    "Now, because we're dealing with infinite grids, every point outside our image will always be either `.` (starting value) or the result of the algorithm ran on the infinite values.\n",
    "\n",
    "This means on the first time we've run the algorithm, we have a `.` in each of these spots. This means the binary value is `000000000` and translates to index 0 and turns all the infite spots into whatever is in `algorithm[0]` (so on step 1, we check for that).\n",
    "\n",
    "After step 1, they are turned into whatever is in the `algorithm[0]` and since we only have max 2 values, we end up switching between these two."
   ]
  },
  {
   "cell_type": "code",
   "execution_count": 198,
   "id": "ff231ede",
   "metadata": {},
   "outputs": [],
   "source": [
    "def get_infinite(step, algorithm):\n",
    "    if step == 0: \n",
    "        return '.'\n",
    "    elif step % 2 == 0: \n",
    "        return algorithm[VALUES[algorithm[0]]]\n",
    "    else: \n",
    "        return algorithm[0]"
   ]
  },
  {
   "cell_type": "code",
   "execution_count": 185,
   "id": "3f2f8136",
   "metadata": {},
   "outputs": [],
   "source": [
    "def get_new_value(point, image, algorithm, step):\n",
    "    points = get_points(point)\n",
    "    binary = ''\n",
    "    for point in points:\n",
    "        binary += str(VALUES[image.get(point, get_infinite(step, algorithm))])\n",
    "    \n",
    "    new_point = algorithm[int(binary, 2)]\n",
    "    return new_point"
   ]
  },
  {
   "cell_type": "markdown",
   "id": "042af0e3",
   "metadata": {},
   "source": [
    "If your image was a fixed size image, we could just loop over every point in the image and calculate the new value, using `'.'` (or `0`) for the bits that are outside the grid.\n",
    "\n",
    "However, here we need to deal with infinite sized grids.\n",
    "\n",
    "My solution is to always extend the image 1 to each direction (left, right, top, bottom) and calculate the new value."
   ]
  },
  {
   "cell_type": "code",
   "execution_count": 186,
   "id": "d5365e9d",
   "metadata": {},
   "outputs": [],
   "source": [
    "def enhance(img, algorithm, step):\n",
    "    new_image = {}\n",
    "    max_x, max_y = max(x for x, y in img), max(y for x, y in img)\n",
    "    min_x, min_y = min(x for x, y in img), min(y for x,y in img)\n",
    "    for y in range(min_x-1, max_y+2):\n",
    "        for x in range(min_y-1, max_x+2):\n",
    "            new_image[(x,y)] = get_new_value((x,y), img, algorithm, step)\n",
    "                \n",
    "    return new_image"
   ]
  },
  {
   "cell_type": "markdown",
   "id": "c5b31ca6",
   "metadata": {},
   "source": [
    "To finally count the amount of pixels lit, I take all the values of the dictionary and count how many `#` there are."
   ]
  },
  {
   "cell_type": "code",
   "execution_count": 187,
   "id": "a2f64181",
   "metadata": {},
   "outputs": [],
   "source": [
    "def count_light_pixels(image):\n",
    "    return list(image.values()).count('#')"
   ]
  },
  {
   "cell_type": "markdown",
   "id": "c7825fbb",
   "metadata": {},
   "source": [
    "> Start with the original input image and apply the image enhancement algorithm twice, being careful to account for the infinite size of the images. **How many pixels are lit in the resulting image?**"
   ]
  },
  {
   "cell_type": "code",
   "execution_count": 201,
   "id": "ecf5112d",
   "metadata": {},
   "outputs": [
    {
     "name": "stdout",
     "output_type": "stream",
     "text": [
      "Solution: 5203\n"
     ]
    }
   ],
   "source": [
    "from copy import deepcopy\n",
    "\n",
    "\n",
    "img = deepcopy(image)\n",
    "\n",
    "img = enhance(image, algorithm, step=0)\n",
    "img = enhance(img, algorithm, step=1)\n",
    "\n",
    "result = count_light_pixels(img)\n",
    "print(f'Solution: {result}')\n",
    "assert(result) == 5203"
   ]
  },
  {
   "cell_type": "markdown",
   "id": "e4a24cc3",
   "metadata": {},
   "source": [
    "## Part 2\n",
    "\n",
    "> You still can't quite make out the details in the image. Maybe you just didn't enhance it enough.\n",
    ">\n",
    ">If you enhance the starting input image in the above example a total of 50 times, 3351 pixels are lit in the final output image.\n",
    ">\n",
    ">Start again with the original input image and apply the image enhancement algorithm 50 times. **How many pixels are lit in the resulting image?**"
   ]
  },
  {
   "cell_type": "markdown",
   "id": "c4af33e2",
   "metadata": {},
   "source": [
    "Here we do the same but instead of twice, we run it 50 times."
   ]
  },
  {
   "cell_type": "code",
   "execution_count": 203,
   "id": "27a1d1bb",
   "metadata": {},
   "outputs": [
    {
     "name": "stdout",
     "output_type": "stream",
     "text": [
      "Solution: 18806\n"
     ]
    }
   ],
   "source": [
    "from copy import deepcopy\n",
    "\n",
    "\n",
    "img = deepcopy(image)\n",
    "\n",
    "for step in range(50):\n",
    "    img = enhance(img, algorithm, step)\n",
    "\n",
    "result = count_light_pixels(img)\n",
    "print(f'Solution: {result}')\n",
    "assert result == 18806"
   ]
  }
 ],
 "metadata": {
  "kernelspec": {
   "display_name": "Python 3 (ipykernel)",
   "language": "python",
   "name": "python3"
  },
  "language_info": {
   "codemirror_mode": {
    "name": "ipython",
    "version": 3
   },
   "file_extension": ".py",
   "mimetype": "text/x-python",
   "name": "python",
   "nbconvert_exporter": "python",
   "pygments_lexer": "ipython3",
   "version": "3.10.0"
  }
 },
 "nbformat": 4,
 "nbformat_minor": 5
}
