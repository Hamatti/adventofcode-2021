{
 "cells": [
  {
   "cell_type": "markdown",
   "id": "3ed59a95",
   "metadata": {},
   "source": [
    "# Day 20 - Trench Map"
   ]
  },
  {
   "cell_type": "markdown",
   "id": "8d49bff1",
   "metadata": {},
   "source": [
    "## Read input\n"
   ]
  },
  {
   "cell_type": "code",
   "execution_count": 93,
   "id": "049882df",
   "metadata": {},
   "outputs": [],
   "source": [
    "from utils import read_multisection_input\n",
    "\n",
    "\n",
    "def transform_image(section):\n",
    "    lines = section.split('\\n')\n",
    "    image = {}\n",
    "    for y in range(len(lines)): \n",
    "        for x in range(len(lines[y])):\n",
    "            image[(x,y)] = lines[y][x]\n",
    "            \n",
    "    return image\n",
    "\n",
    "VALUES = {\n",
    "    '#': '1',\n",
    "    '.': '0'\n",
    "}\n",
    "\n",
    "algorithm, image = read_multisection_input(20, [str, transform_image], example=True)"
   ]
  },
  {
   "cell_type": "code",
   "execution_count": 87,
   "id": "6be1b7d7",
   "metadata": {},
   "outputs": [],
   "source": [
    " def get_points(point):\n",
    "    x,y = point\n",
    "    return [\n",
    "        (x-1, y-1),\n",
    "        (x, y-1),\n",
    "        (x+1, y-1),\n",
    "        (x-1, y),\n",
    "        (x, y),\n",
    "        (x+1, y),\n",
    "        (x-1, y+1),\n",
    "        (x, y+1),\n",
    "        (x+1, y+1)\n",
    "    ]"
   ]
  },
  {
   "cell_type": "code",
   "execution_count": 94,
   "id": "02d1999d",
   "metadata": {},
   "outputs": [],
   "source": [
    "def get_new_value(point, image, algorithm):\n",
    "    points = get_points(point)\n",
    "    binary = ''\n",
    "    for _point in points:\n",
    "        p = image.get(_point, '.')\n",
    "        binary += VALUES[p]\n",
    "    \n",
    "    new_point = algorithm[int(binary, 2)]\n",
    "    \n",
    "    return new_point"
   ]
  },
  {
   "cell_type": "code",
   "execution_count": 89,
   "id": "6a918e14",
   "metadata": {},
   "outputs": [],
   "source": [
    "def print_image(image):\n",
    "    max_x, max_y = max(x for x, y in image.keys()), max(y for x, y in image.keys())\n",
    "    for y in range(max_y+1):\n",
    "        for x in range(max_x+1):\n",
    "            print(image[(x,y)], end=\"\")\n",
    "            \n",
    "        print()"
   ]
  },
  {
   "cell_type": "code",
   "execution_count": 90,
   "id": "f58a026a",
   "metadata": {},
   "outputs": [],
   "source": [
    "def enhance(image, algorithm):\n",
    "    new_image = {}\n",
    "    max_x, max_y = max(x for x, y in image.keys()), max(y for x, y in image.keys())\n",
    "    for y in range(max_y+1):\n",
    "        for x in range(max_x+1):\n",
    "             new_image[(x,y)] = get_new_value((x,y), image, algorithm)\n",
    "                \n",
    "    return new_image\n",
    "    "
   ]
  },
  {
   "cell_type": "code",
   "execution_count": 96,
   "id": "1ef8ba4f",
   "metadata": {},
   "outputs": [
    {
     "name": "stdout",
     "output_type": "stream",
     "text": [
      "...............\n",
      "...............\n",
      "...............\n",
      "...............\n",
      ".....##.##.....\n",
      "....#..#.#.....\n",
      "....#..#.##....\n",
      "....####..#....\n",
      "......#.#......\n",
      "......##..#....\n",
      "........###....\n",
      "...............\n",
      "...............\n",
      "...............\n",
      "...............\n"
     ]
    }
   ],
   "source": [
    "print_image(enhance(image, algorithm))"
   ]
  }
 ],
 "metadata": {
  "kernelspec": {
   "display_name": "Python 3 (ipykernel)",
   "language": "python",
   "name": "python3"
  },
  "language_info": {
   "codemirror_mode": {
    "name": "ipython",
    "version": 3
   },
   "file_extension": ".py",
   "mimetype": "text/x-python",
   "name": "python",
   "nbconvert_exporter": "python",
   "pygments_lexer": "ipython3",
   "version": "3.10.0"
  }
 },
 "nbformat": 4,
 "nbformat_minor": 5
}
