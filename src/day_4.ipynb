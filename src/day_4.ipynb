{
 "cells": [
  {
   "cell_type": "markdown",
   "id": "e6fd0722",
   "metadata": {},
   "source": [
    "# Day 4 - Giant Squid\n",
    "\n",
    ">You're already almost 1.5km (almost a mile) below the surface of the ocean, already so deep that you can't see any sunlight. What you can see, however, is a giant squid that has attached itself to the outside of your submarine.\n",
    ">\n",
    ">Maybe it wants to play bingo?\n",
    ">\n",
    ">Bingo is played on a set of boards each consisting of a 5x5 grid of numbers. Numbers are chosen at random, and the chosen number is marked on all boards on which it appears. (Numbers may not appear on all boards.) If all numbers in any row or any column of a board are marked, that board wins. (Diagonals don't count.)\n",
    ">\n",
    ">The submarine has a bingo subsystem to help passengers (currently, you and the giant squid) pass the time. It automatically generates a random order in which to draw numbers and a random set of boards (your puzzle input). For example:\n",
    ">\n",
    "```\n",
    "7,4,9,5,11,17,23,2,0,14,21,24,10,16,13,6,15,25,12,22,18,20,8,19,3,26,1\n",
    "\n",
    "22 13 17 11  0\n",
    " 8  2 23  4 24\n",
    "21  9 14 16  7\n",
    " 6 10  3 18  5\n",
    " 1 12 20 15 19\n",
    "\n",
    " 3 15  0  2 22\n",
    " 9 18 13 17  5\n",
    "19  8  7 25 23\n",
    "20 11 10 24  4\n",
    "14 21 16 12  6\n",
    "\n",
    "14 21 17 24  4\n",
    "10 16 15  9 19\n",
    "18  8 23 26 20\n",
    "22 11 13  6  5\n",
    " 2  0 12  3  7\n",
    "```\n",
    ">\n",
    "> The score of the winning board can now be calculated. Start by finding the sum of all unmarked numbers on that board; in this case, the sum is 188. Then, multiply that sum by the number that was just called when the board won, 24, to get the final score, 188 * 24 = 4512."
   ]
  },
  {
   "cell_type": "markdown",
   "id": "77ffee2c",
   "metadata": {},
   "source": [
    "## Custom function in utils.py\n",
    "\n",
    "Since today's input didn't come in \"one line == one input\", I had to create a custom input reader in `utils.py`.\n",
    "\n",
    "In the input, different sections (bingo numbers and individual bingo boards) are separated by empty lines, so I first split by double linebreak `\\n\\n` and then convert numbers into a list of integers. \n",
    "\n",
    "I could parse the bingo board numbers into integers here as well but it would cause a lot of double processing so decided to pass that to the BingoBoard class's helper function (see class later)."
   ]
  },
  {
   "cell_type": "code",
   "execution_count": 16,
   "id": "5ad5deee",
   "metadata": {},
   "outputs": [
    {
     "name": "stdout",
     "output_type": "stream",
     "text": [
      "def read_bingo_input():\n",
      "    try:\n",
      "        with open(os.path.join('..', 'inputs', 'day_4.txt')) as input_file:\n",
      "            data = input_file.read().split('\\n\\n')\n",
      "            numbers, boards = data[0], data[1:]\n",
      "            numbers = [int(n) for n in numbers.split(',')]\n",
      "            return numbers, boards\n",
      "    except FileNotFoundError as e:\n",
      "        print(e)\n",
      "\n"
     ]
    }
   ],
   "source": [
    "from utils import read_bingo_input\n",
    "import inspect\n",
    "\n",
    "print(inspect.getsource(read_bingo_input))"
   ]
  },
  {
   "cell_type": "markdown",
   "id": "677582ca",
   "metadata": {},
   "source": [
    "# BingoBoard class\n",
    "\n",
    "Let's build a class!\n",
    "\n",
    "Every bingo board should know their own state: numbers in the board, what's marked, the internal score and what is the state of the game.\n",
    "\n",
    "`from_text` is a helper constructor that allows us to read Advent of Code's input into BingoBoards.\n",
    "\n",
    "Main logic happens inside `mark` function:\n",
    "\n",
    "- We check if called number exists in this board\n",
    "- If it does, we mark that slot as `None`\n",
    "- If it does, we also reduce that from the score of the board\n",
    "- And we check if marking that resulted in a winning board or not\n",
    "\n",
    "For scoring the board, we keep track of two values: `last_marked` which is the latest number called by the bingo and `score` which is the sum of all unmarked numbers on the board.\n",
    "\n",
    "Custom `__repr__` also gives us a clean and readable output when we print a board. Nice both for presentation and for debugging!"
   ]
  },
  {
   "cell_type": "code",
   "execution_count": 13,
   "id": "0c3cd5a4",
   "metadata": {},
   "outputs": [],
   "source": [
    "class BingoBoard:\n",
    "    \n",
    "    def __init__(self, board):\n",
    "        self.board = board or []\n",
    "        self.last_marked = None\n",
    "        self.finished = False\n",
    "        self.score = 0\n",
    "        for row in board:\n",
    "            for number in row:\n",
    "                self.score += number\n",
    "        \n",
    "    def from_text(text):\n",
    "        text = text.strip()\n",
    "        rows = text.split('\\n')\n",
    "        board = BingoBoard([[int(v) for v in row.split()] for row in rows])\n",
    "        return board\n",
    "        \n",
    "    def mark(self, number):\n",
    "        marked = False\n",
    "        self.last_marked = number\n",
    "        for row in self.board:\n",
    "            if number in row:\n",
    "                row[row.index(number)] = None\n",
    "                marked = True\n",
    "                self.score -= number\n",
    "                return self.check_win()\n",
    "        return False\n",
    "            \n",
    "    def check_win(self):\n",
    "        # check rows\n",
    "        for row in self.board:\n",
    "            unfinished = any([value is not None for value in row])\n",
    "            if not unfinished:\n",
    "                self.finished = True\n",
    "                return True\n",
    "        \n",
    "        # check columns\n",
    "        for index in range(5):\n",
    "            col = [self.board[i][index] for i, _ in enumerate(self.board)]\n",
    "            unfinished = any([value is not None for value in col])\n",
    "            if not unfinished:\n",
    "                self.finished = True\n",
    "                return True\n",
    "\n",
    "        return False\n",
    "    \n",
    "    def final_score(self):\n",
    "        return self.score * self.last_marked\n",
    "    \n",
    "    def __repr__(self):\n",
    "        return '\\n'.join('\\t'.join(str(value if value is not None else \"X\") for value in row) for row in self.board)"
   ]
  },
  {
   "cell_type": "markdown",
   "id": "6c3c8ac4",
   "metadata": {},
   "source": [
    "## Part 1"
   ]
  },
  {
   "cell_type": "code",
   "execution_count": 17,
   "id": "7fc7bafc",
   "metadata": {},
   "outputs": [
    {
     "name": "stdout",
     "output_type": "stream",
     "text": [
      "60\tX\t37\tX\t73\n",
      "80\tX\tX\t30\t64\n",
      "77\tX\tX\t1\t45\n",
      "79\tX\t11\t12\t51\n",
      "25\tX\t68\t67\t61\n",
      "Solution: 11774\n"
     ]
    }
   ],
   "source": [
    "from utils import read_bingo_input\n",
    "\n",
    "numbers, boards = read_bingo_input()\n",
    "bingo_boards = []\n",
    "for board in boards:\n",
    "    bingo_boards.append(BingoBoard.from_text(board))\n",
    "\n",
    "def play_bingo(numbers, bingo_boards):\n",
    "    for number in numbers:\n",
    "        for board in bingo_boards:\n",
    "            finished = board.mark(number)\n",
    "            if finished:\n",
    "                return board\n",
    "\n",
    "result = play_bingo(numbers, bingo_boards)\n",
    "print(result)\n",
    "print(f'Solution: {result.final_score()}')\n",
    "\n",
    "assert result.final_score() == 11774 # Just here to help me notice if refactoring breaks stuff"
   ]
  },
  {
   "cell_type": "markdown",
   "id": "29e7a2b5",
   "metadata": {},
   "source": [
    "## Part 2\n",
    "\n",
    "> On the other hand, it might be wise to try a different strategy: let the giant squid win.\n",
    ">\n",
    ">You aren't sure how many bingo boards a giant squid could play at once, so rather than waste time counting its arms, the safe thing to do is to figure out which board will win last and choose that one. That way, no matter which boards it picks, it will win for sure.\n",
    ">\n",
    ">In the above example, the second board is the last to win, which happens after 13 is eventually called and its middle column is completely marked. If you were to keep playing until this point, the second board would have a sum of unmarked numbers equal to 148 for a final score of 148 * 13 = 1924."
   ]
  },
  {
   "cell_type": "markdown",
   "id": "9b72fa38",
   "metadata": {},
   "source": [
    "Yay, a really straight-forward second part! All I need to do now is keep track of in which order the boards have won, pick the last one and let the squid win 🦑."
   ]
  },
  {
   "cell_type": "code",
   "execution_count": 18,
   "id": "5d66871d",
   "metadata": {},
   "outputs": [
    {
     "name": "stdout",
     "output_type": "stream",
     "text": [
      "X\tX\tX\tX\tX\n",
      "X\tX\tX\tX\t4\n",
      "X\tX\tX\tX\t0\n",
      "X\t54\tX\t82\tX\n",
      "5\tX\tX\tX\tX\n",
      "Solution: 4495\n"
     ]
    }
   ],
   "source": [
    "#Re-reading the inputs to avoid previous round affecting the results\n",
    "\n",
    "numbers, boards = read_bingo_input()\n",
    "bingo_boards = []\n",
    "for board in boards:\n",
    "    bingo_boards.append(BingoBoard.from_text(board))\n",
    "\n",
    "\n",
    "def play_bingo_last(numbers, boards):\n",
    "    winning_boards = []    \n",
    "    for number in numbers:\n",
    "        for board in boards:\n",
    "            if not board.finished:\n",
    "                finished = board.mark(number)\n",
    "                if finished:\n",
    "                    winning_boards.append(board)\n",
    "    return winning_boards[-1]\n",
    "\n",
    "result = play_bingo_last(numbers, bingo_boards)\n",
    "\n",
    "print(result)\n",
    "print(f'Solution: {result.final_score()}')\n",
    "assert result.final_score() == 4495  # Just here to help me notice if refactoring breaks stuff"
   ]
  },
  {
   "cell_type": "markdown",
   "id": "65dc0035",
   "metadata": {},
   "source": [
    "## Wrap up\n",
    "\n",
    "I really liked today's challenge. Parsing the board inputs and creating a structure for it was fun.\n",
    "\n",
    "Reading through some other people's solutions for yesterday and today, I've noticed that people are able to use maths to really simplify the code. I've concluded two things from that:\n",
    "\n",
    "1. I'm not great at math, I could never come up with those solutions.\n",
    "2. It doesn't really matter, I can still write code that solves the puzzles.\n",
    "\n",
    "You don't need to be a mathematician to be a developer!"
   ]
  }
 ],
 "metadata": {
  "kernelspec": {
   "display_name": "Python 3 (ipykernel)",
   "language": "python",
   "name": "python3"
  },
  "language_info": {
   "codemirror_mode": {
    "name": "ipython",
    "version": 3
   },
   "file_extension": ".py",
   "mimetype": "text/x-python",
   "name": "python",
   "nbconvert_exporter": "python",
   "pygments_lexer": "ipython3",
   "version": "3.10.0"
  }
 },
 "nbformat": 4,
 "nbformat_minor": 5
}
