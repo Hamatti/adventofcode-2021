{
 "cells": [
  {
   "cell_type": "markdown",
   "id": "cde77d4c",
   "metadata": {},
   "source": [
    "# Day 4 - Giant Squid\n",
    "\n",
    ">You're already almost 1.5km (almost a mile) below the surface of the ocean, already so deep that you can't see any sunlight. What you can see, however, is a giant squid that has attached itself to the outside of your submarine.\n",
    ">\n",
    ">Maybe it wants to play bingo?\n",
    ">\n",
    ">Bingo is played on a set of boards each consisting of a 5x5 grid of numbers. Numbers are chosen at random, and the chosen number is marked on all boards on which it appears. (Numbers may not appear on all boards.) If all numbers in any row or any column of a board are marked, that board wins. (Diagonals don't count.)\n",
    ">\n",
    ">The submarine has a bingo subsystem to help passengers (currently, you and the giant squid) pass the time. It automatically generates a random order in which to draw numbers and a random set of boards (your puzzle input). For example:\n",
    ">\n",
    "```\n",
    "7,4,9,5,11,17,23,2,0,14,21,24,10,16,13,6,15,25,12,22,18,20,8,19,3,26,1\n",
    "\n",
    "22 13 17 11  0\n",
    " 8  2 23  4 24\n",
    "21  9 14 16  7\n",
    " 6 10  3 18  5\n",
    " 1 12 20 15 19\n",
    "\n",
    " 3 15  0  2 22\n",
    " 9 18 13 17  5\n",
    "19  8  7 25 23\n",
    "20 11 10 24  4\n",
    "14 21 16 12  6\n",
    "\n",
    "14 21 17 24  4\n",
    "10 16 15  9 19\n",
    "18  8 23 26 20\n",
    "22 11 13  6  5\n",
    " 2  0 12  3  7\n",
    "```\n",
    ">\n",
    "> The score of the winning board can now be calculated. Start by finding the sum of all unmarked numbers on that board; in this case, the sum is 188. Then, multiply that sum by the number that was just called when the board won, 24, to get the final score, 188 * 24 = 4512."
   ]
  },
  {
   "cell_type": "markdown",
   "id": "0462cfdf",
   "metadata": {},
   "source": [
    "Let's build a class!\n",
    "\n",
    "Every bingo board should know their own state: numbers in the board, what's marked and what is the state of the game.\n",
    "\n",
    "Whenever a new number is called, we `mark()` it to our board and at the same time, check if that number caused our board to win or not."
   ]
  },
  {
   "cell_type": "code",
   "execution_count": 130,
   "id": "97caba61",
   "metadata": {},
   "outputs": [],
   "source": [
    "class BingoBoard:\n",
    "    \n",
    "    def __init__(self, board):\n",
    "        self.board = board or []\n",
    "        self.last_marked = None\n",
    "        self.finished = False\n",
    "        \n",
    "    def from_text(text):\n",
    "        text = text.strip()\n",
    "        rows = text.split('\\n')\n",
    "        board = BingoBoard([[int(v) for v in row.split()] for row in rows])\n",
    "        return board\n",
    "        \n",
    "    def mark(self, number):\n",
    "        marked = False\n",
    "        self.last_marked = number\n",
    "        for row in self.board:\n",
    "            if number in row:\n",
    "                marked = True\n",
    "                row[row.index(number)] = None\n",
    "        if marked:\n",
    "            return self.check_win()\n",
    "        else:\n",
    "            return False\n",
    "            \n",
    "    def check_win(self):\n",
    "        # check rows\n",
    "        for row in self.board:\n",
    "            unfinished = any([value is not None for value in row])\n",
    "            if not unfinished:\n",
    "                self.finished = True\n",
    "                return True\n",
    "        \n",
    "        # check columns\n",
    "        for index in range(5):\n",
    "            col = [self.board[i][index] for i, _ in enumerate(self.board)]\n",
    "            unfinished = any([value is not None for value in col])\n",
    "            if not unfinished:\n",
    "                self.finished = True\n",
    "                return True\n",
    "\n",
    "        return False\n",
    "    \n",
    "    def calculate_unmarked_sum(self):\n",
    "        sum = 0\n",
    "        for row in self.board:\n",
    "            for value in row:\n",
    "                if value:\n",
    "                    sum += value\n",
    "        return sum\n",
    "    \n",
    "    def final_score(self):\n",
    "        return self.calculate_unmarked_sum() * self.last_marked\n",
    "    \n",
    "    def __repr__(self):\n",
    "        return '\\n'.join('\\t'.join(str(value) for value in row) for row in self.board)"
   ]
  },
  {
   "cell_type": "markdown",
   "id": "a84dc67b",
   "metadata": {},
   "source": [
    "## Part 1"
   ]
  },
  {
   "cell_type": "code",
   "execution_count": 142,
   "id": "fd523fbb",
   "metadata": {},
   "outputs": [
    {
     "name": "stdout",
     "output_type": "stream",
     "text": [
      "60\tNone\t37\tNone\t73\n",
      "80\tNone\tNone\t30\t64\n",
      "77\tNone\tNone\t1\t45\n",
      "79\tNone\t11\t12\t51\n",
      "25\tNone\t68\t67\t61\n",
      "Last called: 14\n",
      "Score: 11774\n"
     ]
    }
   ],
   "source": [
    "from utils import read_bingo_input\n",
    "\n",
    "numbers, boards = read_bingo_input()\n",
    "numbers = [int(n) for n in numbers.split(',')]\n",
    "bingo_boards = []\n",
    "for board in boards:\n",
    "    bingo_boards.append(BingoBoard.from_text(board))\n",
    "\n",
    "def play_bingo(numbers, bingo_boards):\n",
    "    for number in numbers:\n",
    "        for board in bingo_boards:\n",
    "            finished = board.mark(number)\n",
    "            if finished:\n",
    "                return board\n",
    "\n",
    "final = play_bingo(numbers, bingo_boards)\n",
    "print(final)\n",
    "print(f'Last called: {final.last_marked}')\n",
    "print(f'Score: {final.final_score()}')\n",
    "\n",
    "assert final.final_score() == 11774"
   ]
  },
  {
   "cell_type": "markdown",
   "id": "d63c60a6",
   "metadata": {},
   "source": [
    "## Part 2\n",
    "\n",
    "> On the other hand, it might be wise to try a different strategy: let the giant squid win.\n",
    ">\n",
    ">You aren't sure how many bingo boards a giant squid could play at once, so rather than waste time counting its arms, the safe thing to do is to figure out which board will win last and choose that one. That way, no matter which boards it picks, it will win for sure.\n",
    ">\n",
    ">In the above example, the second board is the last to win, which happens after 13 is eventually called and its middle column is completely marked. If you were to keep playing until this point, the second board would have a sum of unmarked numbers equal to 148 for a final score of 148 * 13 = 1924."
   ]
  },
  {
   "cell_type": "code",
   "execution_count": 129,
   "id": "cf0e21b2",
   "metadata": {},
   "outputs": [
    {
     "name": "stdout",
     "output_type": "stream",
     "text": [
      "None\tNone\tNone\tNone\tNone\n",
      "None\tNone\tNone\tNone\t4\n",
      "None\tNone\tNone\tNone\t0\n",
      "None\t54\tNone\t82\tNone\n",
      "5\tNone\tNone\tNone\tNone\n",
      "Solution: 4495\n"
     ]
    }
   ],
   "source": [
    "#Re-reading the inputs to avoid previous round affecting the results\n",
    "\n",
    "numbers, boards = read_bingo_input()\n",
    "numbers = [int(n) for n in numbers.split(',')]\n",
    "bingo_boards = []\n",
    "for board in boards:\n",
    "    bingo_boards.append(BingoBoard.from_text(board))\n",
    "\n",
    "\n",
    "def play_bingo_last(numbers, boards):\n",
    "    winning_boards = []    \n",
    "    for number in numbers:\n",
    "        for board in boards:\n",
    "            if not board.finished:\n",
    "                finished = board.mark(number)\n",
    "                if finished:\n",
    "                    winning_boards.append(board)\n",
    "    return winning_boards[-1]\n",
    "\n",
    "result = play_bingo_last(numbers, bingo_boards)\n",
    "\n",
    "print(result)\n",
    "print(f'Solution: {result.final_score()}')\n",
    "            \n"
   ]
  }
 ],
 "metadata": {
  "kernelspec": {
   "display_name": "Python 3 (ipykernel)",
   "language": "python",
   "name": "python3"
  },
  "language_info": {
   "codemirror_mode": {
    "name": "ipython",
    "version": 3
   },
   "file_extension": ".py",
   "mimetype": "text/x-python",
   "name": "python",
   "nbconvert_exporter": "python",
   "pygments_lexer": "ipython3",
   "version": "3.10.0"
  }
 },
 "nbformat": 4,
 "nbformat_minor": 5
}
